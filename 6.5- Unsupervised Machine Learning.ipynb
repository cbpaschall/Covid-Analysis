{
 "cells": [
  {
   "cell_type": "code",
   "execution_count": 1,
   "id": "36bb6af6",
   "metadata": {},
   "outputs": [],
   "source": [
    "# Import libraries\n",
    "\n",
    "import pandas as pd\n",
    "import numpy as np\n",
    "import matplotlib.pyplot as plt\n",
    "import matplotlib\n",
    "import os\n",
    "import seaborn as sns\n",
    "import scipy\n",
    "import pycountry_convert as pc\n",
    "import folium\n",
    "import json\n",
    "import plotly.express as px\n",
    "import plotly.graph_objects as go\n",
    "import sklearn\n",
    "from sklearn.model_selection import train_test_split \n",
    "from sklearn.linear_model import LinearRegression\n",
    "from sklearn.metrics import mean_squared_error, r2_score\n",
    "from sklearn.cluster import KMeans\n",
    "import pylab as pl"
   ]
  },
  {
   "cell_type": "code",
   "execution_count": 2,
   "id": "2c371e8f",
   "metadata": {},
   "outputs": [],
   "source": [
    "%matplotlib inline"
   ]
  },
  {
   "cell_type": "code",
   "execution_count": 3,
   "id": "5d6edd67",
   "metadata": {},
   "outputs": [],
   "source": [
    "# Creating path\n",
    "path = r'/Users/cameronpaschall/Desktop/Project 6 - Covid'"
   ]
  },
  {
   "cell_type": "code",
   "execution_count": 4,
   "id": "9d55e3e2",
   "metadata": {},
   "outputs": [],
   "source": [
    "# Import covid prepared data set\n",
    "df_cov = pd.read_csv(os.path.join(path, '02 Data', 'Prepared Data', 'Covid Wrangled.csv'), index_col = False)"
   ]
  },
  {
   "cell_type": "code",
   "execution_count": 5,
   "id": "16ef9197",
   "metadata": {},
   "outputs": [],
   "source": [
    "# Import covid continent prepared data set\n",
    "df_cov_cont = pd.read_csv(os.path.join(path, '02 Data', 'Prepared Data', 'Covid Final.csv'), index_col = False)"
   ]
  },
  {
   "cell_type": "code",
   "execution_count": 6,
   "id": "906545fa",
   "metadata": {},
   "outputs": [],
   "source": [
    "## Drop Unnamed Column\n",
    "df_cov = df_cov.drop(columns = ['Unnamed: 0'])"
   ]
  },
  {
   "cell_type": "code",
   "execution_count": 7,
   "id": "3a55617a",
   "metadata": {},
   "outputs": [],
   "source": [
    "## Drop Unnamed Column\n",
    "df_cov_cont = df_cov_cont.drop(columns = ['Unnamed: 0'])"
   ]
  },
  {
   "cell_type": "code",
   "execution_count": 8,
   "id": "c7ac9b0b",
   "metadata": {},
   "outputs": [
    {
     "data": {
      "text/html": [
       "<div>\n",
       "<style scoped>\n",
       "    .dataframe tbody tr th:only-of-type {\n",
       "        vertical-align: middle;\n",
       "    }\n",
       "\n",
       "    .dataframe tbody tr th {\n",
       "        vertical-align: top;\n",
       "    }\n",
       "\n",
       "    .dataframe thead th {\n",
       "        text-align: right;\n",
       "    }\n",
       "</style>\n",
       "<table border=\"1\" class=\"dataframe\">\n",
       "  <thead>\n",
       "    <tr style=\"text-align: right;\">\n",
       "      <th></th>\n",
       "      <th>Code</th>\n",
       "      <th>Country</th>\n",
       "      <th>Date</th>\n",
       "      <th>Total_Cases</th>\n",
       "      <th>Total_Deaths</th>\n",
       "      <th>Stringency_Index</th>\n",
       "      <th>Population</th>\n",
       "      <th>Gdp_Per_Capita</th>\n",
       "      <th>Human_Dev_Index</th>\n",
       "    </tr>\n",
       "  </thead>\n",
       "  <tbody>\n",
       "    <tr>\n",
       "      <th>0</th>\n",
       "      <td>AFG</td>\n",
       "      <td>Afghanistan</td>\n",
       "      <td>2019-12-31</td>\n",
       "      <td>0.0</td>\n",
       "      <td>0.0</td>\n",
       "      <td>0.0</td>\n",
       "      <td>38928341</td>\n",
       "      <td>1803.987</td>\n",
       "      <td>0.498</td>\n",
       "    </tr>\n",
       "    <tr>\n",
       "      <th>1</th>\n",
       "      <td>AFG</td>\n",
       "      <td>Afghanistan</td>\n",
       "      <td>2020-01-01</td>\n",
       "      <td>0.0</td>\n",
       "      <td>0.0</td>\n",
       "      <td>0.0</td>\n",
       "      <td>38928341</td>\n",
       "      <td>1803.987</td>\n",
       "      <td>0.498</td>\n",
       "    </tr>\n",
       "    <tr>\n",
       "      <th>2</th>\n",
       "      <td>AFG</td>\n",
       "      <td>Afghanistan</td>\n",
       "      <td>2020-01-02</td>\n",
       "      <td>0.0</td>\n",
       "      <td>0.0</td>\n",
       "      <td>0.0</td>\n",
       "      <td>38928341</td>\n",
       "      <td>1803.987</td>\n",
       "      <td>0.498</td>\n",
       "    </tr>\n",
       "    <tr>\n",
       "      <th>3</th>\n",
       "      <td>AFG</td>\n",
       "      <td>Afghanistan</td>\n",
       "      <td>2020-01-03</td>\n",
       "      <td>0.0</td>\n",
       "      <td>0.0</td>\n",
       "      <td>0.0</td>\n",
       "      <td>38928341</td>\n",
       "      <td>1803.987</td>\n",
       "      <td>0.498</td>\n",
       "    </tr>\n",
       "    <tr>\n",
       "      <th>4</th>\n",
       "      <td>AFG</td>\n",
       "      <td>Afghanistan</td>\n",
       "      <td>2020-01-04</td>\n",
       "      <td>0.0</td>\n",
       "      <td>0.0</td>\n",
       "      <td>0.0</td>\n",
       "      <td>38928341</td>\n",
       "      <td>1803.987</td>\n",
       "      <td>0.498</td>\n",
       "    </tr>\n",
       "  </tbody>\n",
       "</table>\n",
       "</div>"
      ],
      "text/plain": [
       "  Code      Country        Date  Total_Cases  Total_Deaths  Stringency_Index  \\\n",
       "0  AFG  Afghanistan  2019-12-31          0.0           0.0               0.0   \n",
       "1  AFG  Afghanistan  2020-01-01          0.0           0.0               0.0   \n",
       "2  AFG  Afghanistan  2020-01-02          0.0           0.0               0.0   \n",
       "3  AFG  Afghanistan  2020-01-03          0.0           0.0               0.0   \n",
       "4  AFG  Afghanistan  2020-01-04          0.0           0.0               0.0   \n",
       "\n",
       "   Population  Gdp_Per_Capita  Human_Dev_Index  \n",
       "0    38928341        1803.987            0.498  \n",
       "1    38928341        1803.987            0.498  \n",
       "2    38928341        1803.987            0.498  \n",
       "3    38928341        1803.987            0.498  \n",
       "4    38928341        1803.987            0.498  "
      ]
     },
     "execution_count": 8,
     "metadata": {},
     "output_type": "execute_result"
    }
   ],
   "source": [
    "df_cov.head()"
   ]
  },
  {
   "cell_type": "code",
   "execution_count": 9,
   "id": "be5d6dc3",
   "metadata": {},
   "outputs": [
    {
     "data": {
      "text/html": [
       "<div>\n",
       "<style scoped>\n",
       "    .dataframe tbody tr th:only-of-type {\n",
       "        vertical-align: middle;\n",
       "    }\n",
       "\n",
       "    .dataframe tbody tr th {\n",
       "        vertical-align: top;\n",
       "    }\n",
       "\n",
       "    .dataframe thead th {\n",
       "        text-align: right;\n",
       "    }\n",
       "</style>\n",
       "<table border=\"1\" class=\"dataframe\">\n",
       "  <thead>\n",
       "    <tr style=\"text-align: right;\">\n",
       "      <th></th>\n",
       "      <th>Code</th>\n",
       "      <th>Country</th>\n",
       "      <th>Population</th>\n",
       "      <th>Total_Cases</th>\n",
       "      <th>Total_Deaths</th>\n",
       "      <th>Human_Dev_Index</th>\n",
       "      <th>Gdp_Per_Capita</th>\n",
       "      <th>Stringency_Index</th>\n",
       "      <th>Continent</th>\n",
       "    </tr>\n",
       "  </thead>\n",
       "  <tbody>\n",
       "    <tr>\n",
       "      <th>0</th>\n",
       "      <td>AFG</td>\n",
       "      <td>Afghanistan</td>\n",
       "      <td>38928341</td>\n",
       "      <td>5126433.0</td>\n",
       "      <td>165875.0</td>\n",
       "      <td>0.50</td>\n",
       "      <td>1803.99</td>\n",
       "      <td>46.80</td>\n",
       "      <td>Asia</td>\n",
       "    </tr>\n",
       "    <tr>\n",
       "      <th>1</th>\n",
       "      <td>ALB</td>\n",
       "      <td>Albania</td>\n",
       "      <td>2877800</td>\n",
       "      <td>1071951.0</td>\n",
       "      <td>31056.0</td>\n",
       "      <td>0.60</td>\n",
       "      <td>9033.24</td>\n",
       "      <td>48.63</td>\n",
       "      <td>Europe</td>\n",
       "    </tr>\n",
       "    <tr>\n",
       "      <th>2</th>\n",
       "      <td>DZA</td>\n",
       "      <td>Algeria</td>\n",
       "      <td>43851043</td>\n",
       "      <td>4893999.0</td>\n",
       "      <td>206429.0</td>\n",
       "      <td>0.75</td>\n",
       "      <td>13913.84</td>\n",
       "      <td>55.05</td>\n",
       "      <td>Africa</td>\n",
       "    </tr>\n",
       "    <tr>\n",
       "      <th>3</th>\n",
       "      <td>AND</td>\n",
       "      <td>Andorra</td>\n",
       "      <td>77265</td>\n",
       "      <td>223576.0</td>\n",
       "      <td>9850.0</td>\n",
       "      <td>0.66</td>\n",
       "      <td>0.00</td>\n",
       "      <td>31.29</td>\n",
       "      <td>Europe</td>\n",
       "    </tr>\n",
       "    <tr>\n",
       "      <th>4</th>\n",
       "      <td>AGO</td>\n",
       "      <td>Angola</td>\n",
       "      <td>32866268</td>\n",
       "      <td>304005.0</td>\n",
       "      <td>11820.0</td>\n",
       "      <td>0.42</td>\n",
       "      <td>4196.37</td>\n",
       "      <td>53.22</td>\n",
       "      <td>Africa</td>\n",
       "    </tr>\n",
       "  </tbody>\n",
       "</table>\n",
       "</div>"
      ],
      "text/plain": [
       "  Code      Country  Population  Total_Cases  Total_Deaths  Human_Dev_Index  \\\n",
       "0  AFG  Afghanistan    38928341    5126433.0      165875.0             0.50   \n",
       "1  ALB      Albania     2877800    1071951.0       31056.0             0.60   \n",
       "2  DZA      Algeria    43851043    4893999.0      206429.0             0.75   \n",
       "3  AND      Andorra       77265     223576.0        9850.0             0.66   \n",
       "4  AGO       Angola    32866268     304005.0       11820.0             0.42   \n",
       "\n",
       "   Gdp_Per_Capita  Stringency_Index Continent  \n",
       "0         1803.99             46.80      Asia  \n",
       "1         9033.24             48.63    Europe  \n",
       "2        13913.84             55.05    Africa  \n",
       "3            0.00             31.29    Europe  \n",
       "4         4196.37             53.22    Africa  "
      ]
     },
     "execution_count": 9,
     "metadata": {},
     "output_type": "execute_result"
    }
   ],
   "source": [
    "df_cov_cont.head()"
   ]
  },
  {
   "cell_type": "code",
   "execution_count": 10,
   "id": "2bda1f6e",
   "metadata": {},
   "outputs": [
    {
     "data": {
      "text/plain": [
       "Code                 object\n",
       "Country              object\n",
       "Population            int64\n",
       "Total_Cases         float64\n",
       "Total_Deaths        float64\n",
       "Human_Dev_Index     float64\n",
       "Gdp_Per_Capita      float64\n",
       "Stringency_Index    float64\n",
       "Continent            object\n",
       "dtype: object"
      ]
     },
     "execution_count": 10,
     "metadata": {},
     "output_type": "execute_result"
    }
   ],
   "source": [
    "df_cov_cont.dtypes"
   ]
  },
  {
   "cell_type": "markdown",
   "id": "427c209d",
   "metadata": {},
   "source": [
    "# Elbow Technique"
   ]
  },
  {
   "cell_type": "code",
   "execution_count": 11,
   "id": "9872a2a4",
   "metadata": {},
   "outputs": [
    {
     "data": {
      "text/html": [
       "<div>\n",
       "<style scoped>\n",
       "    .dataframe tbody tr th:only-of-type {\n",
       "        vertical-align: middle;\n",
       "    }\n",
       "\n",
       "    .dataframe tbody tr th {\n",
       "        vertical-align: top;\n",
       "    }\n",
       "\n",
       "    .dataframe thead th {\n",
       "        text-align: right;\n",
       "    }\n",
       "</style>\n",
       "<table border=\"1\" class=\"dataframe\">\n",
       "  <thead>\n",
       "    <tr style=\"text-align: right;\">\n",
       "      <th></th>\n",
       "      <th>Code</th>\n",
       "      <th>Country</th>\n",
       "      <th>Continent</th>\n",
       "    </tr>\n",
       "  </thead>\n",
       "  <tbody>\n",
       "    <tr>\n",
       "      <th>0</th>\n",
       "      <td>AFG</td>\n",
       "      <td>Afghanistan</td>\n",
       "      <td>Asia</td>\n",
       "    </tr>\n",
       "    <tr>\n",
       "      <th>1</th>\n",
       "      <td>ALB</td>\n",
       "      <td>Albania</td>\n",
       "      <td>Europe</td>\n",
       "    </tr>\n",
       "    <tr>\n",
       "      <th>2</th>\n",
       "      <td>DZA</td>\n",
       "      <td>Algeria</td>\n",
       "      <td>Africa</td>\n",
       "    </tr>\n",
       "    <tr>\n",
       "      <th>3</th>\n",
       "      <td>AND</td>\n",
       "      <td>Andorra</td>\n",
       "      <td>Europe</td>\n",
       "    </tr>\n",
       "    <tr>\n",
       "      <th>4</th>\n",
       "      <td>AGO</td>\n",
       "      <td>Angola</td>\n",
       "      <td>Africa</td>\n",
       "    </tr>\n",
       "  </tbody>\n",
       "</table>\n",
       "</div>"
      ],
      "text/plain": [
       "  Code      Country Continent\n",
       "0  AFG  Afghanistan      Asia\n",
       "1  ALB      Albania    Europe\n",
       "2  DZA      Algeria    Africa\n",
       "3  AND      Andorra    Europe\n",
       "4  AGO       Angola    Africa"
      ]
     },
     "execution_count": 11,
     "metadata": {},
     "output_type": "execute_result"
    }
   ],
   "source": [
    "obj_df = df_cov_cont.select_dtypes(include=['object']).copy()\n",
    "obj_df.head()"
   ]
  },
  {
   "cell_type": "code",
   "execution_count": 12,
   "id": "5229b2ae",
   "metadata": {},
   "outputs": [
    {
     "data": {
      "text/plain": [
       "Code           object\n",
       "Country      category\n",
       "Continent      object\n",
       "dtype: object"
      ]
     },
     "execution_count": 12,
     "metadata": {},
     "output_type": "execute_result"
    }
   ],
   "source": [
    "obj_df[\"Country\"] = obj_df[\"Country\"].astype('category')\n",
    "obj_df.dtypes"
   ]
  },
  {
   "cell_type": "code",
   "execution_count": 13,
   "id": "2171436a",
   "metadata": {},
   "outputs": [
    {
     "data": {
      "text/html": [
       "<div>\n",
       "<style scoped>\n",
       "    .dataframe tbody tr th:only-of-type {\n",
       "        vertical-align: middle;\n",
       "    }\n",
       "\n",
       "    .dataframe tbody tr th {\n",
       "        vertical-align: top;\n",
       "    }\n",
       "\n",
       "    .dataframe thead th {\n",
       "        text-align: right;\n",
       "    }\n",
       "</style>\n",
       "<table border=\"1\" class=\"dataframe\">\n",
       "  <thead>\n",
       "    <tr style=\"text-align: right;\">\n",
       "      <th></th>\n",
       "      <th>Code</th>\n",
       "      <th>Country</th>\n",
       "      <th>Continent</th>\n",
       "      <th>country_cat</th>\n",
       "    </tr>\n",
       "  </thead>\n",
       "  <tbody>\n",
       "    <tr>\n",
       "      <th>0</th>\n",
       "      <td>AFG</td>\n",
       "      <td>Afghanistan</td>\n",
       "      <td>Asia</td>\n",
       "      <td>0</td>\n",
       "    </tr>\n",
       "    <tr>\n",
       "      <th>1</th>\n",
       "      <td>ALB</td>\n",
       "      <td>Albania</td>\n",
       "      <td>Europe</td>\n",
       "      <td>1</td>\n",
       "    </tr>\n",
       "    <tr>\n",
       "      <th>2</th>\n",
       "      <td>DZA</td>\n",
       "      <td>Algeria</td>\n",
       "      <td>Africa</td>\n",
       "      <td>2</td>\n",
       "    </tr>\n",
       "    <tr>\n",
       "      <th>3</th>\n",
       "      <td>AND</td>\n",
       "      <td>Andorra</td>\n",
       "      <td>Europe</td>\n",
       "      <td>3</td>\n",
       "    </tr>\n",
       "    <tr>\n",
       "      <th>4</th>\n",
       "      <td>AGO</td>\n",
       "      <td>Angola</td>\n",
       "      <td>Africa</td>\n",
       "      <td>4</td>\n",
       "    </tr>\n",
       "  </tbody>\n",
       "</table>\n",
       "</div>"
      ],
      "text/plain": [
       "  Code      Country Continent  country_cat\n",
       "0  AFG  Afghanistan      Asia            0\n",
       "1  ALB      Albania    Europe            1\n",
       "2  DZA      Algeria    Africa            2\n",
       "3  AND      Andorra    Europe            3\n",
       "4  AGO       Angola    Africa            4"
      ]
     },
     "execution_count": 13,
     "metadata": {},
     "output_type": "execute_result"
    }
   ],
   "source": [
    "## Creating country category column\n",
    "\n",
    "obj_df[\"country_cat\"] = obj_df[\"Country\"].cat.codes\n",
    "obj_df.head()"
   ]
  },
  {
   "cell_type": "code",
   "execution_count": 14,
   "id": "9a50eb24",
   "metadata": {},
   "outputs": [
    {
     "data": {
      "text/plain": [
       "Code             object\n",
       "Country        category\n",
       "Continent      category\n",
       "country_cat       int16\n",
       "dtype: object"
      ]
     },
     "execution_count": 14,
     "metadata": {},
     "output_type": "execute_result"
    }
   ],
   "source": [
    "obj_df[\"Continent\"] = obj_df[\"Continent\"].astype('category')\n",
    "obj_df.dtypes"
   ]
  },
  {
   "cell_type": "code",
   "execution_count": 15,
   "id": "477dc848",
   "metadata": {},
   "outputs": [
    {
     "data": {
      "text/html": [
       "<div>\n",
       "<style scoped>\n",
       "    .dataframe tbody tr th:only-of-type {\n",
       "        vertical-align: middle;\n",
       "    }\n",
       "\n",
       "    .dataframe tbody tr th {\n",
       "        vertical-align: top;\n",
       "    }\n",
       "\n",
       "    .dataframe thead th {\n",
       "        text-align: right;\n",
       "    }\n",
       "</style>\n",
       "<table border=\"1\" class=\"dataframe\">\n",
       "  <thead>\n",
       "    <tr style=\"text-align: right;\">\n",
       "      <th></th>\n",
       "      <th>Code</th>\n",
       "      <th>Country</th>\n",
       "      <th>Continent</th>\n",
       "      <th>country_cat</th>\n",
       "      <th>continent_cat</th>\n",
       "    </tr>\n",
       "  </thead>\n",
       "  <tbody>\n",
       "    <tr>\n",
       "      <th>0</th>\n",
       "      <td>AFG</td>\n",
       "      <td>Afghanistan</td>\n",
       "      <td>Asia</td>\n",
       "      <td>0</td>\n",
       "      <td>1</td>\n",
       "    </tr>\n",
       "    <tr>\n",
       "      <th>1</th>\n",
       "      <td>ALB</td>\n",
       "      <td>Albania</td>\n",
       "      <td>Europe</td>\n",
       "      <td>1</td>\n",
       "      <td>2</td>\n",
       "    </tr>\n",
       "    <tr>\n",
       "      <th>2</th>\n",
       "      <td>DZA</td>\n",
       "      <td>Algeria</td>\n",
       "      <td>Africa</td>\n",
       "      <td>2</td>\n",
       "      <td>0</td>\n",
       "    </tr>\n",
       "    <tr>\n",
       "      <th>3</th>\n",
       "      <td>AND</td>\n",
       "      <td>Andorra</td>\n",
       "      <td>Europe</td>\n",
       "      <td>3</td>\n",
       "      <td>2</td>\n",
       "    </tr>\n",
       "    <tr>\n",
       "      <th>4</th>\n",
       "      <td>AGO</td>\n",
       "      <td>Angola</td>\n",
       "      <td>Africa</td>\n",
       "      <td>4</td>\n",
       "      <td>0</td>\n",
       "    </tr>\n",
       "  </tbody>\n",
       "</table>\n",
       "</div>"
      ],
      "text/plain": [
       "  Code      Country Continent  country_cat  continent_cat\n",
       "0  AFG  Afghanistan      Asia            0              1\n",
       "1  ALB      Albania    Europe            1              2\n",
       "2  DZA      Algeria    Africa            2              0\n",
       "3  AND      Andorra    Europe            3              2\n",
       "4  AGO       Angola    Africa            4              0"
      ]
     },
     "execution_count": 15,
     "metadata": {},
     "output_type": "execute_result"
    }
   ],
   "source": [
    "## Creating continent category column\n",
    "\n",
    "obj_df[\"continent_cat\"] = obj_df[\"Continent\"].cat.codes\n",
    "obj_df.head()"
   ]
  },
  {
   "cell_type": "code",
   "execution_count": 21,
   "id": "61491b98",
   "metadata": {},
   "outputs": [
    {
     "data": {
      "text/html": [
       "<div>\n",
       "<style scoped>\n",
       "    .dataframe tbody tr th:only-of-type {\n",
       "        vertical-align: middle;\n",
       "    }\n",
       "\n",
       "    .dataframe tbody tr th {\n",
       "        vertical-align: top;\n",
       "    }\n",
       "\n",
       "    .dataframe thead th {\n",
       "        text-align: right;\n",
       "    }\n",
       "</style>\n",
       "<table border=\"1\" class=\"dataframe\">\n",
       "  <thead>\n",
       "    <tr style=\"text-align: right;\">\n",
       "      <th></th>\n",
       "      <th>Code</th>\n",
       "      <th>Country</th>\n",
       "      <th>Population</th>\n",
       "      <th>Total_Cases</th>\n",
       "      <th>Total_Deaths</th>\n",
       "      <th>Human_Dev_Index</th>\n",
       "      <th>Gdp_Per_Capita</th>\n",
       "      <th>Stringency_Index</th>\n",
       "      <th>Continent</th>\n",
       "    </tr>\n",
       "  </thead>\n",
       "  <tbody>\n",
       "    <tr>\n",
       "      <th>0</th>\n",
       "      <td>AFG</td>\n",
       "      <td>Afghanistan</td>\n",
       "      <td>38928341</td>\n",
       "      <td>5126433.0</td>\n",
       "      <td>165875.0</td>\n",
       "      <td>0.50</td>\n",
       "      <td>1803.99</td>\n",
       "      <td>46.80</td>\n",
       "      <td>Asia</td>\n",
       "    </tr>\n",
       "    <tr>\n",
       "      <th>1</th>\n",
       "      <td>ALB</td>\n",
       "      <td>Albania</td>\n",
       "      <td>2877800</td>\n",
       "      <td>1071951.0</td>\n",
       "      <td>31056.0</td>\n",
       "      <td>0.60</td>\n",
       "      <td>9033.24</td>\n",
       "      <td>48.63</td>\n",
       "      <td>Europe</td>\n",
       "    </tr>\n",
       "    <tr>\n",
       "      <th>2</th>\n",
       "      <td>DZA</td>\n",
       "      <td>Algeria</td>\n",
       "      <td>43851043</td>\n",
       "      <td>4893999.0</td>\n",
       "      <td>206429.0</td>\n",
       "      <td>0.75</td>\n",
       "      <td>13913.84</td>\n",
       "      <td>55.05</td>\n",
       "      <td>Africa</td>\n",
       "    </tr>\n",
       "    <tr>\n",
       "      <th>3</th>\n",
       "      <td>AND</td>\n",
       "      <td>Andorra</td>\n",
       "      <td>77265</td>\n",
       "      <td>223576.0</td>\n",
       "      <td>9850.0</td>\n",
       "      <td>0.66</td>\n",
       "      <td>0.00</td>\n",
       "      <td>31.29</td>\n",
       "      <td>Europe</td>\n",
       "    </tr>\n",
       "    <tr>\n",
       "      <th>4</th>\n",
       "      <td>AGO</td>\n",
       "      <td>Angola</td>\n",
       "      <td>32866268</td>\n",
       "      <td>304005.0</td>\n",
       "      <td>11820.0</td>\n",
       "      <td>0.42</td>\n",
       "      <td>4196.37</td>\n",
       "      <td>53.22</td>\n",
       "      <td>Africa</td>\n",
       "    </tr>\n",
       "  </tbody>\n",
       "</table>\n",
       "</div>"
      ],
      "text/plain": [
       "  Code      Country  Population  Total_Cases  Total_Deaths  Human_Dev_Index  \\\n",
       "0  AFG  Afghanistan    38928341    5126433.0      165875.0             0.50   \n",
       "1  ALB      Albania     2877800    1071951.0       31056.0             0.60   \n",
       "2  DZA      Algeria    43851043    4893999.0      206429.0             0.75   \n",
       "3  AND      Andorra       77265     223576.0        9850.0             0.66   \n",
       "4  AGO       Angola    32866268     304005.0       11820.0             0.42   \n",
       "\n",
       "   Gdp_Per_Capita  Stringency_Index Continent  \n",
       "0         1803.99             46.80      Asia  \n",
       "1         9033.24             48.63    Europe  \n",
       "2        13913.84             55.05    Africa  \n",
       "3            0.00             31.29    Europe  \n",
       "4         4196.37             53.22    Africa  "
      ]
     },
     "execution_count": 21,
     "metadata": {},
     "output_type": "execute_result"
    }
   ],
   "source": [
    "df_cov_cont.head()"
   ]
  },
  {
   "cell_type": "code",
   "execution_count": 24,
   "id": "af8b5d53",
   "metadata": {},
   "outputs": [
    {
     "name": "stdout",
     "output_type": "stream",
     "text": [
      "column to added from first dataframe to second:\n"
     ]
    },
    {
     "data": {
      "text/plain": [
       "0        0\n",
       "1        1\n",
       "2        2\n",
       "3        3\n",
       "4        4\n",
       "      ... \n",
       "204    204\n",
       "205    205\n",
       "206    206\n",
       "207    207\n",
       "208    208\n",
       "Name: country_cat, Length: 209, dtype: int16"
      ]
     },
     "metadata": {},
     "output_type": "display_data"
    },
    {
     "name": "stdout",
     "output_type": "stream",
     "text": [
      "Second dataframe after adding column from first dataframe:\n"
     ]
    },
    {
     "data": {
      "text/html": [
       "<div>\n",
       "<style scoped>\n",
       "    .dataframe tbody tr th:only-of-type {\n",
       "        vertical-align: middle;\n",
       "    }\n",
       "\n",
       "    .dataframe tbody tr th {\n",
       "        vertical-align: top;\n",
       "    }\n",
       "\n",
       "    .dataframe thead th {\n",
       "        text-align: right;\n",
       "    }\n",
       "</style>\n",
       "<table border=\"1\" class=\"dataframe\">\n",
       "  <thead>\n",
       "    <tr style=\"text-align: right;\">\n",
       "      <th></th>\n",
       "      <th>Code</th>\n",
       "      <th>country_cat</th>\n",
       "      <th>Country</th>\n",
       "      <th>Population</th>\n",
       "      <th>Total_Cases</th>\n",
       "      <th>Total_Deaths</th>\n",
       "      <th>Human_Dev_Index</th>\n",
       "      <th>Gdp_Per_Capita</th>\n",
       "      <th>Stringency_Index</th>\n",
       "      <th>Continent</th>\n",
       "    </tr>\n",
       "  </thead>\n",
       "  <tbody>\n",
       "    <tr>\n",
       "      <th>0</th>\n",
       "      <td>AFG</td>\n",
       "      <td>0</td>\n",
       "      <td>Afghanistan</td>\n",
       "      <td>38928341</td>\n",
       "      <td>5126433.0</td>\n",
       "      <td>165875.0</td>\n",
       "      <td>0.50</td>\n",
       "      <td>1803.99</td>\n",
       "      <td>46.80</td>\n",
       "      <td>Asia</td>\n",
       "    </tr>\n",
       "    <tr>\n",
       "      <th>1</th>\n",
       "      <td>ALB</td>\n",
       "      <td>1</td>\n",
       "      <td>Albania</td>\n",
       "      <td>2877800</td>\n",
       "      <td>1071951.0</td>\n",
       "      <td>31056.0</td>\n",
       "      <td>0.60</td>\n",
       "      <td>9033.24</td>\n",
       "      <td>48.63</td>\n",
       "      <td>Europe</td>\n",
       "    </tr>\n",
       "    <tr>\n",
       "      <th>2</th>\n",
       "      <td>DZA</td>\n",
       "      <td>2</td>\n",
       "      <td>Algeria</td>\n",
       "      <td>43851043</td>\n",
       "      <td>4893999.0</td>\n",
       "      <td>206429.0</td>\n",
       "      <td>0.75</td>\n",
       "      <td>13913.84</td>\n",
       "      <td>55.05</td>\n",
       "      <td>Africa</td>\n",
       "    </tr>\n",
       "    <tr>\n",
       "      <th>3</th>\n",
       "      <td>AND</td>\n",
       "      <td>3</td>\n",
       "      <td>Andorra</td>\n",
       "      <td>77265</td>\n",
       "      <td>223576.0</td>\n",
       "      <td>9850.0</td>\n",
       "      <td>0.66</td>\n",
       "      <td>0.00</td>\n",
       "      <td>31.29</td>\n",
       "      <td>Europe</td>\n",
       "    </tr>\n",
       "    <tr>\n",
       "      <th>4</th>\n",
       "      <td>AGO</td>\n",
       "      <td>4</td>\n",
       "      <td>Angola</td>\n",
       "      <td>32866268</td>\n",
       "      <td>304005.0</td>\n",
       "      <td>11820.0</td>\n",
       "      <td>0.42</td>\n",
       "      <td>4196.37</td>\n",
       "      <td>53.22</td>\n",
       "      <td>Africa</td>\n",
       "    </tr>\n",
       "    <tr>\n",
       "      <th>...</th>\n",
       "      <td>...</td>\n",
       "      <td>...</td>\n",
       "      <td>...</td>\n",
       "      <td>...</td>\n",
       "      <td>...</td>\n",
       "      <td>...</td>\n",
       "      <td>...</td>\n",
       "      <td>...</td>\n",
       "      <td>...</td>\n",
       "      <td>...</td>\n",
       "    </tr>\n",
       "    <tr>\n",
       "      <th>204</th>\n",
       "      <td>VEN</td>\n",
       "      <td>204</td>\n",
       "      <td>Venezuela</td>\n",
       "      <td>28435943</td>\n",
       "      <td>4839834.0</td>\n",
       "      <td>40840.0</td>\n",
       "      <td>0.57</td>\n",
       "      <td>12473.33</td>\n",
       "      <td>61.12</td>\n",
       "      <td>South America</td>\n",
       "    </tr>\n",
       "    <tr>\n",
       "      <th>205</th>\n",
       "      <td>VNM</td>\n",
       "      <td>205</td>\n",
       "      <td>Vietnam</td>\n",
       "      <td>97338583</td>\n",
       "      <td>122618.0</td>\n",
       "      <td>2318.0</td>\n",
       "      <td>0.69</td>\n",
       "      <td>6171.88</td>\n",
       "      <td>56.42</td>\n",
       "      <td>Asia</td>\n",
       "    </tr>\n",
       "    <tr>\n",
       "      <th>206</th>\n",
       "      <td>YEM</td>\n",
       "      <td>206</td>\n",
       "      <td>Yemen</td>\n",
       "      <td>29825968</td>\n",
       "      <td>228925.0</td>\n",
       "      <td>64304.0</td>\n",
       "      <td>0.30</td>\n",
       "      <td>971.00</td>\n",
       "      <td>27.80</td>\n",
       "      <td>Asia</td>\n",
       "    </tr>\n",
       "    <tr>\n",
       "      <th>207</th>\n",
       "      <td>ZMB</td>\n",
       "      <td>207</td>\n",
       "      <td>Zambia</td>\n",
       "      <td>18383956</td>\n",
       "      <td>1129913.0</td>\n",
       "      <td>26475.0</td>\n",
       "      <td>0.43</td>\n",
       "      <td>2697.92</td>\n",
       "      <td>33.29</td>\n",
       "      <td>Africa</td>\n",
       "    </tr>\n",
       "    <tr>\n",
       "      <th>208</th>\n",
       "      <td>ZWE</td>\n",
       "      <td>208</td>\n",
       "      <td>Zimbabwe</td>\n",
       "      <td>14862927</td>\n",
       "      <td>593699.0</td>\n",
       "      <td>15984.0</td>\n",
       "      <td>0.39</td>\n",
       "      <td>1376.37</td>\n",
       "      <td>57.36</td>\n",
       "      <td>Africa</td>\n",
       "    </tr>\n",
       "  </tbody>\n",
       "</table>\n",
       "<p>209 rows × 10 columns</p>\n",
       "</div>"
      ],
      "text/plain": [
       "    Code  country_cat      Country  Population  Total_Cases  Total_Deaths  \\\n",
       "0    AFG            0  Afghanistan    38928341    5126433.0      165875.0   \n",
       "1    ALB            1      Albania     2877800    1071951.0       31056.0   \n",
       "2    DZA            2      Algeria    43851043    4893999.0      206429.0   \n",
       "3    AND            3      Andorra       77265     223576.0        9850.0   \n",
       "4    AGO            4       Angola    32866268     304005.0       11820.0   \n",
       "..   ...          ...          ...         ...          ...           ...   \n",
       "204  VEN          204    Venezuela    28435943    4839834.0       40840.0   \n",
       "205  VNM          205      Vietnam    97338583     122618.0        2318.0   \n",
       "206  YEM          206        Yemen    29825968     228925.0       64304.0   \n",
       "207  ZMB          207       Zambia    18383956    1129913.0       26475.0   \n",
       "208  ZWE          208     Zimbabwe    14862927     593699.0       15984.0   \n",
       "\n",
       "     Human_Dev_Index  Gdp_Per_Capita  Stringency_Index      Continent  \n",
       "0               0.50         1803.99             46.80           Asia  \n",
       "1               0.60         9033.24             48.63         Europe  \n",
       "2               0.75        13913.84             55.05         Africa  \n",
       "3               0.66            0.00             31.29         Europe  \n",
       "4               0.42         4196.37             53.22         Africa  \n",
       "..               ...             ...               ...            ...  \n",
       "204             0.57        12473.33             61.12  South America  \n",
       "205             0.69         6171.88             56.42           Asia  \n",
       "206             0.30          971.00             27.80           Asia  \n",
       "207             0.43         2697.92             33.29         Africa  \n",
       "208             0.39         1376.37             57.36         Africa  \n",
       "\n",
       "[209 rows x 10 columns]"
      ]
     },
     "metadata": {},
     "output_type": "display_data"
    }
   ],
   "source": [
    "## Adding country_cat column to the original DF\n",
    "\n",
    "extracted_col1 = obj_df[\"country_cat\"]\n",
    "print(\"column to added from first dataframe to second:\")\n",
    "display(extracted_col1)\n",
    "  \n",
    "df_cov_cont.insert(1, \"country_cat\", extracted_col1)\n",
    "print(\"Second dataframe after adding column from first dataframe:\")\n",
    "display(df_cov_cont)"
   ]
  },
  {
   "cell_type": "code",
   "execution_count": 26,
   "id": "0dde50a8",
   "metadata": {},
   "outputs": [
    {
     "name": "stdout",
     "output_type": "stream",
     "text": [
      "column to added from first dataframe to second:\n"
     ]
    },
    {
     "data": {
      "text/plain": [
       "0      1\n",
       "1      2\n",
       "2      0\n",
       "3      2\n",
       "4      0\n",
       "      ..\n",
       "204    5\n",
       "205    1\n",
       "206    1\n",
       "207    0\n",
       "208    0\n",
       "Name: continent_cat, Length: 209, dtype: int8"
      ]
     },
     "metadata": {},
     "output_type": "display_data"
    },
    {
     "name": "stdout",
     "output_type": "stream",
     "text": [
      "Second dataframe after adding column from first dataframe:\n"
     ]
    },
    {
     "data": {
      "text/html": [
       "<div>\n",
       "<style scoped>\n",
       "    .dataframe tbody tr th:only-of-type {\n",
       "        vertical-align: middle;\n",
       "    }\n",
       "\n",
       "    .dataframe tbody tr th {\n",
       "        vertical-align: top;\n",
       "    }\n",
       "\n",
       "    .dataframe thead th {\n",
       "        text-align: right;\n",
       "    }\n",
       "</style>\n",
       "<table border=\"1\" class=\"dataframe\">\n",
       "  <thead>\n",
       "    <tr style=\"text-align: right;\">\n",
       "      <th></th>\n",
       "      <th>Code</th>\n",
       "      <th>continent_cat</th>\n",
       "      <th>country_cat</th>\n",
       "      <th>Country</th>\n",
       "      <th>Population</th>\n",
       "      <th>Total_Cases</th>\n",
       "      <th>Total_Deaths</th>\n",
       "      <th>Human_Dev_Index</th>\n",
       "      <th>Gdp_Per_Capita</th>\n",
       "      <th>Stringency_Index</th>\n",
       "      <th>Continent</th>\n",
       "    </tr>\n",
       "  </thead>\n",
       "  <tbody>\n",
       "    <tr>\n",
       "      <th>0</th>\n",
       "      <td>AFG</td>\n",
       "      <td>1</td>\n",
       "      <td>0</td>\n",
       "      <td>Afghanistan</td>\n",
       "      <td>38928341</td>\n",
       "      <td>5126433.0</td>\n",
       "      <td>165875.0</td>\n",
       "      <td>0.50</td>\n",
       "      <td>1803.99</td>\n",
       "      <td>46.80</td>\n",
       "      <td>Asia</td>\n",
       "    </tr>\n",
       "    <tr>\n",
       "      <th>1</th>\n",
       "      <td>ALB</td>\n",
       "      <td>2</td>\n",
       "      <td>1</td>\n",
       "      <td>Albania</td>\n",
       "      <td>2877800</td>\n",
       "      <td>1071951.0</td>\n",
       "      <td>31056.0</td>\n",
       "      <td>0.60</td>\n",
       "      <td>9033.24</td>\n",
       "      <td>48.63</td>\n",
       "      <td>Europe</td>\n",
       "    </tr>\n",
       "    <tr>\n",
       "      <th>2</th>\n",
       "      <td>DZA</td>\n",
       "      <td>0</td>\n",
       "      <td>2</td>\n",
       "      <td>Algeria</td>\n",
       "      <td>43851043</td>\n",
       "      <td>4893999.0</td>\n",
       "      <td>206429.0</td>\n",
       "      <td>0.75</td>\n",
       "      <td>13913.84</td>\n",
       "      <td>55.05</td>\n",
       "      <td>Africa</td>\n",
       "    </tr>\n",
       "    <tr>\n",
       "      <th>3</th>\n",
       "      <td>AND</td>\n",
       "      <td>2</td>\n",
       "      <td>3</td>\n",
       "      <td>Andorra</td>\n",
       "      <td>77265</td>\n",
       "      <td>223576.0</td>\n",
       "      <td>9850.0</td>\n",
       "      <td>0.66</td>\n",
       "      <td>0.00</td>\n",
       "      <td>31.29</td>\n",
       "      <td>Europe</td>\n",
       "    </tr>\n",
       "    <tr>\n",
       "      <th>4</th>\n",
       "      <td>AGO</td>\n",
       "      <td>0</td>\n",
       "      <td>4</td>\n",
       "      <td>Angola</td>\n",
       "      <td>32866268</td>\n",
       "      <td>304005.0</td>\n",
       "      <td>11820.0</td>\n",
       "      <td>0.42</td>\n",
       "      <td>4196.37</td>\n",
       "      <td>53.22</td>\n",
       "      <td>Africa</td>\n",
       "    </tr>\n",
       "    <tr>\n",
       "      <th>...</th>\n",
       "      <td>...</td>\n",
       "      <td>...</td>\n",
       "      <td>...</td>\n",
       "      <td>...</td>\n",
       "      <td>...</td>\n",
       "      <td>...</td>\n",
       "      <td>...</td>\n",
       "      <td>...</td>\n",
       "      <td>...</td>\n",
       "      <td>...</td>\n",
       "      <td>...</td>\n",
       "    </tr>\n",
       "    <tr>\n",
       "      <th>204</th>\n",
       "      <td>VEN</td>\n",
       "      <td>5</td>\n",
       "      <td>204</td>\n",
       "      <td>Venezuela</td>\n",
       "      <td>28435943</td>\n",
       "      <td>4839834.0</td>\n",
       "      <td>40840.0</td>\n",
       "      <td>0.57</td>\n",
       "      <td>12473.33</td>\n",
       "      <td>61.12</td>\n",
       "      <td>South America</td>\n",
       "    </tr>\n",
       "    <tr>\n",
       "      <th>205</th>\n",
       "      <td>VNM</td>\n",
       "      <td>1</td>\n",
       "      <td>205</td>\n",
       "      <td>Vietnam</td>\n",
       "      <td>97338583</td>\n",
       "      <td>122618.0</td>\n",
       "      <td>2318.0</td>\n",
       "      <td>0.69</td>\n",
       "      <td>6171.88</td>\n",
       "      <td>56.42</td>\n",
       "      <td>Asia</td>\n",
       "    </tr>\n",
       "    <tr>\n",
       "      <th>206</th>\n",
       "      <td>YEM</td>\n",
       "      <td>1</td>\n",
       "      <td>206</td>\n",
       "      <td>Yemen</td>\n",
       "      <td>29825968</td>\n",
       "      <td>228925.0</td>\n",
       "      <td>64304.0</td>\n",
       "      <td>0.30</td>\n",
       "      <td>971.00</td>\n",
       "      <td>27.80</td>\n",
       "      <td>Asia</td>\n",
       "    </tr>\n",
       "    <tr>\n",
       "      <th>207</th>\n",
       "      <td>ZMB</td>\n",
       "      <td>0</td>\n",
       "      <td>207</td>\n",
       "      <td>Zambia</td>\n",
       "      <td>18383956</td>\n",
       "      <td>1129913.0</td>\n",
       "      <td>26475.0</td>\n",
       "      <td>0.43</td>\n",
       "      <td>2697.92</td>\n",
       "      <td>33.29</td>\n",
       "      <td>Africa</td>\n",
       "    </tr>\n",
       "    <tr>\n",
       "      <th>208</th>\n",
       "      <td>ZWE</td>\n",
       "      <td>0</td>\n",
       "      <td>208</td>\n",
       "      <td>Zimbabwe</td>\n",
       "      <td>14862927</td>\n",
       "      <td>593699.0</td>\n",
       "      <td>15984.0</td>\n",
       "      <td>0.39</td>\n",
       "      <td>1376.37</td>\n",
       "      <td>57.36</td>\n",
       "      <td>Africa</td>\n",
       "    </tr>\n",
       "  </tbody>\n",
       "</table>\n",
       "<p>209 rows × 11 columns</p>\n",
       "</div>"
      ],
      "text/plain": [
       "    Code  continent_cat  country_cat      Country  Population  Total_Cases  \\\n",
       "0    AFG              1            0  Afghanistan    38928341    5126433.0   \n",
       "1    ALB              2            1      Albania     2877800    1071951.0   \n",
       "2    DZA              0            2      Algeria    43851043    4893999.0   \n",
       "3    AND              2            3      Andorra       77265     223576.0   \n",
       "4    AGO              0            4       Angola    32866268     304005.0   \n",
       "..   ...            ...          ...          ...         ...          ...   \n",
       "204  VEN              5          204    Venezuela    28435943    4839834.0   \n",
       "205  VNM              1          205      Vietnam    97338583     122618.0   \n",
       "206  YEM              1          206        Yemen    29825968     228925.0   \n",
       "207  ZMB              0          207       Zambia    18383956    1129913.0   \n",
       "208  ZWE              0          208     Zimbabwe    14862927     593699.0   \n",
       "\n",
       "     Total_Deaths  Human_Dev_Index  Gdp_Per_Capita  Stringency_Index  \\\n",
       "0        165875.0             0.50         1803.99             46.80   \n",
       "1         31056.0             0.60         9033.24             48.63   \n",
       "2        206429.0             0.75        13913.84             55.05   \n",
       "3          9850.0             0.66            0.00             31.29   \n",
       "4         11820.0             0.42         4196.37             53.22   \n",
       "..            ...              ...             ...               ...   \n",
       "204       40840.0             0.57        12473.33             61.12   \n",
       "205        2318.0             0.69         6171.88             56.42   \n",
       "206       64304.0             0.30          971.00             27.80   \n",
       "207       26475.0             0.43         2697.92             33.29   \n",
       "208       15984.0             0.39         1376.37             57.36   \n",
       "\n",
       "         Continent  \n",
       "0             Asia  \n",
       "1           Europe  \n",
       "2           Africa  \n",
       "3           Europe  \n",
       "4           Africa  \n",
       "..             ...  \n",
       "204  South America  \n",
       "205           Asia  \n",
       "206           Asia  \n",
       "207         Africa  \n",
       "208         Africa  \n",
       "\n",
       "[209 rows x 11 columns]"
      ]
     },
     "metadata": {},
     "output_type": "display_data"
    }
   ],
   "source": [
    "## Adding continent_cat column to the original DF\n",
    "\n",
    "extracted_col2 = obj_df[\"continent_cat\"]\n",
    "print(\"column to added from first dataframe to second:\")\n",
    "display(extracted_col2)\n",
    "  \n",
    "df_cov_cont.insert(1, \"continent_cat\", extracted_col2)\n",
    "print(\"Second dataframe after adding column from first dataframe:\")\n",
    "display(df_cov_cont)"
   ]
  },
  {
   "cell_type": "code",
   "execution_count": 29,
   "id": "2f067132",
   "metadata": {},
   "outputs": [
    {
     "data": {
      "text/plain": [
       "Code                 object\n",
       "continent_cat          int8\n",
       "country_cat           int16\n",
       "Country              object\n",
       "Population            int64\n",
       "Total_Cases         float64\n",
       "Total_Deaths        float64\n",
       "Human_Dev_Index     float64\n",
       "Gdp_Per_Capita      float64\n",
       "Stringency_Index    float64\n",
       "Continent            object\n",
       "dtype: object"
      ]
     },
     "execution_count": 29,
     "metadata": {},
     "output_type": "execute_result"
    }
   ],
   "source": [
    "df_cov_cont.dtypes"
   ]
  },
  {
   "cell_type": "code",
   "execution_count": 32,
   "id": "bae239ba",
   "metadata": {},
   "outputs": [],
   "source": [
    "## removing object columns from DF\n",
    "\n",
    "df_final = df_cov_cont.drop(['Code', 'Country','Continent'], axis=1)"
   ]
  },
  {
   "cell_type": "code",
   "execution_count": 35,
   "id": "50d72fbb",
   "metadata": {},
   "outputs": [
    {
     "data": {
      "text/plain": [
       "continent_cat          int8\n",
       "country_cat           int16\n",
       "Population            int64\n",
       "Total_Cases         float64\n",
       "Total_Deaths        float64\n",
       "Human_Dev_Index     float64\n",
       "Gdp_Per_Capita      float64\n",
       "Stringency_Index    float64\n",
       "dtype: object"
      ]
     },
     "execution_count": 35,
     "metadata": {},
     "output_type": "execute_result"
    }
   ],
   "source": [
    "df_final.dtypes"
   ]
  },
  {
   "cell_type": "code",
   "execution_count": 30,
   "id": "98b4c019",
   "metadata": {},
   "outputs": [],
   "source": [
    "num_cl = range(1, 10) # Defines the range of potential clusters in the data.\n",
    "kmeans = [KMeans(n_clusters=i) for i in num_cl] # Defines k-means clusters in the range assigned above."
   ]
  },
  {
   "cell_type": "code",
   "execution_count": 33,
   "id": "5459525e",
   "metadata": {},
   "outputs": [
    {
     "data": {
      "text/plain": [
       "[-5.17372404847059e+18,\n",
       " -1.2889460688339364e+18,\n",
       " -5.01403249157028e+17,\n",
       " -2.7739530215184243e+17,\n",
       " -2.0106503060112627e+17,\n",
       " -1.4074275123001816e+17,\n",
       " -8.235558280149685e+16,\n",
       " -6.023634227093591e+16,\n",
       " -4.238848195254551e+16]"
      ]
     },
     "execution_count": 33,
     "metadata": {},
     "output_type": "execute_result"
    }
   ],
   "source": [
    "score = [kmeans[i].fit(df_final).score(df_final) for i in range(len(kmeans))] # Creates a score that represents \n",
    "# a rate of variation for the given cluster option.\n",
    "\n",
    "score"
   ]
  },
  {
   "cell_type": "code",
   "execution_count": 34,
   "id": "7e07d88d",
   "metadata": {},
   "outputs": [
    {
     "data": {
      "image/png": "[encoded data removed]",
      "text/plain": [
       "<Figure size 432x288 with 1 Axes>"
      ]
     },
     "metadata": {
      "needs_background": "light"
     },
     "output_type": "display_data"
    }
   ],
   "source": [
    "# Plot the elbow curve using PyLab.\n",
    "\n",
    "pl.plot(num_cl,score)\n",
    "pl.xlabel('Number of Clusters')\n",
    "pl.ylabel('Score')\n",
    "pl.title('Elbow Curve')\n",
    "pl.show()"
   ]
  },
  {
   "cell_type": "markdown",
   "id": "98af3fd4",
   "metadata": {},
   "source": [
    "## The optimal number of clusters is 3 because the curve starts to flatten out at the 3 mark."
   ]
  },
  {
   "cell_type": "markdown",
   "id": "f6930b7f",
   "metadata": {},
   "source": [
    "## K-Means Clustering"
   ]
  },
  {
   "cell_type": "code",
   "execution_count": 37,
   "id": "5357bc1d",
   "metadata": {},
   "outputs": [],
   "source": [
    "# Create the k-means object.\n",
    "\n",
    "kmeans = KMeans(n_clusters = 3, n_jobs = -1) "
   ]
  },
  {
   "cell_type": "code",
   "execution_count": 38,
   "id": "f7e9f98c",
   "metadata": {},
   "outputs": [
    {
     "name": "stderr",
     "output_type": "stream",
     "text": [
      "/Users/cameronpaschall/opt/anaconda3/lib/python3.8/site-packages/sklearn/cluster/_kmeans.py:792: FutureWarning: 'n_jobs' was deprecated in version 0.23 and will be removed in 1.0 (renaming of 0.25).\n",
      "  warnings.warn(\"'n_jobs' was deprecated in version 0.23 and will be\"\n"
     ]
    },
    {
     "data": {
      "text/plain": [
       "KMeans(n_clusters=3, n_jobs=-1)"
      ]
     },
     "execution_count": 38,
     "metadata": {},
     "output_type": "execute_result"
    }
   ],
   "source": [
    "# Fit the k-means object to the data.\n",
    "\n",
    "kmeans.fit(df_final)"
   ]
  },
  {
   "cell_type": "code",
   "execution_count": 40,
   "id": "617e9614",
   "metadata": {},
   "outputs": [
    {
     "name": "stderr",
     "output_type": "stream",
     "text": [
      "/Users/cameronpaschall/opt/anaconda3/lib/python3.8/site-packages/sklearn/cluster/_kmeans.py:792: FutureWarning: 'n_jobs' was deprecated in version 0.23 and will be removed in 1.0 (renaming of 0.25).\n",
      "  warnings.warn(\"'n_jobs' was deprecated in version 0.23 and will be\"\n"
     ]
    }
   ],
   "source": [
    "df_final['clusters'] = kmeans.fit_predict(df_final)"
   ]
  },
  {
   "cell_type": "code",
   "execution_count": 41,
   "id": "e5095394",
   "metadata": {},
   "outputs": [
    {
     "data": {
      "text/plain": [
       "0    205\n",
       "1      2\n",
       "2      2\n",
       "Name: clusters, dtype: int64"
      ]
     },
     "execution_count": 41,
     "metadata": {},
     "output_type": "execute_result"
    }
   ],
   "source": [
    "df_final['clusters'].value_counts()"
   ]
  },
  {
   "cell_type": "code",
   "execution_count": 45,
   "id": "6830cead",
   "metadata": {},
   "outputs": [
    {
     "data": {
      "image/png": "[encoded data removed]",
      "text/plain": [
       "<Figure size 864x576 with 1 Axes>"
      ]
     },
     "metadata": {
      "needs_background": "light"
     },
     "output_type": "display_data"
    }
   ],
   "source": [
    "# Plot the clusters for the \"Total cases\" and \"GDP\" variables.\n",
    "\n",
    "plt.figure(figsize=(12,8))\n",
    "ax = sns.scatterplot(x=df_final['Total_Cases'], y=df_final['Gdp_Per_Capita'], hue=kmeans.labels_, s=100) \n",
    "\n",
    "ax.grid(False) # This removes the grid from the background.\n",
    "plt.xlabel('GDP') # Label x-axis.\n",
    "plt.ylabel('Total Cases') # Label y-axis.\n",
    "plt.show()"
   ]
  },
  {
   "cell_type": "markdown",
   "id": "043521fd",
   "metadata": {},
   "source": [
    "## These clusters seem to make sense, as the GDP rises, the colors change to refelct the number of cases versus GDP."
   ]
  },
  {
   "cell_type": "code",
   "execution_count": 49,
   "id": "a3489b77",
   "metadata": {},
   "outputs": [
    {
     "data": {
      "image/png": "[encoded data removed]",
      "text/plain": [
       "<Figure size 864x576 with 1 Axes>"
      ]
     },
     "metadata": {
      "needs_background": "light"
     },
     "output_type": "display_data"
    }
   ],
   "source": [
    "# Plot the clusters for the \"Human_Dev_Index\" and \"GDP\" variables.\n",
    "\n",
    "plt.figure(figsize=(12,8))\n",
    "ax = sns.scatterplot(x=df_final['Human_Dev_Index'], y=df_final['Gdp_Per_Capita'], hue=kmeans.labels_, s=100) \n",
    "\n",
    "ax.grid(False) \n",
    "plt.xlabel('GDP') # Label x-axis.\n",
    "plt.ylabel('Human_Dev_Index') # Label y-axis.\n",
    "plt.show()"
   ]
  },
  {
   "cell_type": "markdown",
   "id": "4f59daa5",
   "metadata": {},
   "source": [
    "## The graph appears to show the correct plotting of the scale of GDP to Human Dev Index, but the sections of clusters could be changed to show a more equal distribution"
   ]
  },
  {
   "cell_type": "code",
   "execution_count": 52,
   "id": "4d2045ef",
   "metadata": {},
   "outputs": [
    {
     "data": {
      "image/png": "[encoded data removed]",
      "text/plain": [
       "<Figure size 864x576 with 1 Axes>"
      ]
     },
     "metadata": {
      "needs_background": "light"
     },
     "output_type": "display_data"
    }
   ],
   "source": [
    "# Plot the clusters for the \"Human_Dev_Index\" and \"GDP\" variables.\n",
    "\n",
    "plt.figure(figsize=(12,8))\n",
    "ax = sns.scatterplot(x=df_final['Human_Dev_Index'], y=df_final['Total_Cases'], hue=kmeans.labels_, s=100) \n",
    "\n",
    "ax.grid(False) \n",
    "plt.xlabel('Total_Cases') # Label x-axis.\n",
    "plt.ylabel('Human_Dev_Index') # Label y-axis.\n",
    "plt.show()"
   ]
  },
  {
   "cell_type": "markdown",
   "id": "70ddbd2a",
   "metadata": {},
   "source": [
    "## Again, we have 3 clusters but the distribution seems imbalanced. We are still able to see the difference between the 3 categories though"
   ]
  },
  {
   "cell_type": "code",
   "execution_count": 53,
   "id": "faabdddd",
   "metadata": {},
   "outputs": [
    {
     "data": {
      "image/png": "[encoded data removed]",
      "text/plain": [
       "<Figure size 864x576 with 1 Axes>"
      ]
     },
     "metadata": {
      "needs_background": "light"
     },
     "output_type": "display_data"
    }
   ],
   "source": [
    "# Plot the clusters for the \"Total_Deaths\" and \"Total_Cases\" variables.\n",
    "\n",
    "plt.figure(figsize=(12,8))\n",
    "ax = sns.scatterplot(x=df_final['Total_Cases'], y=df_final['Total_Deaths'], hue=kmeans.labels_, s=100) \n",
    "\n",
    "ax.grid(False) \n",
    "plt.xlabel('Total_Deaths') # Label x-axis.\n",
    "plt.ylabel('Total_Cases') # Label y-axis.\n",
    "plt.show()"
   ]
  },
  {
   "cell_type": "markdown",
   "id": "77fa4f73",
   "metadata": {},
   "source": [
    "## This scatterplot makes the most sense and as you can see the more total cases, the more deaths."
   ]
  },
  {
   "cell_type": "markdown",
   "id": "7ebd1da3",
   "metadata": {},
   "source": [
    "# Descriptive Stats"
   ]
  },
  {
   "cell_type": "code",
   "execution_count": 47,
   "id": "b1cebcd2",
   "metadata": {},
   "outputs": [
    {
     "data": {
      "text/plain": [
       "continent_cat          int8\n",
       "country_cat           int16\n",
       "Population            int64\n",
       "Total_Cases         float64\n",
       "Total_Deaths        float64\n",
       "Human_Dev_Index     float64\n",
       "Gdp_Per_Capita      float64\n",
       "Stringency_Index    float64\n",
       "clusters              int32\n",
       "dtype: object"
      ]
     },
     "execution_count": 47,
     "metadata": {},
     "output_type": "execute_result"
    }
   ],
   "source": [
    "df_final.dtypes"
   ]
  },
  {
   "cell_type": "code",
   "execution_count": 48,
   "id": "1bf74fd9",
   "metadata": {},
   "outputs": [
    {
     "data": {
      "text/html": [
       "<div>\n",
       "<style scoped>\n",
       "    .dataframe tbody tr th:only-of-type {\n",
       "        vertical-align: middle;\n",
       "    }\n",
       "\n",
       "    .dataframe tbody tr th {\n",
       "        vertical-align: top;\n",
       "    }\n",
       "\n",
       "    .dataframe thead tr th {\n",
       "        text-align: left;\n",
       "    }\n",
       "\n",
       "    .dataframe thead tr:last-of-type th {\n",
       "        text-align: right;\n",
       "    }\n",
       "</style>\n",
       "<table border=\"1\" class=\"dataframe\">\n",
       "  <thead>\n",
       "    <tr>\n",
       "      <th></th>\n",
       "      <th colspan=\"2\" halign=\"left\">Total_Cases</th>\n",
       "      <th colspan=\"2\" halign=\"left\">Gdp_Per_Capita</th>\n",
       "      <th colspan=\"2\" halign=\"left\">Total_Deaths</th>\n",
       "      <th colspan=\"2\" halign=\"left\">Human_Dev_Index</th>\n",
       "      <th colspan=\"2\" halign=\"left\">Population</th>\n",
       "    </tr>\n",
       "    <tr>\n",
       "      <th></th>\n",
       "      <th>mean</th>\n",
       "      <th>median</th>\n",
       "      <th>mean</th>\n",
       "      <th>median</th>\n",
       "      <th>mean</th>\n",
       "      <th>median</th>\n",
       "      <th>mean</th>\n",
       "      <th>median</th>\n",
       "      <th>mean</th>\n",
       "      <th>median</th>\n",
       "    </tr>\n",
       "    <tr>\n",
       "      <th>clusters</th>\n",
       "      <th></th>\n",
       "      <th></th>\n",
       "      <th></th>\n",
       "      <th></th>\n",
       "      <th></th>\n",
       "      <th></th>\n",
       "      <th></th>\n",
       "      <th></th>\n",
       "      <th></th>\n",
       "      <th></th>\n",
       "    </tr>\n",
       "  </thead>\n",
       "  <tbody>\n",
       "    <tr>\n",
       "      <th>0</th>\n",
       "      <td>7.469719e+06</td>\n",
       "      <td>681299.0</td>\n",
       "      <td>14967.431317</td>\n",
       "      <td>7881.17</td>\n",
       "      <td>3.301031e+05</td>\n",
       "      <td>14220.0</td>\n",
       "      <td>0.513268</td>\n",
       "      <td>0.550</td>\n",
       "      <td>2.143047e+07</td>\n",
       "      <td>6.825442e+06</td>\n",
       "    </tr>\n",
       "    <tr>\n",
       "      <th>1</th>\n",
       "      <td>2.147020e+08</td>\n",
       "      <td>214701967.0</td>\n",
       "      <td>10867.690000</td>\n",
       "      <td>10867.69</td>\n",
       "      <td>4.157133e+06</td>\n",
       "      <td>4157133.0</td>\n",
       "      <td>0.695000</td>\n",
       "      <td>0.695</td>\n",
       "      <td>1.409664e+09</td>\n",
       "      <td>1.409664e+09</td>\n",
       "    </tr>\n",
       "    <tr>\n",
       "      <th>2</th>\n",
       "      <td>5.858593e+08</td>\n",
       "      <td>585859307.5</td>\n",
       "      <td>34164.450000</td>\n",
       "      <td>34164.45</td>\n",
       "      <td>2.040907e+07</td>\n",
       "      <td>20409070.5</td>\n",
       "      <td>0.840000</td>\n",
       "      <td>0.840</td>\n",
       "      <td>2.717810e+08</td>\n",
       "      <td>2.717810e+08</td>\n",
       "    </tr>\n",
       "  </tbody>\n",
       "</table>\n",
       "</div>"
      ],
      "text/plain": [
       "           Total_Cases              Gdp_Per_Capita            Total_Deaths  \\\n",
       "                  mean       median           mean    median          mean   \n",
       "clusters                                                                     \n",
       "0         7.469719e+06     681299.0   14967.431317   7881.17  3.301031e+05   \n",
       "1         2.147020e+08  214701967.0   10867.690000  10867.69  4.157133e+06   \n",
       "2         5.858593e+08  585859307.5   34164.450000  34164.45  2.040907e+07   \n",
       "\n",
       "                     Human_Dev_Index           Population                \n",
       "              median            mean median          mean        median  \n",
       "clusters                                                                 \n",
       "0            14220.0        0.513268  0.550  2.143047e+07  6.825442e+06  \n",
       "1          4157133.0        0.695000  0.695  1.409664e+09  1.409664e+09  \n",
       "2         20409070.5        0.840000  0.840  2.717810e+08  2.717810e+08  "
      ]
     },
     "execution_count": 48,
     "metadata": {},
     "output_type": "execute_result"
    }
   ],
   "source": [
    "df_final.groupby('clusters').agg({'Total_Cases':['mean', 'median'], \n",
    "                         'Gdp_Per_Capita':['mean', 'median'], \n",
    "                         'Total_Deaths':['mean', 'median'],\n",
    "                          'Human_Dev_Index':['mean', 'median'],\n",
    "                                'Population':['mean', 'median']})"
   ]
  },
  {
   "cell_type": "markdown",
   "id": "39ba0c74",
   "metadata": {},
   "source": [
    "### These clusters appear to work out because the mean gradually grows larger with each subsequent cluster."
   ]
  },
  {
   "cell_type": "markdown",
   "id": "f9d22773",
   "metadata": {},
   "source": [
    "# Export data set"
   ]
  },
  {
   "cell_type": "code",
   "execution_count": 54,
   "id": "963c6571",
   "metadata": {},
   "outputs": [],
   "source": [
    "## export country/continent category code dataset\n",
    "df_final.to_csv(os.path.join(path, '02 Data','Prepared Data', 'df_final.csv'))"
   ]
  },
  {
   "cell_type": "code",
   "execution_count": null,
   "id": "a4c4c65e",
   "metadata": {},
   "outputs": [],
   "source": []
  }
 ],
 "metadata": {
  "kernelspec": {
   "display_name": "Python 3",
   "language": "python",
   "name": "python3"
  },
  "language_info": {
   "codemirror_mode": {
    "name": "ipython",
    "version": 3
   },
   "file_extension": ".py",
   "mimetype": "text/x-python",
   "name": "python",
   "nbconvert_exporter": "python",
   "pygments_lexer": "ipython3",
   "version": "3.8.8"
  }
 },
 "nbformat": 4,
 "nbformat_minor": 5
}
