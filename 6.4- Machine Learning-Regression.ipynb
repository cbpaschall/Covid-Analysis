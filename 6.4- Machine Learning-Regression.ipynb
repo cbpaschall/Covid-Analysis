{
 "cells": [
  {
   "cell_type": "code",
   "execution_count": 2,
   "id": "0a44f49d",
   "metadata": {},
   "outputs": [],
   "source": [
    "# Import libraries\n",
    "\n",
    "import pandas as pd\n",
    "import numpy as np\n",
    "import matplotlib.pyplot as plt\n",
    "import matplotlib\n",
    "import os\n",
    "import seaborn as sns\n",
    "import scipy\n",
    "import pycountry_convert as pc\n",
    "import folium\n",
    "import json\n",
    "import plotly.express as px\n",
    "import plotly.graph_objects as go\n",
    "import sklearn\n",
    "from sklearn.model_selection import train_test_split \n",
    "from sklearn.linear_model import LinearRegression\n",
    "from sklearn.metrics import mean_squared_error, r2_score"
   ]
  },
  {
   "cell_type": "code",
   "execution_count": 3,
   "id": "a231294f",
   "metadata": {},
   "outputs": [],
   "source": [
    "# Creating path\n",
    "path = r'/Users/cameronpaschall/Desktop/Project 6 - Covid'"
   ]
  },
  {
   "cell_type": "code",
   "execution_count": 4,
   "id": "90839827",
   "metadata": {},
   "outputs": [],
   "source": [
    "# Import covid prepared data set\n",
    "df_cov = pd.read_csv(os.path.join(path, '02 Data', 'Prepared Data', 'Covid Wrangled.csv'), index_col = False)"
   ]
  },
  {
   "cell_type": "code",
   "execution_count": 5,
   "id": "0e30e93d",
   "metadata": {},
   "outputs": [],
   "source": [
    "# Import covid continent prepared data set\n",
    "df_cov_cont = pd.read_csv(os.path.join(path, '02 Data', 'Prepared Data', 'Covid Final.csv'), index_col = False)"
   ]
  },
  {
   "cell_type": "code",
   "execution_count": 6,
   "id": "7491f871",
   "metadata": {},
   "outputs": [],
   "source": [
    "%matplotlib inline"
   ]
  },
  {
   "cell_type": "code",
   "execution_count": 9,
   "id": "8e833219",
   "metadata": {},
   "outputs": [],
   "source": [
    "## Drop Unnamed Column\n",
    "df_cov = df_cov.drop(columns = ['Unnamed: 0'])"
   ]
  },
  {
   "cell_type": "code",
   "execution_count": 10,
   "id": "31546fe3",
   "metadata": {},
   "outputs": [
    {
     "data": {
      "text/html": [
       "<div>\n",
       "<style scoped>\n",
       "    .dataframe tbody tr th:only-of-type {\n",
       "        vertical-align: middle;\n",
       "    }\n",
       "\n",
       "    .dataframe tbody tr th {\n",
       "        vertical-align: top;\n",
       "    }\n",
       "\n",
       "    .dataframe thead th {\n",
       "        text-align: right;\n",
       "    }\n",
       "</style>\n",
       "<table border=\"1\" class=\"dataframe\">\n",
       "  <thead>\n",
       "    <tr style=\"text-align: right;\">\n",
       "      <th></th>\n",
       "      <th>Code</th>\n",
       "      <th>Country</th>\n",
       "      <th>Date</th>\n",
       "      <th>Total_Cases</th>\n",
       "      <th>Total_Deaths</th>\n",
       "      <th>Stringency_Index</th>\n",
       "      <th>Population</th>\n",
       "      <th>Gdp_Per_Capita</th>\n",
       "      <th>Human_Dev_Index</th>\n",
       "    </tr>\n",
       "  </thead>\n",
       "  <tbody>\n",
       "    <tr>\n",
       "      <th>0</th>\n",
       "      <td>AFG</td>\n",
       "      <td>Afghanistan</td>\n",
       "      <td>2019-12-31</td>\n",
       "      <td>0.0</td>\n",
       "      <td>0.0</td>\n",
       "      <td>0.0</td>\n",
       "      <td>38928341</td>\n",
       "      <td>1803.987</td>\n",
       "      <td>0.498</td>\n",
       "    </tr>\n",
       "    <tr>\n",
       "      <th>1</th>\n",
       "      <td>AFG</td>\n",
       "      <td>Afghanistan</td>\n",
       "      <td>2020-01-01</td>\n",
       "      <td>0.0</td>\n",
       "      <td>0.0</td>\n",
       "      <td>0.0</td>\n",
       "      <td>38928341</td>\n",
       "      <td>1803.987</td>\n",
       "      <td>0.498</td>\n",
       "    </tr>\n",
       "    <tr>\n",
       "      <th>2</th>\n",
       "      <td>AFG</td>\n",
       "      <td>Afghanistan</td>\n",
       "      <td>2020-01-02</td>\n",
       "      <td>0.0</td>\n",
       "      <td>0.0</td>\n",
       "      <td>0.0</td>\n",
       "      <td>38928341</td>\n",
       "      <td>1803.987</td>\n",
       "      <td>0.498</td>\n",
       "    </tr>\n",
       "    <tr>\n",
       "      <th>3</th>\n",
       "      <td>AFG</td>\n",
       "      <td>Afghanistan</td>\n",
       "      <td>2020-01-03</td>\n",
       "      <td>0.0</td>\n",
       "      <td>0.0</td>\n",
       "      <td>0.0</td>\n",
       "      <td>38928341</td>\n",
       "      <td>1803.987</td>\n",
       "      <td>0.498</td>\n",
       "    </tr>\n",
       "    <tr>\n",
       "      <th>4</th>\n",
       "      <td>AFG</td>\n",
       "      <td>Afghanistan</td>\n",
       "      <td>2020-01-04</td>\n",
       "      <td>0.0</td>\n",
       "      <td>0.0</td>\n",
       "      <td>0.0</td>\n",
       "      <td>38928341</td>\n",
       "      <td>1803.987</td>\n",
       "      <td>0.498</td>\n",
       "    </tr>\n",
       "  </tbody>\n",
       "</table>\n",
       "</div>"
      ],
      "text/plain": [
       "  Code      Country        Date  Total_Cases  Total_Deaths  Stringency_Index  \\\n",
       "0  AFG  Afghanistan  2019-12-31          0.0           0.0               0.0   \n",
       "1  AFG  Afghanistan  2020-01-01          0.0           0.0               0.0   \n",
       "2  AFG  Afghanistan  2020-01-02          0.0           0.0               0.0   \n",
       "3  AFG  Afghanistan  2020-01-03          0.0           0.0               0.0   \n",
       "4  AFG  Afghanistan  2020-01-04          0.0           0.0               0.0   \n",
       "\n",
       "   Population  Gdp_Per_Capita  Human_Dev_Index  \n",
       "0    38928341        1803.987            0.498  \n",
       "1    38928341        1803.987            0.498  \n",
       "2    38928341        1803.987            0.498  \n",
       "3    38928341        1803.987            0.498  \n",
       "4    38928341        1803.987            0.498  "
      ]
     },
     "execution_count": 10,
     "metadata": {},
     "output_type": "execute_result"
    }
   ],
   "source": [
    "df_cov.head()"
   ]
  },
  {
   "cell_type": "code",
   "execution_count": 11,
   "id": "630e2216",
   "metadata": {},
   "outputs": [],
   "source": [
    "## Drop Unnamed Column\n",
    "df_cov_cont = df_cov_cont.drop(columns = ['Unnamed: 0'])"
   ]
  },
  {
   "cell_type": "code",
   "execution_count": 12,
   "id": "f714a4a9",
   "metadata": {},
   "outputs": [
    {
     "data": {
      "text/html": [
       "<div>\n",
       "<style scoped>\n",
       "    .dataframe tbody tr th:only-of-type {\n",
       "        vertical-align: middle;\n",
       "    }\n",
       "\n",
       "    .dataframe tbody tr th {\n",
       "        vertical-align: top;\n",
       "    }\n",
       "\n",
       "    .dataframe thead th {\n",
       "        text-align: right;\n",
       "    }\n",
       "</style>\n",
       "<table border=\"1\" class=\"dataframe\">\n",
       "  <thead>\n",
       "    <tr style=\"text-align: right;\">\n",
       "      <th></th>\n",
       "      <th>Code</th>\n",
       "      <th>Country</th>\n",
       "      <th>Population</th>\n",
       "      <th>Total_Cases</th>\n",
       "      <th>Total_Deaths</th>\n",
       "      <th>Human_Dev_Index</th>\n",
       "      <th>Gdp_Per_Capita</th>\n",
       "      <th>Stringency_Index</th>\n",
       "      <th>Continent</th>\n",
       "    </tr>\n",
       "  </thead>\n",
       "  <tbody>\n",
       "    <tr>\n",
       "      <th>0</th>\n",
       "      <td>AFG</td>\n",
       "      <td>Afghanistan</td>\n",
       "      <td>38928341</td>\n",
       "      <td>5126433.0</td>\n",
       "      <td>165875.0</td>\n",
       "      <td>0.50</td>\n",
       "      <td>1803.99</td>\n",
       "      <td>46.80</td>\n",
       "      <td>Asia</td>\n",
       "    </tr>\n",
       "    <tr>\n",
       "      <th>1</th>\n",
       "      <td>ALB</td>\n",
       "      <td>Albania</td>\n",
       "      <td>2877800</td>\n",
       "      <td>1071951.0</td>\n",
       "      <td>31056.0</td>\n",
       "      <td>0.60</td>\n",
       "      <td>9033.24</td>\n",
       "      <td>48.63</td>\n",
       "      <td>Europe</td>\n",
       "    </tr>\n",
       "    <tr>\n",
       "      <th>2</th>\n",
       "      <td>DZA</td>\n",
       "      <td>Algeria</td>\n",
       "      <td>43851043</td>\n",
       "      <td>4893999.0</td>\n",
       "      <td>206429.0</td>\n",
       "      <td>0.75</td>\n",
       "      <td>13913.84</td>\n",
       "      <td>55.05</td>\n",
       "      <td>Africa</td>\n",
       "    </tr>\n",
       "    <tr>\n",
       "      <th>3</th>\n",
       "      <td>AND</td>\n",
       "      <td>Andorra</td>\n",
       "      <td>77265</td>\n",
       "      <td>223576.0</td>\n",
       "      <td>9850.0</td>\n",
       "      <td>0.66</td>\n",
       "      <td>0.00</td>\n",
       "      <td>31.29</td>\n",
       "      <td>Europe</td>\n",
       "    </tr>\n",
       "    <tr>\n",
       "      <th>4</th>\n",
       "      <td>AGO</td>\n",
       "      <td>Angola</td>\n",
       "      <td>32866268</td>\n",
       "      <td>304005.0</td>\n",
       "      <td>11820.0</td>\n",
       "      <td>0.42</td>\n",
       "      <td>4196.37</td>\n",
       "      <td>53.22</td>\n",
       "      <td>Africa</td>\n",
       "    </tr>\n",
       "  </tbody>\n",
       "</table>\n",
       "</div>"
      ],
      "text/plain": [
       "  Code      Country  Population  Total_Cases  Total_Deaths  Human_Dev_Index  \\\n",
       "0  AFG  Afghanistan    38928341    5126433.0      165875.0             0.50   \n",
       "1  ALB      Albania     2877800    1071951.0       31056.0             0.60   \n",
       "2  DZA      Algeria    43851043    4893999.0      206429.0             0.75   \n",
       "3  AND      Andorra       77265     223576.0        9850.0             0.66   \n",
       "4  AGO       Angola    32866268     304005.0       11820.0             0.42   \n",
       "\n",
       "   Gdp_Per_Capita  Stringency_Index Continent  \n",
       "0         1803.99             46.80      Asia  \n",
       "1         9033.24             48.63    Europe  \n",
       "2        13913.84             55.05    Africa  \n",
       "3            0.00             31.29    Europe  \n",
       "4         4196.37             53.22    Africa  "
      ]
     },
     "execution_count": 12,
     "metadata": {},
     "output_type": "execute_result"
    }
   ],
   "source": [
    "df_cov_cont.head()"
   ]
  },
  {
   "cell_type": "markdown",
   "id": "daddbb7d",
   "metadata": {},
   "source": [
    "## Create Scatterplots"
   ]
  },
  {
   "cell_type": "code",
   "execution_count": 16,
   "id": "bab12929",
   "metadata": {},
   "outputs": [
    {
     "data": {
      "application/vnd.plotly.v1+json": {
       "config": {
        "plotlyServerURL": "https://plot.ly"
       },
       "data": [
        {
         "hovertemplate": "<b>%{hovertext}</b><br><br>Continent=Asia<br>Gdp_Per_Capita=%{x}<br>Total_Cases=%{y}<br>Population=%{marker.size}<extra></extra>",
         "hovertext": [
          "Afghanistan",
          "Armenia",
          "Azerbaijan",
          "Bahrain",
          "Bangladesh",
          "Bhutan",
          "Brunei",
          "Cambodia",
          "China",
          "Cyprus",
          "Georgia",
          "Hong Kong",
          "India",
          "Indonesia",
          "Iran",
          "Iraq",
          "Israel",
          "Japan",
          "Jordan",
          "Kazakhstan",
          "Kuwait",
          "Kyrgyzstan",
          "Laos",
          "Lebanon",
          "Malaysia",
          "Maldives",
          "Mongolia",
          "Myanmar",
          "Nepal",
          "Oman",
          "Pakistan",
          "Palestine",
          "Philippines",
          "Qatar",
          "Saudi Arabia",
          "Singapore",
          "South Korea",
          "Sri Lanka",
          "Syria",
          "Taiwan",
          "Tajikistan",
          "Thailand",
          "Turkey",
          "United Arab Emirates",
          "Uzbekistan",
          "Vietnam",
          "Yemen"
         ],
         "legendgroup": "Asia",
         "marker": {
          "color": "#1F77B4",
          "size": [
           38928341,
           2963234,
           10139175,
           1701583,
           164689383,
           771612,
           437483,
           16718971,
           1439323774,
           875899,
           3989175,
           7496988,
           1380004385,
           273523621,
           83992953,
           40222503,
           8655541,
           126476458,
           10203140,
           18776707,
           4270563,
           6524191,
           7275556,
           6825442,
           32365998,
           540542,
           3278292,
           54409794,
           29136808,
           5106622,
           220892331,
           5101416,
           109581085,
           2881060,
           34813867,
           5850343,
           51269183,
           21413250,
           17500657,
           23816775,
           9537642,
           69799978,
           84339067,
           9890400,
           33469199,
           97338583,
           29825968
          ],
          "sizemode": "area",
          "sizeref": 575729.5096,
          "symbol": "circle"
         },
         "mode": "markers",
         "name": "Asia",
         "orientation": "v",
         "showlegend": true,
         "type": "scatter",
         "x": [
          1803.99,
          8787.58,
          15847.42,
          43290.71,
          2768.84,
          6605.5,
          54467.56,
          3645.07,
          15308.71,
          24476.73,
          9745.08,
          9723.81,
          6426.67,
          11188.74,
          19082.62,
          15663.99,
          33132.32,
          39002.22,
          6437.45,
          18082.6,
          65530.54,
          2481.62,
          4547.78,
          13367.56,
          26808.16,
          11568.47,
          8860.5,
          4032.04,
          2442.8,
          37960.71,
          5034.71,
          3435.81,
          7599.19,
          116935.6,
          38702.5,
          85535.38,
          35938.37,
          11669.08,
          0,
          0,
          1694.79,
          16277.67,
          18804.27,
          67293.48,
          4636.66,
          6171.88,
          971
         ],
         "xaxis": "x",
         "y": [
          5126433,
          5474629,
          4236782,
          6549995,
          35266178,
          22847,
          30140,
          39539,
          21632319,
          236673,
          431689,
          0,
          407771615,
          21570149,
          52421884,
          25280332,
          16202474,
          7659484,
          716514,
          13194863,
          10622205,
          4287847,
          4039,
          2220699,
          1774181,
          844040,
          42465,
          644209,
          5243653,
          10060093,
          37738077,
          3249458,
          22409936,
          16351440,
          38585191,
          8191161,
          3333075,
          446643,
          267902,
          97074,
          1117391,
          655703,
          41431948,
          10247326,
          4421215,
          122618,
          228925
         ],
         "yaxis": "y"
        },
        {
         "hovertemplate": "<b>%{hovertext}</b><br><br>Continent=Europe<br>Gdp_Per_Capita=%{x}<br>Total_Cases=%{y}<br>Population=%{marker.size}<extra></extra>",
         "hovertext": [
          "Albania",
          "Andorra",
          "Austria",
          "Belarus",
          "Belgium",
          "Bosnia and Herzegovina",
          "Bulgaria",
          "Croatia",
          "Czech Republic",
          "Denmark",
          "Estonia",
          "Faeroe Islands",
          "Finland",
          "France",
          "Germany",
          "Gibraltar",
          "Greece",
          "Guernsey",
          "Hungary",
          "Iceland",
          "Ireland",
          "Isle of Man",
          "Italy",
          "Jersey",
          "Latvia",
          "Liechtenstein",
          "Lithuania",
          "Luxembourg",
          "Macedonia",
          "Malta",
          "Moldova",
          "Monaco",
          "Montenegro",
          "Netherlands",
          "Norway",
          "Poland",
          "Portugal",
          "Romania",
          "Russia",
          "San Marino",
          "Serbia",
          "Slovakia",
          "Slovenia",
          "Spain",
          "Sweden",
          "Switzerland",
          "Ukraine",
          "United Kingdom"
         ],
         "legendgroup": "Europe",
         "marker": {
          "color": "#FF7F0E",
          "size": [
           2877800,
           77265,
           9006400,
           9449321,
           11589616,
           3280815,
           6948445,
           4105268,
           10708982,
           5792203,
           1326539,
           48865,
           5540718,
           65273512,
           83783945,
           33691,
           10423056,
           67052,
           9660350,
           341250,
           4937796,
           85032,
           60461828,
           101073,
           1886202,
           38137,
           2722291,
           625976,
           2083380,
           441539,
           4033963,
           39244,
           628062,
           17134873,
           5421242,
           37846605,
           10196707,
           19237682,
           145934460,
           33938,
           6804596,
           5459643,
           2078932,
           46754783,
           10099270,
           8654618,
           43733759,
           67886004
          ],
          "sizemode": "area",
          "sizeref": 575729.5096,
          "symbol": "circle"
         },
         "mode": "markers",
         "name": "Europe",
         "orientation": "v",
         "showlegend": true,
         "type": "scatter",
         "x": [
          9033.24,
          0,
          45436.69,
          17167.97,
          42368.38,
          8885.03,
          14143.47,
          22669.8,
          32605.91,
          46682.52,
          29481.25,
          0,
          40585.72,
          38605.67,
          45229.24,
          0,
          24574.38,
          0,
          20948.43,
          46482.96,
          67335.29,
          0,
          35220.08,
          0,
          19948.78,
          0,
          29524.27,
          94277.96,
          13111.21,
          31918.11,
          3954.26,
          0,
          12055.8,
          48472.54,
          64800.06,
          21106.63,
          22140.47,
          23313.2,
          24765.95,
          56861.47,
          11325.12,
          23385.63,
          24351.67,
          34155.79,
          46470.21,
          57410.17,
          6041.63,
          39753.24
         ],
         "xaxis": "x",
         "y": [
          1071951,
          223576,
          4909197,
          10595186,
          15192468,
          2200057,
          1890380,
          1314031,
          5213980,
          3030088,
          445402,
          56893,
          1458484,
          50084335,
          42447678,
          45340,
          1421470,
          49814,
          1708798,
          421210,
          5239798,
          64935,
          50752853,
          66777,
          255964,
          19885,
          488057,
          1146724,
          1724220,
          251261,
          4632482,
          21511,
          675912,
          13026629,
          1985889,
          9239657,
          9266263,
          10672859,
          132888951,
          134994,
          3984174,
          798665,
          547075,
          73717676,
          11910109,
          7552067,
          15805665,
          59475032
         ],
         "yaxis": "y"
        },
        {
         "hovertemplate": "<b>%{hovertext}</b><br><br>Continent=Africa<br>Gdp_Per_Capita=%{x}<br>Total_Cases=%{y}<br>Population=%{marker.size}<extra></extra>",
         "hovertext": [
          "Algeria",
          "Angola",
          "Benin",
          "Botswana",
          "Burkina Faso",
          "Burundi",
          "Cameroon",
          "Cape Verde",
          "Central African Republic",
          "Chad",
          "Comoros",
          "Congo",
          "Cote d'Ivoire",
          "Democratic Republic of Congo",
          "Djibouti",
          "Egypt",
          "Equatorial Guinea",
          "Eritrea",
          "Ethiopia",
          "Gabon",
          "Gambia",
          "Ghana",
          "Guinea",
          "Guinea-Bissau",
          "Kenya",
          "Lesotho",
          "Liberia",
          "Libya",
          "Madagascar",
          "Malawi",
          "Mali",
          "Mauritania",
          "Mauritius",
          "Morocco",
          "Mozambique",
          "Namibia",
          "Niger",
          "Nigeria",
          "Rwanda",
          "Sao Tome and Principe",
          "Senegal",
          "Seychelles",
          "Sierra Leone",
          "Somalia",
          "South Africa",
          "South Sudan",
          "Sudan",
          "Swaziland",
          "Tanzania",
          "Togo",
          "Tunisia",
          "Uganda",
          "Zambia",
          "Zimbabwe"
         ],
         "legendgroup": "Africa",
         "marker": {
          "color": "#2CA02C",
          "size": [
           43851043,
           32866268,
           12123198,
           2351625,
           20903278,
           11890781,
           26545864,
           555988,
           4829764,
           16425859,
           869595,
           5518092,
           26378275,
           89561404,
           988002,
           102334403,
           1402985,
           3546427,
           114963583,
           2225728,
           2416664,
           31072945,
           13132792,
           1967998,
           53771300,
           2142252,
           5057677,
           6871287,
           27691019,
           19129955,
           20250834,
           4649660,
           1271767,
           36910558,
           31255435,
           2540916,
           24206636,
           206139587,
           12952209,
           219161,
           16743930,
           98340,
           7976985,
           15893219,
           59308690,
           11193729,
           43849269,
           1160164,
           59734213,
           8278737,
           11818618,
           45741000,
           18383956,
           14862927
          ],
          "sizemode": "area",
          "sizeref": 575729.5096,
          "symbol": "circle"
         },
         "mode": "markers",
         "name": "Africa",
         "orientation": "v",
         "showlegend": true,
         "type": "scatter",
         "x": [
          13913.84,
          4196.37,
          1523.6,
          10860.85,
          1280.22,
          482.48,
          2552.31,
          4508.18,
          490.31,
          1287.02,
          822.36,
          3619.55,
          2694.63,
          607.47,
          1978.44,
          10550.21,
          16838.32,
          1089.17,
          1300.39,
          12393.64,
          1147.42,
          3163.53,
          1489,
          1090.39,
          2321.12,
          1532.25,
          555.63,
          13988.94,
          1026.2,
          763.55,
          1425.09,
          2679.87,
          14770.91,
          6517.56,
          815.37,
          7107.67,
          670.88,
          5338.45,
          1381.2,
          2014.38,
          1974.78,
          19652.11,
          955.24,
          0,
          10705.74,
          1051.93,
          3342.28,
          5764.75,
          1980.53,
          1118.56,
          8339.94,
          1224.2,
          2697.92,
          1376.37
         ],
         "xaxis": "x",
         "y": [
          4893999,
          304005,
          245893,
          205758,
          231452,
          49745,
          2476502,
          463888,
          593048,
          154173,
          52437,
          473368,
          2132883,
          1271391,
          781771,
          12422845,
          557355,
          40026,
          4876417,
          1031803,
          229521,
          4900649,
          1195836,
          306564,
          3277734,
          107948,
          159880,
          1817274,
          1443321,
          536447,
          390637,
          799222,
          69524,
          7839270,
          510578,
          681299,
          199978,
          6107371,
          388775,
          121909,
          1586747,
          14701,
          268396,
          491145,
          63027659,
          333500,
          1663545,
          444238,
          91526,
          169903,
          1000626,
          448728,
          1129913,
          593699
         ],
         "yaxis": "y"
        },
        {
         "hovertemplate": "<b>%{hovertext}</b><br><br>Continent=North America<br>Gdp_Per_Capita=%{x}<br>Total_Cases=%{y}<br>Population=%{marker.size}<extra></extra>",
         "hovertext": [
          "Anguilla",
          "Antigua and Barbuda",
          "Aruba",
          "Bahamas",
          "Barbados",
          "Belize",
          "Bermuda",
          "Bonaire Sint Eustatius and Saba",
          "British Virgin Islands",
          "Canada",
          "Cayman Islands",
          "Costa Rica",
          "Cuba",
          "Curacao",
          "Dominica",
          "Dominican Republic",
          "El Salvador",
          "Greenland",
          "Grenada",
          "Guatemala",
          "Haiti",
          "Honduras",
          "Jamaica",
          "Mexico",
          "Montserrat",
          "Nicaragua",
          "Panama",
          "Puerto Rico",
          "Saint Kitts and Nevis",
          "Saint Lucia",
          "Saint Vincent and the Grenadines",
          "Trinidad and Tobago",
          "Turks and Caicos Islands",
          "United States",
          "United States Virgin Islands"
         ],
         "legendgroup": "North America",
         "marker": {
          "color": "#D62728",
          "size": [
           15002,
           97928,
           106766,
           393248,
           287371,
           397621,
           62273,
           26221,
           30237,
           37742157,
           65720,
           5094114,
           11326616,
           164100,
           71991,
           10847904,
           6486201,
           56772,
           112519,
           17915567,
           11402533,
           9904608,
           2961161,
           128932753,
           4999,
           6624554,
           4314768,
           2860840,
           53192,
           183629,
           110947,
           1399491,
           38718,
           331002647,
           104423
          ],
          "sizemode": "area",
          "sizeref": 575729.5096,
          "symbol": "circle"
         },
         "mode": "markers",
         "name": "North America",
         "orientation": "v",
         "showlegend": true,
         "type": "scatter",
         "x": [
          0,
          15643.07,
          26429.72,
          20364.13,
          12473.68,
          5588.83,
          36881.75,
          0,
          0,
          44017.59,
          36323.97,
          11934.18,
          0,
          0,
          6942.45,
          14600.86,
          5332.92,
          0,
          9756.15,
          6211.76,
          1203.33,
          3398.62,
          6159.11,
          17336.47,
          0,
          3891.53,
          17041.1,
          24555.11,
          17442.56,
          9647.8,
          7881.17,
          21621.22,
          0,
          54225.45,
          0
         ],
         "xaxis": "x",
         "y": [
          614,
          12619,
          215110,
          237908,
          24998,
          106383,
          28876,
          5080,
          4605,
          20902374,
          33173,
          4631835,
          581546,
          19777,
          3977,
          10649646,
          2573206,
          2678,
          4470,
          7644426,
          1023155,
          6545499,
          370890,
          74347548,
          2383,
          524410,
          10371724,
          3586463,
          3246,
          4450,
          7824,
          225550,
          44432,
          746014098,
          98536
         ],
         "yaxis": "y"
        },
        {
         "hovertemplate": "<b>%{hovertext}</b><br><br>Continent=South America<br>Gdp_Per_Capita=%{x}<br>Total_Cases=%{y}<br>Population=%{marker.size}<extra></extra>",
         "hovertext": [
          "Argentina",
          "Bolivia",
          "Brazil",
          "Chile",
          "Colombia",
          "Ecuador",
          "Falkland Islands",
          "Guyana",
          "Paraguay",
          "Peru",
          "Suriname",
          "Uruguay",
          "Venezuela"
         ],
         "legendgroup": "South America",
         "marker": {
          "color": "#9467BD",
          "size": [
           45195777,
           11673029,
           212559409,
           19116209,
           50882884,
           17643060,
           3483,
           786559,
           7132530,
           32971846,
           586634,
           3473727,
           28435943
          ],
          "sizemode": "area",
          "sizeref": 575729.5096,
          "symbol": "circle"
         },
         "mode": "markers",
         "name": "South America",
         "orientation": "v",
         "showlegend": true,
         "type": "scatter",
         "x": [
          16229.06,
          5199.5,
          14103.45,
          17733.51,
          10324.43,
          10581.94,
          0,
          5538.35,
          6815.41,
          9781.04,
          10020.96,
          15308.7,
          12473.33
         ],
         "xaxis": "x",
         "y": [
          47155234,
          11858838,
          425704517,
          51268034,
          60543682,
          14408757,
          2467,
          166917,
          2265640,
          74882695,
          358632,
          239884,
          4839834
         ],
         "yaxis": "y"
        },
        {
         "hovertemplate": "<b>%{hovertext}</b><br><br>Continent=Oceania<br>Gdp_Per_Capita=%{x}<br>Total_Cases=%{y}<br>Population=%{marker.size}<extra></extra>",
         "hovertext": [
          "Australia",
          "Fiji",
          "French Polynesia",
          "Guam",
          "New Caledonia",
          "New Zealand",
          "Northern Mariana Islands",
          "Papua New Guinea",
          "Solomon Islands"
         ],
         "legendgroup": "Oceania",
         "marker": {
          "color": "#8C564B",
          "size": [
           25499881,
           896444,
           280904,
           168783,
           285491,
           4822233,
           57557,
           8947027,
           686878
          ],
          "sizemode": "area",
          "sizeref": 575729.5096,
          "symbol": "circle"
         },
         "mode": "markers",
         "name": "Oceania",
         "orientation": "v",
         "showlegend": true,
         "type": "scatter",
         "x": [
          44648.71,
          7814.92,
          0,
          0,
          0,
          36085.84,
          0,
          2769.87,
          30.01
         ],
         "xaxis": "x",
         "y": [
          3012377,
          4742,
          95388,
          160975,
          4495,
          253203,
          7784,
          35966,
          11
         ],
         "yaxis": "y"
        },
        {
         "hovertemplate": "<b>%{hovertext}</b><br><br>Continent=Unknown<br>Gdp_Per_Capita=%{x}<br>Total_Cases=%{y}<br>Population=%{marker.size}<extra></extra>",
         "hovertext": [
          "Sint Maarten (Dutch part)",
          "Timor",
          "Vatican"
         ],
         "legendgroup": "Unknown",
         "marker": {
          "color": "#E377C2",
          "size": [
           42882,
           1318442,
           809
          ],
          "sizemode": "area",
          "sizeref": 575729.5096,
          "symbol": "circle"
         },
         "mode": "markers",
         "name": "Unknown",
         "orientation": "v",
         "showlegend": true,
         "type": "scatter",
         "x": [
          27925.02,
          4737.62,
          0
         ],
         "xaxis": "x",
         "y": [
          48026,
          4697,
          2415
         ],
         "yaxis": "y"
        }
       ],
       "layout": {
        "height": 500,
        "legend": {
         "itemsizing": "constant",
         "title": {
          "text": "Continent"
         },
         "tracegroupgap": 0
        },
        "margin": {
         "t": 60
        },
        "template": {
         "data": {
          "bar": [
           {
            "error_x": {
             "color": "rgb(36,36,36)"
            },
            "error_y": {
             "color": "rgb(36,36,36)"
            },
            "marker": {
             "line": {
              "color": "white",
              "width": 0.5
             },
             "pattern": {
              "fillmode": "overlay",
              "size": 10,
              "solidity": 0.2
             }
            },
            "type": "bar"
           }
          ],
          "barpolar": [
           {
            "marker": {
             "line": {
              "color": "white",
              "width": 0.5
             },
             "pattern": {
              "fillmode": "overlay",
              "size": 10,
              "solidity": 0.2
             }
            },
            "type": "barpolar"
           }
          ],
          "carpet": [
           {
            "aaxis": {
             "endlinecolor": "rgb(36,36,36)",
             "gridcolor": "white",
             "linecolor": "white",
             "minorgridcolor": "white",
             "startlinecolor": "rgb(36,36,36)"
            },
            "baxis": {
             "endlinecolor": "rgb(36,36,36)",
             "gridcolor": "white",
             "linecolor": "white",
             "minorgridcolor": "white",
             "startlinecolor": "rgb(36,36,36)"
            },
            "type": "carpet"
           }
          ],
          "choropleth": [
           {
            "colorbar": {
             "outlinewidth": 1,
             "tickcolor": "rgb(36,36,36)",
             "ticks": "outside"
            },
            "type": "choropleth"
           }
          ],
          "contour": [
           {
            "colorbar": {
             "outlinewidth": 1,
             "tickcolor": "rgb(36,36,36)",
             "ticks": "outside"
            },
            "colorscale": [
             [
              0,
              "#440154"
             ],
             [
              0.1111111111111111,
              "#482878"
             ],
             [
              0.2222222222222222,
              "#3e4989"
             ],
             [
              0.3333333333333333,
              "#31688e"
             ],
             [
              0.4444444444444444,
              "#26828e"
             ],
             [
              0.5555555555555556,
              "#1f9e89"
             ],
             [
              0.6666666666666666,
              "#35b779"
             ],
             [
              0.7777777777777778,
              "#6ece58"
             ],
             [
              0.8888888888888888,
              "#b5de2b"
             ],
             [
              1,
              "#fde725"
             ]
            ],
            "type": "contour"
           }
          ],
          "contourcarpet": [
           {
            "colorbar": {
             "outlinewidth": 1,
             "tickcolor": "rgb(36,36,36)",
             "ticks": "outside"
            },
            "type": "contourcarpet"
           }
          ],
          "heatmap": [
           {
            "colorbar": {
             "outlinewidth": 1,
             "tickcolor": "rgb(36,36,36)",
             "ticks": "outside"
            },
            "colorscale": [
             [
              0,
              "#440154"
             ],
             [
              0.1111111111111111,
              "#482878"
             ],
             [
              0.2222222222222222,
              "#3e4989"
             ],
             [
              0.3333333333333333,
              "#31688e"
             ],
             [
              0.4444444444444444,
              "#26828e"
             ],
             [
              0.5555555555555556,
              "#1f9e89"
             ],
             [
              0.6666666666666666,
              "#35b779"
             ],
             [
              0.7777777777777778,
              "#6ece58"
             ],
             [
              0.8888888888888888,
              "#b5de2b"
             ],
             [
              1,
              "#fde725"
             ]
            ],
            "type": "heatmap"
           }
          ],
          "heatmapgl": [
           {
            "colorbar": {
             "outlinewidth": 1,
             "tickcolor": "rgb(36,36,36)",
             "ticks": "outside"
            },
            "colorscale": [
             [
              0,
              "#440154"
             ],
             [
              0.1111111111111111,
              "#482878"
             ],
             [
              0.2222222222222222,
              "#3e4989"
             ],
             [
              0.3333333333333333,
              "#31688e"
             ],
             [
              0.4444444444444444,
              "#26828e"
             ],
             [
              0.5555555555555556,
              "#1f9e89"
             ],
             [
              0.6666666666666666,
              "#35b779"
             ],
             [
              0.7777777777777778,
              "#6ece58"
             ],
             [
              0.8888888888888888,
              "#b5de2b"
             ],
             [
              1,
              "#fde725"
             ]
            ],
            "type": "heatmapgl"
           }
          ],
          "histogram": [
           {
            "marker": {
             "line": {
              "color": "white",
              "width": 0.6
             }
            },
            "type": "histogram"
           }
          ],
          "histogram2d": [
           {
            "colorbar": {
             "outlinewidth": 1,
             "tickcolor": "rgb(36,36,36)",
             "ticks": "outside"
            },
            "colorscale": [
             [
              0,
              "#440154"
             ],
             [
              0.1111111111111111,
              "#482878"
             ],
             [
              0.2222222222222222,
              "#3e4989"
             ],
             [
              0.3333333333333333,
              "#31688e"
             ],
             [
              0.4444444444444444,
              "#26828e"
             ],
             [
              0.5555555555555556,
              "#1f9e89"
             ],
             [
              0.6666666666666666,
              "#35b779"
             ],
             [
              0.7777777777777778,
              "#6ece58"
             ],
             [
              0.8888888888888888,
              "#b5de2b"
             ],
             [
              1,
              "#fde725"
             ]
            ],
            "type": "histogram2d"
           }
          ],
          "histogram2dcontour": [
           {
            "colorbar": {
             "outlinewidth": 1,
             "tickcolor": "rgb(36,36,36)",
             "ticks": "outside"
            },
            "colorscale": [
             [
              0,
              "#440154"
             ],
             [
              0.1111111111111111,
              "#482878"
             ],
             [
              0.2222222222222222,
              "#3e4989"
             ],
             [
              0.3333333333333333,
              "#31688e"
             ],
             [
              0.4444444444444444,
              "#26828e"
             ],
             [
              0.5555555555555556,
              "#1f9e89"
             ],
             [
              0.6666666666666666,
              "#35b779"
             ],
             [
              0.7777777777777778,
              "#6ece58"
             ],
             [
              0.8888888888888888,
              "#b5de2b"
             ],
             [
              1,
              "#fde725"
             ]
            ],
            "type": "histogram2dcontour"
           }
          ],
          "mesh3d": [
           {
            "colorbar": {
             "outlinewidth": 1,
             "tickcolor": "rgb(36,36,36)",
             "ticks": "outside"
            },
            "type": "mesh3d"
           }
          ],
          "parcoords": [
           {
            "line": {
             "colorbar": {
              "outlinewidth": 1,
              "tickcolor": "rgb(36,36,36)",
              "ticks": "outside"
             }
            },
            "type": "parcoords"
           }
          ],
          "pie": [
           {
            "automargin": true,
            "type": "pie"
           }
          ],
          "scatter": [
           {
            "marker": {
             "colorbar": {
              "outlinewidth": 1,
              "tickcolor": "rgb(36,36,36)",
              "ticks": "outside"
             }
            },
            "type": "scatter"
           }
          ],
          "scatter3d": [
           {
            "line": {
             "colorbar": {
              "outlinewidth": 1,
              "tickcolor": "rgb(36,36,36)",
              "ticks": "outside"
             }
            },
            "marker": {
             "colorbar": {
              "outlinewidth": 1,
              "tickcolor": "rgb(36,36,36)",
              "ticks": "outside"
             }
            },
            "type": "scatter3d"
           }
          ],
          "scattercarpet": [
           {
            "marker": {
             "colorbar": {
              "outlinewidth": 1,
              "tickcolor": "rgb(36,36,36)",
              "ticks": "outside"
             }
            },
            "type": "scattercarpet"
           }
          ],
          "scattergeo": [
           {
            "marker": {
             "colorbar": {
              "outlinewidth": 1,
              "tickcolor": "rgb(36,36,36)",
              "ticks": "outside"
             }
            },
            "type": "scattergeo"
           }
          ],
          "scattergl": [
           {
            "marker": {
             "colorbar": {
              "outlinewidth": 1,
              "tickcolor": "rgb(36,36,36)",
              "ticks": "outside"
             }
            },
            "type": "scattergl"
           }
          ],
          "scattermapbox": [
           {
            "marker": {
             "colorbar": {
              "outlinewidth": 1,
              "tickcolor": "rgb(36,36,36)",
              "ticks": "outside"
             }
            },
            "type": "scattermapbox"
           }
          ],
          "scatterpolar": [
           {
            "marker": {
             "colorbar": {
              "outlinewidth": 1,
              "tickcolor": "rgb(36,36,36)",
              "ticks": "outside"
             }
            },
            "type": "scatterpolar"
           }
          ],
          "scatterpolargl": [
           {
            "marker": {
             "colorbar": {
              "outlinewidth": 1,
              "tickcolor": "rgb(36,36,36)",
              "ticks": "outside"
             }
            },
            "type": "scatterpolargl"
           }
          ],
          "scatterternary": [
           {
            "marker": {
             "colorbar": {
              "outlinewidth": 1,
              "tickcolor": "rgb(36,36,36)",
              "ticks": "outside"
             }
            },
            "type": "scatterternary"
           }
          ],
          "surface": [
           {
            "colorbar": {
             "outlinewidth": 1,
             "tickcolor": "rgb(36,36,36)",
             "ticks": "outside"
            },
            "colorscale": [
             [
              0,
              "#440154"
             ],
             [
              0.1111111111111111,
              "#482878"
             ],
             [
              0.2222222222222222,
              "#3e4989"
             ],
             [
              0.3333333333333333,
              "#31688e"
             ],
             [
              0.4444444444444444,
              "#26828e"
             ],
             [
              0.5555555555555556,
              "#1f9e89"
             ],
             [
              0.6666666666666666,
              "#35b779"
             ],
             [
              0.7777777777777778,
              "#6ece58"
             ],
             [
              0.8888888888888888,
              "#b5de2b"
             ],
             [
              1,
              "#fde725"
             ]
            ],
            "type": "surface"
           }
          ],
          "table": [
           {
            "cells": {
             "fill": {
              "color": "rgb(237,237,237)"
             },
             "line": {
              "color": "white"
             }
            },
            "header": {
             "fill": {
              "color": "rgb(217,217,217)"
             },
             "line": {
              "color": "white"
             }
            },
            "type": "table"
           }
          ]
         },
         "layout": {
          "annotationdefaults": {
           "arrowhead": 0,
           "arrowwidth": 1
          },
          "autotypenumbers": "strict",
          "coloraxis": {
           "colorbar": {
            "outlinewidth": 1,
            "tickcolor": "rgb(36,36,36)",
            "ticks": "outside"
           }
          },
          "colorscale": {
           "diverging": [
            [
             0,
             "rgb(103,0,31)"
            ],
            [
             0.1,
             "rgb(178,24,43)"
            ],
            [
             0.2,
             "rgb(214,96,77)"
            ],
            [
             0.3,
             "rgb(244,165,130)"
            ],
            [
             0.4,
             "rgb(253,219,199)"
            ],
            [
             0.5,
             "rgb(247,247,247)"
            ],
            [
             0.6,
             "rgb(209,229,240)"
            ],
            [
             0.7,
             "rgb(146,197,222)"
            ],
            [
             0.8,
             "rgb(67,147,195)"
            ],
            [
             0.9,
             "rgb(33,102,172)"
            ],
            [
             1,
             "rgb(5,48,97)"
            ]
           ],
           "sequential": [
            [
             0,
             "#440154"
            ],
            [
             0.1111111111111111,
             "#482878"
            ],
            [
             0.2222222222222222,
             "#3e4989"
            ],
            [
             0.3333333333333333,
             "#31688e"
            ],
            [
             0.4444444444444444,
             "#26828e"
            ],
            [
             0.5555555555555556,
             "#1f9e89"
            ],
            [
             0.6666666666666666,
             "#35b779"
            ],
            [
             0.7777777777777778,
             "#6ece58"
            ],
            [
             0.8888888888888888,
             "#b5de2b"
            ],
            [
             1,
             "#fde725"
            ]
           ],
           "sequentialminus": [
            [
             0,
             "#440154"
            ],
            [
             0.1111111111111111,
             "#482878"
            ],
            [
             0.2222222222222222,
             "#3e4989"
            ],
            [
             0.3333333333333333,
             "#31688e"
            ],
            [
             0.4444444444444444,
             "#26828e"
            ],
            [
             0.5555555555555556,
             "#1f9e89"
            ],
            [
             0.6666666666666666,
             "#35b779"
            ],
            [
             0.7777777777777778,
             "#6ece58"
            ],
            [
             0.8888888888888888,
             "#b5de2b"
            ],
            [
             1,
             "#fde725"
            ]
           ]
          },
          "colorway": [
           "#1F77B4",
           "#FF7F0E",
           "#2CA02C",
           "#D62728",
           "#9467BD",
           "#8C564B",
           "#E377C2",
           "#7F7F7F",
           "#BCBD22",
           "#17BECF"
          ],
          "font": {
           "color": "rgb(36,36,36)"
          },
          "geo": {
           "bgcolor": "white",
           "lakecolor": "white",
           "landcolor": "white",
           "showlakes": true,
           "showland": true,
           "subunitcolor": "white"
          },
          "hoverlabel": {
           "align": "left"
          },
          "hovermode": "closest",
          "mapbox": {
           "style": "light"
          },
          "paper_bgcolor": "white",
          "plot_bgcolor": "white",
          "polar": {
           "angularaxis": {
            "gridcolor": "rgb(232,232,232)",
            "linecolor": "rgb(36,36,36)",
            "showgrid": false,
            "showline": true,
            "ticks": "outside"
           },
           "bgcolor": "white",
           "radialaxis": {
            "gridcolor": "rgb(232,232,232)",
            "linecolor": "rgb(36,36,36)",
            "showgrid": false,
            "showline": true,
            "ticks": "outside"
           }
          },
          "scene": {
           "xaxis": {
            "backgroundcolor": "white",
            "gridcolor": "rgb(232,232,232)",
            "gridwidth": 2,
            "linecolor": "rgb(36,36,36)",
            "showbackground": true,
            "showgrid": false,
            "showline": true,
            "ticks": "outside",
            "zeroline": false,
            "zerolinecolor": "rgb(36,36,36)"
           },
           "yaxis": {
            "backgroundcolor": "white",
            "gridcolor": "rgb(232,232,232)",
            "gridwidth": 2,
            "linecolor": "rgb(36,36,36)",
            "showbackground": true,
            "showgrid": false,
            "showline": true,
            "ticks": "outside",
            "zeroline": false,
            "zerolinecolor": "rgb(36,36,36)"
           },
           "zaxis": {
            "backgroundcolor": "white",
            "gridcolor": "rgb(232,232,232)",
            "gridwidth": 2,
            "linecolor": "rgb(36,36,36)",
            "showbackground": true,
            "showgrid": false,
            "showline": true,
            "ticks": "outside",
            "zeroline": false,
            "zerolinecolor": "rgb(36,36,36)"
           }
          },
          "shapedefaults": {
           "fillcolor": "black",
           "line": {
            "width": 0
           },
           "opacity": 0.3
          },
          "ternary": {
           "aaxis": {
            "gridcolor": "rgb(232,232,232)",
            "linecolor": "rgb(36,36,36)",
            "showgrid": false,
            "showline": true,
            "ticks": "outside"
           },
           "baxis": {
            "gridcolor": "rgb(232,232,232)",
            "linecolor": "rgb(36,36,36)",
            "showgrid": false,
            "showline": true,
            "ticks": "outside"
           },
           "bgcolor": "white",
           "caxis": {
            "gridcolor": "rgb(232,232,232)",
            "linecolor": "rgb(36,36,36)",
            "showgrid": false,
            "showline": true,
            "ticks": "outside"
           }
          },
          "title": {
           "x": 0.05
          },
          "xaxis": {
           "automargin": true,
           "gridcolor": "rgb(232,232,232)",
           "linecolor": "rgb(36,36,36)",
           "showgrid": false,
           "showline": true,
           "ticks": "outside",
           "title": {
            "standoff": 15
           },
           "zeroline": false,
           "zerolinecolor": "rgb(36,36,36)"
          },
          "yaxis": {
           "automargin": true,
           "gridcolor": "rgb(232,232,232)",
           "linecolor": "rgb(36,36,36)",
           "showgrid": false,
           "showline": true,
           "ticks": "outside",
           "title": {
            "standoff": 15
           },
           "zeroline": false,
           "zerolinecolor": "rgb(36,36,36)"
          }
         }
        },
        "title": {
         "text": "COVID-19 Cases vs GDP per Capita (per Country)"
        },
        "xaxis": {
         "anchor": "y",
         "domain": [
          0,
          1
         ],
         "title": {
          "text": "Gdp_Per_Capita"
         }
        },
        "yaxis": {
         "anchor": "x",
         "domain": [
          0,
          1
         ],
         "title": {
          "text": "Total_Cases"
         }
        }
       }
      },
      "text/html": [
       "<div>                            <div id=\"440c8275-ba11-4219-b044-183f201eaef5\" class=\"plotly-graph-div\" style=\"height:500px; width:100%;\"></div>            <script type=\"text/javascript\">                require([\"plotly\"], function(Plotly) {                    window.PLOTLYENV=window.PLOTLYENV || {};                                    if (document.getElementById(\"440c8275-ba11-4219-b044-183f201eaef5\")) {                    Plotly.newPlot(                        \"440c8275-ba11-4219-b044-183f201eaef5\",                        [{\"hovertemplate\":\"<b>%{hovertext}</b><br><br>Continent=Asia<br>Gdp_Per_Capita=%{x}<br>Total_Cases=%{y}<br>Population=%{marker.size}<extra></extra>\",\"hovertext\":[\"Afghanistan\",\"Armenia\",\"Azerbaijan\",\"Bahrain\",\"Bangladesh\",\"Bhutan\",\"Brunei\",\"Cambodia\",\"China\",\"Cyprus\",\"Georgia\",\"Hong Kong\",\"India\",\"Indonesia\",\"Iran\",\"Iraq\",\"Israel\",\"Japan\",\"Jordan\",\"Kazakhstan\",\"Kuwait\",\"Kyrgyzstan\",\"Laos\",\"Lebanon\",\"Malaysia\",\"Maldives\",\"Mongolia\",\"Myanmar\",\"Nepal\",\"Oman\",\"Pakistan\",\"Palestine\",\"Philippines\",\"Qatar\",\"Saudi Arabia\",\"Singapore\",\"South Korea\",\"Sri Lanka\",\"Syria\",\"Taiwan\",\"Tajikistan\",\"Thailand\",\"Turkey\",\"United Arab Emirates\",\"Uzbekistan\",\"Vietnam\",\"Yemen\"],\"legendgroup\":\"Asia\",\"marker\":{\"color\":\"#1F77B4\",\"size\":[38928341,2963234,10139175,1701583,164689383,771612,437483,16718971,1439323774,875899,3989175,7496988,1380004385,273523621,83992953,40222503,8655541,126476458,10203140,18776707,4270563,6524191,7275556,6825442,32365998,540542,3278292,54409794,29136808,5106622,220892331,5101416,109581085,2881060,34813867,5850343,51269183,21413250,17500657,23816775,9537642,69799978,84339067,9890400,33469199,97338583,29825968],\"sizemode\":\"area\",\"sizeref\":575729.5096,\"symbol\":\"circle\"},\"mode\":\"markers\",\"name\":\"Asia\",\"orientation\":\"v\",\"showlegend\":true,\"x\":[1803.99,8787.58,15847.42,43290.71,2768.84,6605.5,54467.56,3645.07,15308.71,24476.73,9745.08,9723.81,6426.67,11188.74,19082.62,15663.99,33132.32,39002.22,6437.45,18082.6,65530.54,2481.62,4547.78,13367.56,26808.16,11568.47,8860.5,4032.04,2442.8,37960.71,5034.71,3435.81,7599.19,116935.6,38702.5,85535.38,35938.37,11669.08,0.0,0.0,1694.79,16277.67,18804.27,67293.48,4636.66,6171.88,971.0],\"xaxis\":\"x\",\"y\":[5126433.0,5474629.0,4236782.0,6549995.0,35266178.0,22847.0,30140.0,39539.0,21632319.0,236673.0,431689.0,0.0,407771615.0,21570149.0,52421884.0,25280332.0,16202474.0,7659484.0,716514.0,13194863.0,10622205.0,4287847.0,4039.0,2220699.0,1774181.0,844040.0,42465.0,644209.0,5243653.0,10060093.0,37738077.0,3249458.0,22409936.0,16351440.0,38585191.0,8191161.0,3333075.0,446643.0,267902.0,97074.0,1117391.0,655703.0,41431948.0,10247326.0,4421215.0,122618.0,228925.0],\"yaxis\":\"y\",\"type\":\"scatter\"},{\"hovertemplate\":\"<b>%{hovertext}</b><br><br>Continent=Europe<br>Gdp_Per_Capita=%{x}<br>Total_Cases=%{y}<br>Population=%{marker.size}<extra></extra>\",\"hovertext\":[\"Albania\",\"Andorra\",\"Austria\",\"Belarus\",\"Belgium\",\"Bosnia and Herzegovina\",\"Bulgaria\",\"Croatia\",\"Czech Republic\",\"Denmark\",\"Estonia\",\"Faeroe Islands\",\"Finland\",\"France\",\"Germany\",\"Gibraltar\",\"Greece\",\"Guernsey\",\"Hungary\",\"Iceland\",\"Ireland\",\"Isle of Man\",\"Italy\",\"Jersey\",\"Latvia\",\"Liechtenstein\",\"Lithuania\",\"Luxembourg\",\"Macedonia\",\"Malta\",\"Moldova\",\"Monaco\",\"Montenegro\",\"Netherlands\",\"Norway\",\"Poland\",\"Portugal\",\"Romania\",\"Russia\",\"San Marino\",\"Serbia\",\"Slovakia\",\"Slovenia\",\"Spain\",\"Sweden\",\"Switzerland\",\"Ukraine\",\"United Kingdom\"],\"legendgroup\":\"Europe\",\"marker\":{\"color\":\"#FF7F0E\",\"size\":[2877800,77265,9006400,9449321,11589616,3280815,6948445,4105268,10708982,5792203,1326539,48865,5540718,65273512,83783945,33691,10423056,67052,9660350,341250,4937796,85032,60461828,101073,1886202,38137,2722291,625976,2083380,441539,4033963,39244,628062,17134873,5421242,37846605,10196707,19237682,145934460,33938,6804596,5459643,2078932,46754783,10099270,8654618,43733759,67886004],\"sizemode\":\"area\",\"sizeref\":575729.5096,\"symbol\":\"circle\"},\"mode\":\"markers\",\"name\":\"Europe\",\"orientation\":\"v\",\"showlegend\":true,\"x\":[9033.24,0.0,45436.69,17167.97,42368.38,8885.03,14143.47,22669.8,32605.91,46682.52,29481.25,0.0,40585.72,38605.67,45229.24,0.0,24574.38,0.0,20948.43,46482.96,67335.29,0.0,35220.08,0.0,19948.78,0.0,29524.27,94277.96,13111.21,31918.11,3954.26,0.0,12055.8,48472.54,64800.06,21106.63,22140.47,23313.2,24765.95,56861.47,11325.12,23385.63,24351.67,34155.79,46470.21,57410.17,6041.63,39753.24],\"xaxis\":\"x\",\"y\":[1071951.0,223576.0,4909197.0,10595186.0,15192468.0,2200057.0,1890380.0,1314031.0,5213980.0,3030088.0,445402.0,56893.0,1458484.0,50084335.0,42447678.0,45340.0,1421470.0,49814.0,1708798.0,421210.0,5239798.0,64935.0,50752853.0,66777.0,255964.0,19885.0,488057.0,1146724.0,1724220.0,251261.0,4632482.0,21511.0,675912.0,13026629.0,1985889.0,9239657.0,9266263.0,10672859.0,132888951.0,134994.0,3984174.0,798665.0,547075.0,73717676.0,11910109.0,7552067.0,15805665.0,59475032.0],\"yaxis\":\"y\",\"type\":\"scatter\"},{\"hovertemplate\":\"<b>%{hovertext}</b><br><br>Continent=Africa<br>Gdp_Per_Capita=%{x}<br>Total_Cases=%{y}<br>Population=%{marker.size}<extra></extra>\",\"hovertext\":[\"Algeria\",\"Angola\",\"Benin\",\"Botswana\",\"Burkina Faso\",\"Burundi\",\"Cameroon\",\"Cape Verde\",\"Central African Republic\",\"Chad\",\"Comoros\",\"Congo\",\"Cote d'Ivoire\",\"Democratic Republic of Congo\",\"Djibouti\",\"Egypt\",\"Equatorial Guinea\",\"Eritrea\",\"Ethiopia\",\"Gabon\",\"Gambia\",\"Ghana\",\"Guinea\",\"Guinea-Bissau\",\"Kenya\",\"Lesotho\",\"Liberia\",\"Libya\",\"Madagascar\",\"Malawi\",\"Mali\",\"Mauritania\",\"Mauritius\",\"Morocco\",\"Mozambique\",\"Namibia\",\"Niger\",\"Nigeria\",\"Rwanda\",\"Sao Tome and Principe\",\"Senegal\",\"Seychelles\",\"Sierra Leone\",\"Somalia\",\"South Africa\",\"South Sudan\",\"Sudan\",\"Swaziland\",\"Tanzania\",\"Togo\",\"Tunisia\",\"Uganda\",\"Zambia\",\"Zimbabwe\"],\"legendgroup\":\"Africa\",\"marker\":{\"color\":\"#2CA02C\",\"size\":[43851043,32866268,12123198,2351625,20903278,11890781,26545864,555988,4829764,16425859,869595,5518092,26378275,89561404,988002,102334403,1402985,3546427,114963583,2225728,2416664,31072945,13132792,1967998,53771300,2142252,5057677,6871287,27691019,19129955,20250834,4649660,1271767,36910558,31255435,2540916,24206636,206139587,12952209,219161,16743930,98340,7976985,15893219,59308690,11193729,43849269,1160164,59734213,8278737,11818618,45741000,18383956,14862927],\"sizemode\":\"area\",\"sizeref\":575729.5096,\"symbol\":\"circle\"},\"mode\":\"markers\",\"name\":\"Africa\",\"orientation\":\"v\",\"showlegend\":true,\"x\":[13913.84,4196.37,1523.6,10860.85,1280.22,482.48,2552.31,4508.18,490.31,1287.02,822.36,3619.55,2694.63,607.47,1978.44,10550.21,16838.32,1089.17,1300.39,12393.64,1147.42,3163.53,1489.0,1090.39,2321.12,1532.25,555.63,13988.94,1026.2,763.55,1425.09,2679.87,14770.91,6517.56,815.37,7107.67,670.88,5338.45,1381.2,2014.38,1974.78,19652.11,955.24,0.0,10705.74,1051.93,3342.28,5764.75,1980.53,1118.56,8339.94,1224.2,2697.92,1376.37],\"xaxis\":\"x\",\"y\":[4893999.0,304005.0,245893.0,205758.0,231452.0,49745.0,2476502.0,463888.0,593048.0,154173.0,52437.0,473368.0,2132883.0,1271391.0,781771.0,12422845.0,557355.0,40026.0,4876417.0,1031803.0,229521.0,4900649.0,1195836.0,306564.0,3277734.0,107948.0,159880.0,1817274.0,1443321.0,536447.0,390637.0,799222.0,69524.0,7839270.0,510578.0,681299.0,199978.0,6107371.0,388775.0,121909.0,1586747.0,14701.0,268396.0,491145.0,63027659.0,333500.0,1663545.0,444238.0,91526.0,169903.0,1000626.0,448728.0,1129913.0,593699.0],\"yaxis\":\"y\",\"type\":\"scatter\"},{\"hovertemplate\":\"<b>%{hovertext}</b><br><br>Continent=North America<br>Gdp_Per_Capita=%{x}<br>Total_Cases=%{y}<br>Population=%{marker.size}<extra></extra>\",\"hovertext\":[\"Anguilla\",\"Antigua and Barbuda\",\"Aruba\",\"Bahamas\",\"Barbados\",\"Belize\",\"Bermuda\",\"Bonaire Sint Eustatius and Saba\",\"British Virgin Islands\",\"Canada\",\"Cayman Islands\",\"Costa Rica\",\"Cuba\",\"Curacao\",\"Dominica\",\"Dominican Republic\",\"El Salvador\",\"Greenland\",\"Grenada\",\"Guatemala\",\"Haiti\",\"Honduras\",\"Jamaica\",\"Mexico\",\"Montserrat\",\"Nicaragua\",\"Panama\",\"Puerto Rico\",\"Saint Kitts and Nevis\",\"Saint Lucia\",\"Saint Vincent and the Grenadines\",\"Trinidad and Tobago\",\"Turks and Caicos Islands\",\"United States\",\"United States Virgin Islands\"],\"legendgroup\":\"North America\",\"marker\":{\"color\":\"#D62728\",\"size\":[15002,97928,106766,393248,287371,397621,62273,26221,30237,37742157,65720,5094114,11326616,164100,71991,10847904,6486201,56772,112519,17915567,11402533,9904608,2961161,128932753,4999,6624554,4314768,2860840,53192,183629,110947,1399491,38718,331002647,104423],\"sizemode\":\"area\",\"sizeref\":575729.5096,\"symbol\":\"circle\"},\"mode\":\"markers\",\"name\":\"North America\",\"orientation\":\"v\",\"showlegend\":true,\"x\":[0.0,15643.07,26429.72,20364.13,12473.68,5588.83,36881.75,0.0,0.0,44017.59,36323.97,11934.18,0.0,0.0,6942.45,14600.86,5332.92,0.0,9756.15,6211.76,1203.33,3398.62,6159.11,17336.47,0.0,3891.53,17041.1,24555.11,17442.56,9647.8,7881.17,21621.22,0.0,54225.45,0.0],\"xaxis\":\"x\",\"y\":[614.0,12619.0,215110.0,237908.0,24998.0,106383.0,28876.0,5080.0,4605.0,20902374.0,33173.0,4631835.0,581546.0,19777.0,3977.0,10649646.0,2573206.0,2678.0,4470.0,7644426.0,1023155.0,6545499.0,370890.0,74347548.0,2383.0,524410.0,10371724.0,3586463.0,3246.0,4450.0,7824.0,225550.0,44432.0,746014098.0,98536.0],\"yaxis\":\"y\",\"type\":\"scatter\"},{\"hovertemplate\":\"<b>%{hovertext}</b><br><br>Continent=South America<br>Gdp_Per_Capita=%{x}<br>Total_Cases=%{y}<br>Population=%{marker.size}<extra></extra>\",\"hovertext\":[\"Argentina\",\"Bolivia\",\"Brazil\",\"Chile\",\"Colombia\",\"Ecuador\",\"Falkland Islands\",\"Guyana\",\"Paraguay\",\"Peru\",\"Suriname\",\"Uruguay\",\"Venezuela\"],\"legendgroup\":\"South America\",\"marker\":{\"color\":\"#9467BD\",\"size\":[45195777,11673029,212559409,19116209,50882884,17643060,3483,786559,7132530,32971846,586634,3473727,28435943],\"sizemode\":\"area\",\"sizeref\":575729.5096,\"symbol\":\"circle\"},\"mode\":\"markers\",\"name\":\"South America\",\"orientation\":\"v\",\"showlegend\":true,\"x\":[16229.06,5199.5,14103.45,17733.51,10324.43,10581.94,0.0,5538.35,6815.41,9781.04,10020.96,15308.7,12473.33],\"xaxis\":\"x\",\"y\":[47155234.0,11858838.0,425704517.0,51268034.0,60543682.0,14408757.0,2467.0,166917.0,2265640.0,74882695.0,358632.0,239884.0,4839834.0],\"yaxis\":\"y\",\"type\":\"scatter\"},{\"hovertemplate\":\"<b>%{hovertext}</b><br><br>Continent=Oceania<br>Gdp_Per_Capita=%{x}<br>Total_Cases=%{y}<br>Population=%{marker.size}<extra></extra>\",\"hovertext\":[\"Australia\",\"Fiji\",\"French Polynesia\",\"Guam\",\"New Caledonia\",\"New Zealand\",\"Northern Mariana Islands\",\"Papua New Guinea\",\"Solomon Islands\"],\"legendgroup\":\"Oceania\",\"marker\":{\"color\":\"#8C564B\",\"size\":[25499881,896444,280904,168783,285491,4822233,57557,8947027,686878],\"sizemode\":\"area\",\"sizeref\":575729.5096,\"symbol\":\"circle\"},\"mode\":\"markers\",\"name\":\"Oceania\",\"orientation\":\"v\",\"showlegend\":true,\"x\":[44648.71,7814.92,0.0,0.0,0.0,36085.84,0.0,2769.87,30.01],\"xaxis\":\"x\",\"y\":[3012377.0,4742.0,95388.0,160975.0,4495.0,253203.0,7784.0,35966.0,11.0],\"yaxis\":\"y\",\"type\":\"scatter\"},{\"hovertemplate\":\"<b>%{hovertext}</b><br><br>Continent=Unknown<br>Gdp_Per_Capita=%{x}<br>Total_Cases=%{y}<br>Population=%{marker.size}<extra></extra>\",\"hovertext\":[\"Sint Maarten (Dutch part)\",\"Timor\",\"Vatican\"],\"legendgroup\":\"Unknown\",\"marker\":{\"color\":\"#E377C2\",\"size\":[42882,1318442,809],\"sizemode\":\"area\",\"sizeref\":575729.5096,\"symbol\":\"circle\"},\"mode\":\"markers\",\"name\":\"Unknown\",\"orientation\":\"v\",\"showlegend\":true,\"x\":[27925.02,4737.62,0.0],\"xaxis\":\"x\",\"y\":[48026.0,4697.0,2415.0],\"yaxis\":\"y\",\"type\":\"scatter\"}],                        {\"template\":{\"data\":{\"barpolar\":[{\"marker\":{\"line\":{\"color\":\"white\",\"width\":0.5},\"pattern\":{\"fillmode\":\"overlay\",\"size\":10,\"solidity\":0.2}},\"type\":\"barpolar\"}],\"bar\":[{\"error_x\":{\"color\":\"rgb(36,36,36)\"},\"error_y\":{\"color\":\"rgb(36,36,36)\"},\"marker\":{\"line\":{\"color\":\"white\",\"width\":0.5},\"pattern\":{\"fillmode\":\"overlay\",\"size\":10,\"solidity\":0.2}},\"type\":\"bar\"}],\"carpet\":[{\"aaxis\":{\"endlinecolor\":\"rgb(36,36,36)\",\"gridcolor\":\"white\",\"linecolor\":\"white\",\"minorgridcolor\":\"white\",\"startlinecolor\":\"rgb(36,36,36)\"},\"baxis\":{\"endlinecolor\":\"rgb(36,36,36)\",\"gridcolor\":\"white\",\"linecolor\":\"white\",\"minorgridcolor\":\"white\",\"startlinecolor\":\"rgb(36,36,36)\"},\"type\":\"carpet\"}],\"choropleth\":[{\"colorbar\":{\"outlinewidth\":1,\"tickcolor\":\"rgb(36,36,36)\",\"ticks\":\"outside\"},\"type\":\"choropleth\"}],\"contourcarpet\":[{\"colorbar\":{\"outlinewidth\":1,\"tickcolor\":\"rgb(36,36,36)\",\"ticks\":\"outside\"},\"type\":\"contourcarpet\"}],\"contour\":[{\"colorbar\":{\"outlinewidth\":1,\"tickcolor\":\"rgb(36,36,36)\",\"ticks\":\"outside\"},\"colorscale\":[[0.0,\"#440154\"],[0.1111111111111111,\"#482878\"],[0.2222222222222222,\"#3e4989\"],[0.3333333333333333,\"#31688e\"],[0.4444444444444444,\"#26828e\"],[0.5555555555555556,\"#1f9e89\"],[0.6666666666666666,\"#35b779\"],[0.7777777777777778,\"#6ece58\"],[0.8888888888888888,\"#b5de2b\"],[1.0,\"#fde725\"]],\"type\":\"contour\"}],\"heatmapgl\":[{\"colorbar\":{\"outlinewidth\":1,\"tickcolor\":\"rgb(36,36,36)\",\"ticks\":\"outside\"},\"colorscale\":[[0.0,\"#440154\"],[0.1111111111111111,\"#482878\"],[0.2222222222222222,\"#3e4989\"],[0.3333333333333333,\"#31688e\"],[0.4444444444444444,\"#26828e\"],[0.5555555555555556,\"#1f9e89\"],[0.6666666666666666,\"#35b779\"],[0.7777777777777778,\"#6ece58\"],[0.8888888888888888,\"#b5de2b\"],[1.0,\"#fde725\"]],\"type\":\"heatmapgl\"}],\"heatmap\":[{\"colorbar\":{\"outlinewidth\":1,\"tickcolor\":\"rgb(36,36,36)\",\"ticks\":\"outside\"},\"colorscale\":[[0.0,\"#440154\"],[0.1111111111111111,\"#482878\"],[0.2222222222222222,\"#3e4989\"],[0.3333333333333333,\"#31688e\"],[0.4444444444444444,\"#26828e\"],[0.5555555555555556,\"#1f9e89\"],[0.6666666666666666,\"#35b779\"],[0.7777777777777778,\"#6ece58\"],[0.8888888888888888,\"#b5de2b\"],[1.0,\"#fde725\"]],\"type\":\"heatmap\"}],\"histogram2dcontour\":[{\"colorbar\":{\"outlinewidth\":1,\"tickcolor\":\"rgb(36,36,36)\",\"ticks\":\"outside\"},\"colorscale\":[[0.0,\"#440154\"],[0.1111111111111111,\"#482878\"],[0.2222222222222222,\"#3e4989\"],[0.3333333333333333,\"#31688e\"],[0.4444444444444444,\"#26828e\"],[0.5555555555555556,\"#1f9e89\"],[0.6666666666666666,\"#35b779\"],[0.7777777777777778,\"#6ece58\"],[0.8888888888888888,\"#b5de2b\"],[1.0,\"#fde725\"]],\"type\":\"histogram2dcontour\"}],\"histogram2d\":[{\"colorbar\":{\"outlinewidth\":1,\"tickcolor\":\"rgb(36,36,36)\",\"ticks\":\"outside\"},\"colorscale\":[[0.0,\"#440154\"],[0.1111111111111111,\"#482878\"],[0.2222222222222222,\"#3e4989\"],[0.3333333333333333,\"#31688e\"],[0.4444444444444444,\"#26828e\"],[0.5555555555555556,\"#1f9e89\"],[0.6666666666666666,\"#35b779\"],[0.7777777777777778,\"#6ece58\"],[0.8888888888888888,\"#b5de2b\"],[1.0,\"#fde725\"]],\"type\":\"histogram2d\"}],\"histogram\":[{\"marker\":{\"line\":{\"color\":\"white\",\"width\":0.6}},\"type\":\"histogram\"}],\"mesh3d\":[{\"colorbar\":{\"outlinewidth\":1,\"tickcolor\":\"rgb(36,36,36)\",\"ticks\":\"outside\"},\"type\":\"mesh3d\"}],\"parcoords\":[{\"line\":{\"colorbar\":{\"outlinewidth\":1,\"tickcolor\":\"rgb(36,36,36)\",\"ticks\":\"outside\"}},\"type\":\"parcoords\"}],\"pie\":[{\"automargin\":true,\"type\":\"pie\"}],\"scatter3d\":[{\"line\":{\"colorbar\":{\"outlinewidth\":1,\"tickcolor\":\"rgb(36,36,36)\",\"ticks\":\"outside\"}},\"marker\":{\"colorbar\":{\"outlinewidth\":1,\"tickcolor\":\"rgb(36,36,36)\",\"ticks\":\"outside\"}},\"type\":\"scatter3d\"}],\"scattercarpet\":[{\"marker\":{\"colorbar\":{\"outlinewidth\":1,\"tickcolor\":\"rgb(36,36,36)\",\"ticks\":\"outside\"}},\"type\":\"scattercarpet\"}],\"scattergeo\":[{\"marker\":{\"colorbar\":{\"outlinewidth\":1,\"tickcolor\":\"rgb(36,36,36)\",\"ticks\":\"outside\"}},\"type\":\"scattergeo\"}],\"scattergl\":[{\"marker\":{\"colorbar\":{\"outlinewidth\":1,\"tickcolor\":\"rgb(36,36,36)\",\"ticks\":\"outside\"}},\"type\":\"scattergl\"}],\"scattermapbox\":[{\"marker\":{\"colorbar\":{\"outlinewidth\":1,\"tickcolor\":\"rgb(36,36,36)\",\"ticks\":\"outside\"}},\"type\":\"scattermapbox\"}],\"scatterpolargl\":[{\"marker\":{\"colorbar\":{\"outlinewidth\":1,\"tickcolor\":\"rgb(36,36,36)\",\"ticks\":\"outside\"}},\"type\":\"scatterpolargl\"}],\"scatterpolar\":[{\"marker\":{\"colorbar\":{\"outlinewidth\":1,\"tickcolor\":\"rgb(36,36,36)\",\"ticks\":\"outside\"}},\"type\":\"scatterpolar\"}],\"scatter\":[{\"marker\":{\"colorbar\":{\"outlinewidth\":1,\"tickcolor\":\"rgb(36,36,36)\",\"ticks\":\"outside\"}},\"type\":\"scatter\"}],\"scatterternary\":[{\"marker\":{\"colorbar\":{\"outlinewidth\":1,\"tickcolor\":\"rgb(36,36,36)\",\"ticks\":\"outside\"}},\"type\":\"scatterternary\"}],\"surface\":[{\"colorbar\":{\"outlinewidth\":1,\"tickcolor\":\"rgb(36,36,36)\",\"ticks\":\"outside\"},\"colorscale\":[[0.0,\"#440154\"],[0.1111111111111111,\"#482878\"],[0.2222222222222222,\"#3e4989\"],[0.3333333333333333,\"#31688e\"],[0.4444444444444444,\"#26828e\"],[0.5555555555555556,\"#1f9e89\"],[0.6666666666666666,\"#35b779\"],[0.7777777777777778,\"#6ece58\"],[0.8888888888888888,\"#b5de2b\"],[1.0,\"#fde725\"]],\"type\":\"surface\"}],\"table\":[{\"cells\":{\"fill\":{\"color\":\"rgb(237,237,237)\"},\"line\":{\"color\":\"white\"}},\"header\":{\"fill\":{\"color\":\"rgb(217,217,217)\"},\"line\":{\"color\":\"white\"}},\"type\":\"table\"}]},\"layout\":{\"annotationdefaults\":{\"arrowhead\":0,\"arrowwidth\":1},\"autotypenumbers\":\"strict\",\"coloraxis\":{\"colorbar\":{\"outlinewidth\":1,\"tickcolor\":\"rgb(36,36,36)\",\"ticks\":\"outside\"}},\"colorscale\":{\"diverging\":[[0.0,\"rgb(103,0,31)\"],[0.1,\"rgb(178,24,43)\"],[0.2,\"rgb(214,96,77)\"],[0.3,\"rgb(244,165,130)\"],[0.4,\"rgb(253,219,199)\"],[0.5,\"rgb(247,247,247)\"],[0.6,\"rgb(209,229,240)\"],[0.7,\"rgb(146,197,222)\"],[0.8,\"rgb(67,147,195)\"],[0.9,\"rgb(33,102,172)\"],[1.0,\"rgb(5,48,97)\"]],\"sequential\":[[0.0,\"#440154\"],[0.1111111111111111,\"#482878\"],[0.2222222222222222,\"#3e4989\"],[0.3333333333333333,\"#31688e\"],[0.4444444444444444,\"#26828e\"],[0.5555555555555556,\"#1f9e89\"],[0.6666666666666666,\"#35b779\"],[0.7777777777777778,\"#6ece58\"],[0.8888888888888888,\"#b5de2b\"],[1.0,\"#fde725\"]],\"sequentialminus\":[[0.0,\"#440154\"],[0.1111111111111111,\"#482878\"],[0.2222222222222222,\"#3e4989\"],[0.3333333333333333,\"#31688e\"],[0.4444444444444444,\"#26828e\"],[0.5555555555555556,\"#1f9e89\"],[0.6666666666666666,\"#35b779\"],[0.7777777777777778,\"#6ece58\"],[0.8888888888888888,\"#b5de2b\"],[1.0,\"#fde725\"]]},\"colorway\":[\"#1F77B4\",\"#FF7F0E\",\"#2CA02C\",\"#D62728\",\"#9467BD\",\"#8C564B\",\"#E377C2\",\"#7F7F7F\",\"#BCBD22\",\"#17BECF\"],\"font\":{\"color\":\"rgb(36,36,36)\"},\"geo\":{\"bgcolor\":\"white\",\"lakecolor\":\"white\",\"landcolor\":\"white\",\"showlakes\":true,\"showland\":true,\"subunitcolor\":\"white\"},\"hoverlabel\":{\"align\":\"left\"},\"hovermode\":\"closest\",\"mapbox\":{\"style\":\"light\"},\"paper_bgcolor\":\"white\",\"plot_bgcolor\":\"white\",\"polar\":{\"angularaxis\":{\"gridcolor\":\"rgb(232,232,232)\",\"linecolor\":\"rgb(36,36,36)\",\"showgrid\":false,\"showline\":true,\"ticks\":\"outside\"},\"bgcolor\":\"white\",\"radialaxis\":{\"gridcolor\":\"rgb(232,232,232)\",\"linecolor\":\"rgb(36,36,36)\",\"showgrid\":false,\"showline\":true,\"ticks\":\"outside\"}},\"scene\":{\"xaxis\":{\"backgroundcolor\":\"white\",\"gridcolor\":\"rgb(232,232,232)\",\"gridwidth\":2,\"linecolor\":\"rgb(36,36,36)\",\"showbackground\":true,\"showgrid\":false,\"showline\":true,\"ticks\":\"outside\",\"zeroline\":false,\"zerolinecolor\":\"rgb(36,36,36)\"},\"yaxis\":{\"backgroundcolor\":\"white\",\"gridcolor\":\"rgb(232,232,232)\",\"gridwidth\":2,\"linecolor\":\"rgb(36,36,36)\",\"showbackground\":true,\"showgrid\":false,\"showline\":true,\"ticks\":\"outside\",\"zeroline\":false,\"zerolinecolor\":\"rgb(36,36,36)\"},\"zaxis\":{\"backgroundcolor\":\"white\",\"gridcolor\":\"rgb(232,232,232)\",\"gridwidth\":2,\"linecolor\":\"rgb(36,36,36)\",\"showbackground\":true,\"showgrid\":false,\"showline\":true,\"ticks\":\"outside\",\"zeroline\":false,\"zerolinecolor\":\"rgb(36,36,36)\"}},\"shapedefaults\":{\"fillcolor\":\"black\",\"line\":{\"width\":0},\"opacity\":0.3},\"ternary\":{\"aaxis\":{\"gridcolor\":\"rgb(232,232,232)\",\"linecolor\":\"rgb(36,36,36)\",\"showgrid\":false,\"showline\":true,\"ticks\":\"outside\"},\"baxis\":{\"gridcolor\":\"rgb(232,232,232)\",\"linecolor\":\"rgb(36,36,36)\",\"showgrid\":false,\"showline\":true,\"ticks\":\"outside\"},\"bgcolor\":\"white\",\"caxis\":{\"gridcolor\":\"rgb(232,232,232)\",\"linecolor\":\"rgb(36,36,36)\",\"showgrid\":false,\"showline\":true,\"ticks\":\"outside\"}},\"title\":{\"x\":0.05},\"xaxis\":{\"automargin\":true,\"gridcolor\":\"rgb(232,232,232)\",\"linecolor\":\"rgb(36,36,36)\",\"showgrid\":false,\"showline\":true,\"ticks\":\"outside\",\"title\":{\"standoff\":15},\"zeroline\":false,\"zerolinecolor\":\"rgb(36,36,36)\"},\"yaxis\":{\"automargin\":true,\"gridcolor\":\"rgb(232,232,232)\",\"linecolor\":\"rgb(36,36,36)\",\"showgrid\":false,\"showline\":true,\"ticks\":\"outside\",\"title\":{\"standoff\":15},\"zeroline\":false,\"zerolinecolor\":\"rgb(36,36,36)\"}}},\"xaxis\":{\"anchor\":\"y\",\"domain\":[0.0,1.0],\"title\":{\"text\":\"Gdp_Per_Capita\"}},\"yaxis\":{\"anchor\":\"x\",\"domain\":[0.0,1.0],\"title\":{\"text\":\"Total_Cases\"}},\"legend\":{\"title\":{\"text\":\"Continent\"},\"tracegroupgap\":0,\"itemsizing\":\"constant\"},\"margin\":{\"t\":60},\"title\":{\"text\":\"COVID-19 Cases vs GDP per Capita (per Country)\"},\"height\":500},                        {\"responsive\": true}                    ).then(function(){\n",
       "                            \n",
       "var gd = document.getElementById('440c8275-ba11-4219-b044-183f201eaef5');\n",
       "var x = new MutationObserver(function (mutations, observer) {{\n",
       "        var display = window.getComputedStyle(gd).display;\n",
       "        if (!display || display === 'none') {{\n",
       "            console.log([gd, 'removed!']);\n",
       "            Plotly.purge(gd);\n",
       "            observer.disconnect();\n",
       "        }}\n",
       "}});\n",
       "\n",
       "// Listen for the removal of the full notebook cells\n",
       "var notebookContainer = gd.closest('#notebook-container');\n",
       "if (notebookContainer) {{\n",
       "    x.observe(notebookContainer, {childList: true});\n",
       "}}\n",
       "\n",
       "// Listen for the clearing of the current output cell\n",
       "var outputEl = gd.closest('.output');\n",
       "if (outputEl) {{\n",
       "    x.observe(outputEl, {childList: true});\n",
       "}}\n",
       "\n",
       "                        })                };                });            </script>        </div>"
      ]
     },
     "metadata": {},
     "output_type": "display_data"
    }
   ],
   "source": [
    "fig = px.scatter(df_cov_cont, x=\"Gdp_Per_Capita\", y=\"Total_Cases\", size=\"Population\", hover_name=\"Country\", color='Continent', template='simple_white', size_max=50)\n",
    "fig.update_layout(\n",
    "    height=500,\n",
    "    title_text=\"COVID-19 Cases vs GDP per Capita (per Country)\"\n",
    ")\n",
    "fig.show()"
   ]
  },
  {
   "cell_type": "code",
   "execution_count": 17,
   "id": "321930c5",
   "metadata": {},
   "outputs": [
    {
     "data": {
      "application/vnd.plotly.v1+json": {
       "config": {
        "plotlyServerURL": "https://plot.ly"
       },
       "data": [
        {
         "hovertemplate": "<b>%{hovertext}</b><br><br>Continent=Asia<br>Stringency_Index=%{x}<br>Total_Cases=%{y}<br>Population=%{marker.size}<extra></extra>",
         "hovertext": [
          "Afghanistan",
          "Armenia",
          "Azerbaijan",
          "Bahrain",
          "Bangladesh",
          "Bhutan",
          "Brunei",
          "Cambodia",
          "China",
          "Cyprus",
          "Georgia",
          "Hong Kong",
          "India",
          "Indonesia",
          "Iran",
          "Iraq",
          "Israel",
          "Japan",
          "Jordan",
          "Kazakhstan",
          "Kuwait",
          "Kyrgyzstan",
          "Laos",
          "Lebanon",
          "Malaysia",
          "Maldives",
          "Mongolia",
          "Myanmar",
          "Nepal",
          "Oman",
          "Pakistan",
          "Palestine",
          "Philippines",
          "Qatar",
          "Saudi Arabia",
          "Singapore",
          "South Korea",
          "Sri Lanka",
          "Syria",
          "Taiwan",
          "Tajikistan",
          "Thailand",
          "Turkey",
          "United Arab Emirates",
          "Uzbekistan",
          "Vietnam",
          "Yemen"
         ],
         "legendgroup": "Asia",
         "marker": {
          "color": "#1F77B4",
          "size": [
           38928341,
           2963234,
           10139175,
           1701583,
           164689383,
           771612,
           437483,
           16718971,
           1439323774,
           875899,
           3989175,
           7496988,
           1380004385,
           273523621,
           83992953,
           40222503,
           8655541,
           126476458,
           10203140,
           18776707,
           4270563,
           6524191,
           7275556,
           6825442,
           32365998,
           540542,
           3278292,
           54409794,
           29136808,
           5106622,
           220892331,
           5101416,
           109581085,
           2881060,
           34813867,
           5850343,
           51269183,
           21413250,
           17500657,
           23816775,
           9537642,
           69799978,
           84339067,
           9890400,
           33469199,
           97338583,
           29825968
          ],
          "sizemode": "area",
          "sizeref": 575729.5096,
          "symbol": "circle"
         },
         "mode": "markers",
         "name": "Asia",
         "orientation": "v",
         "showlegend": true,
         "textposition": "top center",
         "type": "scatter",
         "x": [
          46.8,
          0,
          63.65,
          55.47,
          57.18,
          54.15,
          34.38,
          34.51,
          66.57,
          48.51,
          56.89,
          9.63,
          61.33,
          50.77,
          42.07,
          69.25,
          54.81,
          29.95,
          51.49,
          59.68,
          61.74,
          57.14,
          31.54,
          52.81,
          48.87,
          0,
          45.93,
          56.67,
          64.28,
          65.79,
          51.13,
          63.01,
          61.52,
          58.29,
          54.82,
          49.87,
          46.03,
          43.35,
          44.93,
          21.16,
          29.76,
          42.95,
          47.09,
          45.24,
          54.33,
          56.42,
          27.8
         ],
         "xaxis": "x",
         "y": [
          5126433,
          5474629,
          4236782,
          6549995,
          35266178,
          22847,
          30140,
          39539,
          21632319,
          236673,
          431689,
          0,
          407771615,
          21570149,
          52421884,
          25280332,
          16202474,
          7659484,
          716514,
          13194863,
          10622205,
          4287847,
          4039,
          2220699,
          1774181,
          844040,
          42465,
          644209,
          5243653,
          10060093,
          37738077,
          3249458,
          22409936,
          16351440,
          38585191,
          8191161,
          3333075,
          446643,
          267902,
          97074,
          1117391,
          655703,
          41431948,
          10247326,
          4421215,
          122618,
          228925
         ],
         "yaxis": "y"
        },
        {
         "hovertemplate": "<b>%{hovertext}</b><br><br>Continent=Europe<br>Stringency_Index=%{x}<br>Total_Cases=%{y}<br>Population=%{marker.size}<extra></extra>",
         "hovertext": [
          "Albania",
          "Andorra",
          "Austria",
          "Belarus",
          "Belgium",
          "Bosnia and Herzegovina",
          "Bulgaria",
          "Croatia",
          "Czech Republic",
          "Denmark",
          "Estonia",
          "Faeroe Islands",
          "Finland",
          "France",
          "Germany",
          "Gibraltar",
          "Greece",
          "Guernsey",
          "Hungary",
          "Iceland",
          "Ireland",
          "Isle of Man",
          "Italy",
          "Jersey",
          "Latvia",
          "Liechtenstein",
          "Lithuania",
          "Luxembourg",
          "Macedonia",
          "Malta",
          "Moldova",
          "Monaco",
          "Montenegro",
          "Netherlands",
          "Norway",
          "Poland",
          "Portugal",
          "Romania",
          "Russia",
          "San Marino",
          "Serbia",
          "Slovakia",
          "Slovenia",
          "Spain",
          "Sweden",
          "Switzerland",
          "Ukraine",
          "United Kingdom"
         ],
         "legendgroup": "Europe",
         "marker": {
          "color": "#FF7F0E",
          "size": [
           2877800,
           77265,
           9006400,
           9449321,
           11589616,
           3280815,
           6948445,
           4105268,
           10708982,
           5792203,
           1326539,
           48865,
           5540718,
           65273512,
           83783945,
           33691,
           10423056,
           67052,
           9660350,
           341250,
           4937796,
           85032,
           60461828,
           101073,
           1886202,
           38137,
           2722291,
           625976,
           2083380,
           441539,
           4033963,
           39244,
           628062,
           17134873,
           5421242,
           37846605,
           10196707,
           19237682,
           145934460,
           33938,
           6804596,
           5459643,
           2078932,
           46754783,
           10099270,
           8654618,
           43733759,
           67886004
          ],
          "sizemode": "area",
          "sizeref": 575729.5096,
          "symbol": "circle"
         },
         "mode": "markers",
         "name": "Europe",
         "orientation": "v",
         "showlegend": true,
         "textposition": "top center",
         "type": "scatter",
         "x": [
          48.63,
          31.29,
          37.96,
          8.85,
          47.58,
          46.46,
          35.07,
          38.18,
          37.5,
          43.27,
          28.58,
          0,
          33.9,
          46.55,
          45.17,
          33.24,
          45.42,
          0,
          42.59,
          32.31,
          50.81,
          0,
          53.55,
          0,
          38.25,
          0,
          34.31,
          35.98,
          0,
          0,
          49.47,
          0,
          0,
          41.75,
          36.83,
          38.88,
          52.21,
          45.01,
          50.64,
          40.03,
          45.1,
          37.8,
          40.17,
          49.86,
          29.54,
          40.78,
          49.01,
          50
         ],
         "xaxis": "x",
         "y": [
          1071951,
          223576,
          4909197,
          10595186,
          15192468,
          2200057,
          1890380,
          1314031,
          5213980,
          3030088,
          445402,
          56893,
          1458484,
          50084335,
          42447678,
          45340,
          1421470,
          49814,
          1708798,
          421210,
          5239798,
          64935,
          50752853,
          66777,
          255964,
          19885,
          488057,
          1146724,
          1724220,
          251261,
          4632482,
          21511,
          675912,
          13026629,
          1985889,
          9239657,
          9266263,
          10672859,
          132888951,
          134994,
          3984174,
          798665,
          547075,
          73717676,
          11910109,
          7552067,
          15805665,
          59475032
         ],
         "yaxis": "y"
        },
        {
         "hovertemplate": "<b>%{hovertext}</b><br><br>Continent=Africa<br>Stringency_Index=%{x}<br>Total_Cases=%{y}<br>Population=%{marker.size}<extra></extra>",
         "hovertext": [
          "Algeria",
          "Angola",
          "Benin",
          "Botswana",
          "Burkina Faso",
          "Burundi",
          "Cameroon",
          "Cape Verde",
          "Central African Republic",
          "Chad",
          "Comoros",
          "Congo",
          "Cote d'Ivoire",
          "Democratic Republic of Congo",
          "Djibouti",
          "Egypt",
          "Equatorial Guinea",
          "Eritrea",
          "Ethiopia",
          "Gabon",
          "Gambia",
          "Ghana",
          "Guinea",
          "Guinea-Bissau",
          "Kenya",
          "Lesotho",
          "Liberia",
          "Libya",
          "Madagascar",
          "Malawi",
          "Mali",
          "Mauritania",
          "Mauritius",
          "Morocco",
          "Mozambique",
          "Namibia",
          "Niger",
          "Nigeria",
          "Rwanda",
          "Sao Tome and Principe",
          "Senegal",
          "Seychelles",
          "Sierra Leone",
          "Somalia",
          "South Africa",
          "South Sudan",
          "Sudan",
          "Swaziland",
          "Tanzania",
          "Togo",
          "Tunisia",
          "Uganda",
          "Zambia",
          "Zimbabwe"
         ],
         "legendgroup": "Africa",
         "marker": {
          "color": "#2CA02C",
          "size": [
           43851043,
           32866268,
           12123198,
           2351625,
           20903278,
           11890781,
           26545864,
           555988,
           4829764,
           16425859,
           869595,
           5518092,
           26378275,
           89561404,
           988002,
           102334403,
           1402985,
           3546427,
           114963583,
           2225728,
           2416664,
           31072945,
           13132792,
           1967998,
           53771300,
           2142252,
           5057677,
           6871287,
           27691019,
           19129955,
           20250834,
           4649660,
           1271767,
           36910558,
           31255435,
           2540916,
           24206636,
           206139587,
           12952209,
           219161,
           16743930,
           98340,
           7976985,
           15893219,
           59308690,
           11193729,
           43849269,
           1160164,
           59734213,
           8278737,
           11818618,
           45741000,
           18383956,
           14862927
          ],
          "sizemode": "area",
          "sizeref": 575729.5096,
          "symbol": "circle"
         },
         "mode": "markers",
         "name": "Africa",
         "orientation": "v",
         "showlegend": true,
         "textposition": "top center",
         "type": "scatter",
         "x": [
          55.05,
          53.22,
          34.56,
          43.84,
          39.76,
          8.52,
          43.35,
          51,
          44.28,
          48.33,
          0,
          50.84,
          39.53,
          47.89,
          43.72,
          50.65,
          0,
          65.79,
          55.18,
          51.86,
          52.23,
          39.88,
          46.9,
          0,
          59.21,
          33.84,
          53.44,
          67.21,
          48.47,
          39.92,
          37.4,
          36.7,
          31.09,
          57.66,
          44.02,
          43.19,
          21.06,
          51.64,
          53.25,
          0,
          37.28,
          29.14,
          34.12,
          29.21,
          55.62,
          48.29,
          55.26,
          54.4,
          22.71,
          42.16,
          37.78,
          59.4,
          33.29,
          57.36
         ],
         "xaxis": "x",
         "y": [
          4893999,
          304005,
          245893,
          205758,
          231452,
          49745,
          2476502,
          463888,
          593048,
          154173,
          52437,
          473368,
          2132883,
          1271391,
          781771,
          12422845,
          557355,
          40026,
          4876417,
          1031803,
          229521,
          4900649,
          1195836,
          306564,
          3277734,
          107948,
          159880,
          1817274,
          1443321,
          536447,
          390637,
          799222,
          69524,
          7839270,
          510578,
          681299,
          199978,
          6107371,
          388775,
          121909,
          1586747,
          14701,
          268396,
          491145,
          63027659,
          333500,
          1663545,
          444238,
          91526,
          169903,
          1000626,
          448728,
          1129913,
          593699
         ],
         "yaxis": "y"
        },
        {
         "hovertemplate": "<b>%{hovertext}</b><br><br>Continent=North America<br>Stringency_Index=%{x}<br>Total_Cases=%{y}<br>Population=%{marker.size}<extra></extra>",
         "hovertext": [
          "Anguilla",
          "Antigua and Barbuda",
          "Aruba",
          "Bahamas",
          "Barbados",
          "Belize",
          "Bermuda",
          "Bonaire Sint Eustatius and Saba",
          "British Virgin Islands",
          "Canada",
          "Cayman Islands",
          "Costa Rica",
          "Cuba",
          "Curacao",
          "Dominica",
          "Dominican Republic",
          "El Salvador",
          "Greenland",
          "Grenada",
          "Guatemala",
          "Haiti",
          "Honduras",
          "Jamaica",
          "Mexico",
          "Montserrat",
          "Nicaragua",
          "Panama",
          "Puerto Rico",
          "Saint Kitts and Nevis",
          "Saint Lucia",
          "Saint Vincent and the Grenadines",
          "Trinidad and Tobago",
          "Turks and Caicos Islands",
          "United States",
          "United States Virgin Islands"
         ],
         "legendgroup": "North America",
         "marker": {
          "color": "#D62728",
          "size": [
           15002,
           97928,
           106766,
           393248,
           287371,
           397621,
           62273,
           26221,
           30237,
           37742157,
           65720,
           5094114,
           11326616,
           164100,
           71991,
           10847904,
           6486201,
           56772,
           112519,
           17915567,
           11402533,
           9904608,
           2961161,
           128932753,
           4999,
           6624554,
           4314768,
           2860840,
           53192,
           183629,
           110947,
           1399491,
           38718,
           331002647,
           104423
          ],
          "sizemode": "area",
          "sizeref": 575729.5096,
          "symbol": "circle"
         },
         "mode": "markers",
         "name": "North America",
         "orientation": "v",
         "showlegend": true,
         "textposition": "top center",
         "type": "scatter",
         "x": [
          27.94,
          0,
          37.75,
          0,
          43.36,
          48.99,
          40.06,
          0,
          34.24,
          49.99,
          27.9,
          49.9,
          57.43,
          0,
          36.25,
          59.64,
          62.33,
          31.84,
          0,
          65.21,
          42.7,
          68.34,
          56.33,
          50.95,
          32.07,
          8.98,
          62.62,
          54.27,
          0,
          0,
          0,
          52.13,
          36.94,
          51.03,
          0
         ],
         "xaxis": "x",
         "y": [
          614,
          12619,
          215110,
          237908,
          24998,
          106383,
          28876,
          5080,
          4605,
          20902374,
          33173,
          4631835,
          581546,
          19777,
          3977,
          10649646,
          2573206,
          2678,
          4470,
          7644426,
          1023155,
          6545499,
          370890,
          74347548,
          2383,
          524410,
          10371724,
          3586463,
          3246,
          4450,
          7824,
          225550,
          44432,
          746014098,
          98536
         ],
         "yaxis": "y"
        },
        {
         "hovertemplate": "<b>%{hovertext}</b><br><br>Continent=South America<br>Stringency_Index=%{x}<br>Total_Cases=%{y}<br>Population=%{marker.size}<extra></extra>",
         "hovertext": [
          "Argentina",
          "Bolivia",
          "Brazil",
          "Chile",
          "Colombia",
          "Ecuador",
          "Falkland Islands",
          "Guyana",
          "Paraguay",
          "Peru",
          "Suriname",
          "Uruguay",
          "Venezuela"
         ],
         "legendgroup": "South America",
         "marker": {
          "color": "#9467BD",
          "size": [
           45195777,
           11673029,
           212559409,
           19116209,
           50882884,
           17643060,
           3483,
           786559,
           7132530,
           32971846,
           586634,
           3473727,
           28435943
          ],
          "sizemode": "area",
          "sizeref": 575729.5096,
          "symbol": "circle"
         },
         "mode": "markers",
         "name": "South America",
         "orientation": "v",
         "showlegend": true,
         "textposition": "top center",
         "type": "scatter",
         "x": [
          65.45,
          64.55,
          50.9,
          54.02,
          61.43,
          56.7,
          24.09,
          56.03,
          59.59,
          65.92,
          57.91,
          33.85,
          61.12
         ],
         "xaxis": "x",
         "y": [
          47155234,
          11858838,
          425704517,
          51268034,
          60543682,
          14408757,
          2467,
          166917,
          2265640,
          74882695,
          358632,
          239884,
          4839834
         ],
         "yaxis": "y"
        },
        {
         "hovertemplate": "<b>%{hovertext}</b><br><br>Continent=Oceania<br>Stringency_Index=%{x}<br>Total_Cases=%{y}<br>Population=%{marker.size}<extra></extra>",
         "hovertext": [
          "Australia",
          "Fiji",
          "French Polynesia",
          "Guam",
          "New Caledonia",
          "New Zealand",
          "Northern Mariana Islands",
          "Papua New Guinea",
          "Solomon Islands"
         ],
         "legendgroup": "Oceania",
         "marker": {
          "color": "#8C564B",
          "size": [
           25499881,
           896444,
           280904,
           168783,
           285491,
           4822233,
           57557,
           8947027,
           686878
          ],
          "sizemode": "area",
          "sizeref": 575729.5096,
          "symbol": "circle"
         },
         "mode": "markers",
         "name": "Oceania",
         "orientation": "v",
         "showlegend": true,
         "textposition": "top center",
         "type": "scatter",
         "x": [
          53.64,
          49.69,
          0,
          45.85,
          0,
          38.01,
          0,
          36.23,
          0
         ],
         "xaxis": "x",
         "y": [
          3012377,
          4742,
          95388,
          160975,
          4495,
          253203,
          7784,
          35966,
          11
         ],
         "yaxis": "y"
        },
        {
         "hovertemplate": "<b>%{hovertext}</b><br><br>Continent=Unknown<br>Stringency_Index=%{x}<br>Total_Cases=%{y}<br>Population=%{marker.size}<extra></extra>",
         "hovertext": [
          "Sint Maarten (Dutch part)",
          "Timor",
          "Vatican"
         ],
         "legendgroup": "Unknown",
         "marker": {
          "color": "#E377C2",
          "size": [
           42882,
           1318442,
           809
          ],
          "sizemode": "area",
          "sizeref": 575729.5096,
          "symbol": "circle"
         },
         "mode": "markers",
         "name": "Unknown",
         "orientation": "v",
         "showlegend": true,
         "textposition": "top center",
         "type": "scatter",
         "x": [
          0,
          29.86,
          0
         ],
         "xaxis": "x",
         "y": [
          48026,
          4697,
          2415
         ],
         "yaxis": "y"
        }
       ],
       "layout": {
        "height": 500,
        "legend": {
         "itemsizing": "constant",
         "title": {
          "text": "Continent"
         },
         "tracegroupgap": 0
        },
        "margin": {
         "t": 60
        },
        "template": {
         "data": {
          "bar": [
           {
            "error_x": {
             "color": "rgb(36,36,36)"
            },
            "error_y": {
             "color": "rgb(36,36,36)"
            },
            "marker": {
             "line": {
              "color": "white",
              "width": 0.5
             },
             "pattern": {
              "fillmode": "overlay",
              "size": 10,
              "solidity": 0.2
             }
            },
            "type": "bar"
           }
          ],
          "barpolar": [
           {
            "marker": {
             "line": {
              "color": "white",
              "width": 0.5
             },
             "pattern": {
              "fillmode": "overlay",
              "size": 10,
              "solidity": 0.2
             }
            },
            "type": "barpolar"
           }
          ],
          "carpet": [
           {
            "aaxis": {
             "endlinecolor": "rgb(36,36,36)",
             "gridcolor": "white",
             "linecolor": "white",
             "minorgridcolor": "white",
             "startlinecolor": "rgb(36,36,36)"
            },
            "baxis": {
             "endlinecolor": "rgb(36,36,36)",
             "gridcolor": "white",
             "linecolor": "white",
             "minorgridcolor": "white",
             "startlinecolor": "rgb(36,36,36)"
            },
            "type": "carpet"
           }
          ],
          "choropleth": [
           {
            "colorbar": {
             "outlinewidth": 1,
             "tickcolor": "rgb(36,36,36)",
             "ticks": "outside"
            },
            "type": "choropleth"
           }
          ],
          "contour": [
           {
            "colorbar": {
             "outlinewidth": 1,
             "tickcolor": "rgb(36,36,36)",
             "ticks": "outside"
            },
            "colorscale": [
             [
              0,
              "#440154"
             ],
             [
              0.1111111111111111,
              "#482878"
             ],
             [
              0.2222222222222222,
              "#3e4989"
             ],
             [
              0.3333333333333333,
              "#31688e"
             ],
             [
              0.4444444444444444,
              "#26828e"
             ],
             [
              0.5555555555555556,
              "#1f9e89"
             ],
             [
              0.6666666666666666,
              "#35b779"
             ],
             [
              0.7777777777777778,
              "#6ece58"
             ],
             [
              0.8888888888888888,
              "#b5de2b"
             ],
             [
              1,
              "#fde725"
             ]
            ],
            "type": "contour"
           }
          ],
          "contourcarpet": [
           {
            "colorbar": {
             "outlinewidth": 1,
             "tickcolor": "rgb(36,36,36)",
             "ticks": "outside"
            },
            "type": "contourcarpet"
           }
          ],
          "heatmap": [
           {
            "colorbar": {
             "outlinewidth": 1,
             "tickcolor": "rgb(36,36,36)",
             "ticks": "outside"
            },
            "colorscale": [
             [
              0,
              "#440154"
             ],
             [
              0.1111111111111111,
              "#482878"
             ],
             [
              0.2222222222222222,
              "#3e4989"
             ],
             [
              0.3333333333333333,
              "#31688e"
             ],
             [
              0.4444444444444444,
              "#26828e"
             ],
             [
              0.5555555555555556,
              "#1f9e89"
             ],
             [
              0.6666666666666666,
              "#35b779"
             ],
             [
              0.7777777777777778,
              "#6ece58"
             ],
             [
              0.8888888888888888,
              "#b5de2b"
             ],
             [
              1,
              "#fde725"
             ]
            ],
            "type": "heatmap"
           }
          ],
          "heatmapgl": [
           {
            "colorbar": {
             "outlinewidth": 1,
             "tickcolor": "rgb(36,36,36)",
             "ticks": "outside"
            },
            "colorscale": [
             [
              0,
              "#440154"
             ],
             [
              0.1111111111111111,
              "#482878"
             ],
             [
              0.2222222222222222,
              "#3e4989"
             ],
             [
              0.3333333333333333,
              "#31688e"
             ],
             [
              0.4444444444444444,
              "#26828e"
             ],
             [
              0.5555555555555556,
              "#1f9e89"
             ],
             [
              0.6666666666666666,
              "#35b779"
             ],
             [
              0.7777777777777778,
              "#6ece58"
             ],
             [
              0.8888888888888888,
              "#b5de2b"
             ],
             [
              1,
              "#fde725"
             ]
            ],
            "type": "heatmapgl"
           }
          ],
          "histogram": [
           {
            "marker": {
             "line": {
              "color": "white",
              "width": 0.6
             }
            },
            "type": "histogram"
           }
          ],
          "histogram2d": [
           {
            "colorbar": {
             "outlinewidth": 1,
             "tickcolor": "rgb(36,36,36)",
             "ticks": "outside"
            },
            "colorscale": [
             [
              0,
              "#440154"
             ],
             [
              0.1111111111111111,
              "#482878"
             ],
             [
              0.2222222222222222,
              "#3e4989"
             ],
             [
              0.3333333333333333,
              "#31688e"
             ],
             [
              0.4444444444444444,
              "#26828e"
             ],
             [
              0.5555555555555556,
              "#1f9e89"
             ],
             [
              0.6666666666666666,
              "#35b779"
             ],
             [
              0.7777777777777778,
              "#6ece58"
             ],
             [
              0.8888888888888888,
              "#b5de2b"
             ],
             [
              1,
              "#fde725"
             ]
            ],
            "type": "histogram2d"
           }
          ],
          "histogram2dcontour": [
           {
            "colorbar": {
             "outlinewidth": 1,
             "tickcolor": "rgb(36,36,36)",
             "ticks": "outside"
            },
            "colorscale": [
             [
              0,
              "#440154"
             ],
             [
              0.1111111111111111,
              "#482878"
             ],
             [
              0.2222222222222222,
              "#3e4989"
             ],
             [
              0.3333333333333333,
              "#31688e"
             ],
             [
              0.4444444444444444,
              "#26828e"
             ],
             [
              0.5555555555555556,
              "#1f9e89"
             ],
             [
              0.6666666666666666,
              "#35b779"
             ],
             [
              0.7777777777777778,
              "#6ece58"
             ],
             [
              0.8888888888888888,
              "#b5de2b"
             ],
             [
              1,
              "#fde725"
             ]
            ],
            "type": "histogram2dcontour"
           }
          ],
          "mesh3d": [
           {
            "colorbar": {
             "outlinewidth": 1,
             "tickcolor": "rgb(36,36,36)",
             "ticks": "outside"
            },
            "type": "mesh3d"
           }
          ],
          "parcoords": [
           {
            "line": {
             "colorbar": {
              "outlinewidth": 1,
              "tickcolor": "rgb(36,36,36)",
              "ticks": "outside"
             }
            },
            "type": "parcoords"
           }
          ],
          "pie": [
           {
            "automargin": true,
            "type": "pie"
           }
          ],
          "scatter": [
           {
            "marker": {
             "colorbar": {
              "outlinewidth": 1,
              "tickcolor": "rgb(36,36,36)",
              "ticks": "outside"
             }
            },
            "type": "scatter"
           }
          ],
          "scatter3d": [
           {
            "line": {
             "colorbar": {
              "outlinewidth": 1,
              "tickcolor": "rgb(36,36,36)",
              "ticks": "outside"
             }
            },
            "marker": {
             "colorbar": {
              "outlinewidth": 1,
              "tickcolor": "rgb(36,36,36)",
              "ticks": "outside"
             }
            },
            "type": "scatter3d"
           }
          ],
          "scattercarpet": [
           {
            "marker": {
             "colorbar": {
              "outlinewidth": 1,
              "tickcolor": "rgb(36,36,36)",
              "ticks": "outside"
             }
            },
            "type": "scattercarpet"
           }
          ],
          "scattergeo": [
           {
            "marker": {
             "colorbar": {
              "outlinewidth": 1,
              "tickcolor": "rgb(36,36,36)",
              "ticks": "outside"
             }
            },
            "type": "scattergeo"
           }
          ],
          "scattergl": [
           {
            "marker": {
             "colorbar": {
              "outlinewidth": 1,
              "tickcolor": "rgb(36,36,36)",
              "ticks": "outside"
             }
            },
            "type": "scattergl"
           }
          ],
          "scattermapbox": [
           {
            "marker": {
             "colorbar": {
              "outlinewidth": 1,
              "tickcolor": "rgb(36,36,36)",
              "ticks": "outside"
             }
            },
            "type": "scattermapbox"
           }
          ],
          "scatterpolar": [
           {
            "marker": {
             "colorbar": {
              "outlinewidth": 1,
              "tickcolor": "rgb(36,36,36)",
              "ticks": "outside"
             }
            },
            "type": "scatterpolar"
           }
          ],
          "scatterpolargl": [
           {
            "marker": {
             "colorbar": {
              "outlinewidth": 1,
              "tickcolor": "rgb(36,36,36)",
              "ticks": "outside"
             }
            },
            "type": "scatterpolargl"
           }
          ],
          "scatterternary": [
           {
            "marker": {
             "colorbar": {
              "outlinewidth": 1,
              "tickcolor": "rgb(36,36,36)",
              "ticks": "outside"
             }
            },
            "type": "scatterternary"
           }
          ],
          "surface": [
           {
            "colorbar": {
             "outlinewidth": 1,
             "tickcolor": "rgb(36,36,36)",
             "ticks": "outside"
            },
            "colorscale": [
             [
              0,
              "#440154"
             ],
             [
              0.1111111111111111,
              "#482878"
             ],
             [
              0.2222222222222222,
              "#3e4989"
             ],
             [
              0.3333333333333333,
              "#31688e"
             ],
             [
              0.4444444444444444,
              "#26828e"
             ],
             [
              0.5555555555555556,
              "#1f9e89"
             ],
             [
              0.6666666666666666,
              "#35b779"
             ],
             [
              0.7777777777777778,
              "#6ece58"
             ],
             [
              0.8888888888888888,
              "#b5de2b"
             ],
             [
              1,
              "#fde725"
             ]
            ],
            "type": "surface"
           }
          ],
          "table": [
           {
            "cells": {
             "fill": {
              "color": "rgb(237,237,237)"
             },
             "line": {
              "color": "white"
             }
            },
            "header": {
             "fill": {
              "color": "rgb(217,217,217)"
             },
             "line": {
              "color": "white"
             }
            },
            "type": "table"
           }
          ]
         },
         "layout": {
          "annotationdefaults": {
           "arrowhead": 0,
           "arrowwidth": 1
          },
          "autotypenumbers": "strict",
          "coloraxis": {
           "colorbar": {
            "outlinewidth": 1,
            "tickcolor": "rgb(36,36,36)",
            "ticks": "outside"
           }
          },
          "colorscale": {
           "diverging": [
            [
             0,
             "rgb(103,0,31)"
            ],
            [
             0.1,
             "rgb(178,24,43)"
            ],
            [
             0.2,
             "rgb(214,96,77)"
            ],
            [
             0.3,
             "rgb(244,165,130)"
            ],
            [
             0.4,
             "rgb(253,219,199)"
            ],
            [
             0.5,
             "rgb(247,247,247)"
            ],
            [
             0.6,
             "rgb(209,229,240)"
            ],
            [
             0.7,
             "rgb(146,197,222)"
            ],
            [
             0.8,
             "rgb(67,147,195)"
            ],
            [
             0.9,
             "rgb(33,102,172)"
            ],
            [
             1,
             "rgb(5,48,97)"
            ]
           ],
           "sequential": [
            [
             0,
             "#440154"
            ],
            [
             0.1111111111111111,
             "#482878"
            ],
            [
             0.2222222222222222,
             "#3e4989"
            ],
            [
             0.3333333333333333,
             "#31688e"
            ],
            [
             0.4444444444444444,
             "#26828e"
            ],
            [
             0.5555555555555556,
             "#1f9e89"
            ],
            [
             0.6666666666666666,
             "#35b779"
            ],
            [
             0.7777777777777778,
             "#6ece58"
            ],
            [
             0.8888888888888888,
             "#b5de2b"
            ],
            [
             1,
             "#fde725"
            ]
           ],
           "sequentialminus": [
            [
             0,
             "#440154"
            ],
            [
             0.1111111111111111,
             "#482878"
            ],
            [
             0.2222222222222222,
             "#3e4989"
            ],
            [
             0.3333333333333333,
             "#31688e"
            ],
            [
             0.4444444444444444,
             "#26828e"
            ],
            [
             0.5555555555555556,
             "#1f9e89"
            ],
            [
             0.6666666666666666,
             "#35b779"
            ],
            [
             0.7777777777777778,
             "#6ece58"
            ],
            [
             0.8888888888888888,
             "#b5de2b"
            ],
            [
             1,
             "#fde725"
            ]
           ]
          },
          "colorway": [
           "#1F77B4",
           "#FF7F0E",
           "#2CA02C",
           "#D62728",
           "#9467BD",
           "#8C564B",
           "#E377C2",
           "#7F7F7F",
           "#BCBD22",
           "#17BECF"
          ],
          "font": {
           "color": "rgb(36,36,36)"
          },
          "geo": {
           "bgcolor": "white",
           "lakecolor": "white",
           "landcolor": "white",
           "showlakes": true,
           "showland": true,
           "subunitcolor": "white"
          },
          "hoverlabel": {
           "align": "left"
          },
          "hovermode": "closest",
          "mapbox": {
           "style": "light"
          },
          "paper_bgcolor": "white",
          "plot_bgcolor": "white",
          "polar": {
           "angularaxis": {
            "gridcolor": "rgb(232,232,232)",
            "linecolor": "rgb(36,36,36)",
            "showgrid": false,
            "showline": true,
            "ticks": "outside"
           },
           "bgcolor": "white",
           "radialaxis": {
            "gridcolor": "rgb(232,232,232)",
            "linecolor": "rgb(36,36,36)",
            "showgrid": false,
            "showline": true,
            "ticks": "outside"
           }
          },
          "scene": {
           "xaxis": {
            "backgroundcolor": "white",
            "gridcolor": "rgb(232,232,232)",
            "gridwidth": 2,
            "linecolor": "rgb(36,36,36)",
            "showbackground": true,
            "showgrid": false,
            "showline": true,
            "ticks": "outside",
            "zeroline": false,
            "zerolinecolor": "rgb(36,36,36)"
           },
           "yaxis": {
            "backgroundcolor": "white",
            "gridcolor": "rgb(232,232,232)",
            "gridwidth": 2,
            "linecolor": "rgb(36,36,36)",
            "showbackground": true,
            "showgrid": false,
            "showline": true,
            "ticks": "outside",
            "zeroline": false,
            "zerolinecolor": "rgb(36,36,36)"
           },
           "zaxis": {
            "backgroundcolor": "white",
            "gridcolor": "rgb(232,232,232)",
            "gridwidth": 2,
            "linecolor": "rgb(36,36,36)",
            "showbackground": true,
            "showgrid": false,
            "showline": true,
            "ticks": "outside",
            "zeroline": false,
            "zerolinecolor": "rgb(36,36,36)"
           }
          },
          "shapedefaults": {
           "fillcolor": "black",
           "line": {
            "width": 0
           },
           "opacity": 0.3
          },
          "ternary": {
           "aaxis": {
            "gridcolor": "rgb(232,232,232)",
            "linecolor": "rgb(36,36,36)",
            "showgrid": false,
            "showline": true,
            "ticks": "outside"
           },
           "baxis": {
            "gridcolor": "rgb(232,232,232)",
            "linecolor": "rgb(36,36,36)",
            "showgrid": false,
            "showline": true,
            "ticks": "outside"
           },
           "bgcolor": "white",
           "caxis": {
            "gridcolor": "rgb(232,232,232)",
            "linecolor": "rgb(36,36,36)",
            "showgrid": false,
            "showline": true,
            "ticks": "outside"
           }
          },
          "title": {
           "x": 0.05
          },
          "xaxis": {
           "automargin": true,
           "gridcolor": "rgb(232,232,232)",
           "linecolor": "rgb(36,36,36)",
           "showgrid": false,
           "showline": true,
           "ticks": "outside",
           "title": {
            "standoff": 15
           },
           "zeroline": false,
           "zerolinecolor": "rgb(36,36,36)"
          },
          "yaxis": {
           "automargin": true,
           "gridcolor": "rgb(232,232,232)",
           "linecolor": "rgb(36,36,36)",
           "showgrid": false,
           "showline": true,
           "ticks": "outside",
           "title": {
            "standoff": 15
           },
           "zeroline": false,
           "zerolinecolor": "rgb(36,36,36)"
          }
         }
        },
        "title": {
         "text": "COVID-19 Cases vs Stringency Index (per Country)"
        },
        "xaxis": {
         "anchor": "y",
         "domain": [
          0,
          1
         ],
         "title": {
          "text": "Stringency_Index"
         }
        },
        "yaxis": {
         "anchor": "x",
         "domain": [
          0,
          1
         ],
         "title": {
          "text": "Total_Cases"
         }
        }
       }
      },
      "text/html": [
       "<div>                            <div id=\"24f300ac-5149-4e12-bc15-d4f7046f3b25\" class=\"plotly-graph-div\" style=\"height:500px; width:100%;\"></div>            <script type=\"text/javascript\">                require([\"plotly\"], function(Plotly) {                    window.PLOTLYENV=window.PLOTLYENV || {};                                    if (document.getElementById(\"24f300ac-5149-4e12-bc15-d4f7046f3b25\")) {                    Plotly.newPlot(                        \"24f300ac-5149-4e12-bc15-d4f7046f3b25\",                        [{\"hovertemplate\":\"<b>%{hovertext}</b><br><br>Continent=Asia<br>Stringency_Index=%{x}<br>Total_Cases=%{y}<br>Population=%{marker.size}<extra></extra>\",\"hovertext\":[\"Afghanistan\",\"Armenia\",\"Azerbaijan\",\"Bahrain\",\"Bangladesh\",\"Bhutan\",\"Brunei\",\"Cambodia\",\"China\",\"Cyprus\",\"Georgia\",\"Hong Kong\",\"India\",\"Indonesia\",\"Iran\",\"Iraq\",\"Israel\",\"Japan\",\"Jordan\",\"Kazakhstan\",\"Kuwait\",\"Kyrgyzstan\",\"Laos\",\"Lebanon\",\"Malaysia\",\"Maldives\",\"Mongolia\",\"Myanmar\",\"Nepal\",\"Oman\",\"Pakistan\",\"Palestine\",\"Philippines\",\"Qatar\",\"Saudi Arabia\",\"Singapore\",\"South Korea\",\"Sri Lanka\",\"Syria\",\"Taiwan\",\"Tajikistan\",\"Thailand\",\"Turkey\",\"United Arab Emirates\",\"Uzbekistan\",\"Vietnam\",\"Yemen\"],\"legendgroup\":\"Asia\",\"marker\":{\"color\":\"#1F77B4\",\"size\":[38928341,2963234,10139175,1701583,164689383,771612,437483,16718971,1439323774,875899,3989175,7496988,1380004385,273523621,83992953,40222503,8655541,126476458,10203140,18776707,4270563,6524191,7275556,6825442,32365998,540542,3278292,54409794,29136808,5106622,220892331,5101416,109581085,2881060,34813867,5850343,51269183,21413250,17500657,23816775,9537642,69799978,84339067,9890400,33469199,97338583,29825968],\"sizemode\":\"area\",\"sizeref\":575729.5096,\"symbol\":\"circle\"},\"mode\":\"markers\",\"name\":\"Asia\",\"orientation\":\"v\",\"showlegend\":true,\"x\":[46.8,0.0,63.65,55.47,57.18,54.15,34.38,34.51,66.57,48.51,56.89,9.63,61.33,50.77,42.07,69.25,54.81,29.95,51.49,59.68,61.74,57.14,31.54,52.81,48.87,0.0,45.93,56.67,64.28,65.79,51.13,63.01,61.52,58.29,54.82,49.87,46.03,43.35,44.93,21.16,29.76,42.95,47.09,45.24,54.33,56.42,27.8],\"xaxis\":\"x\",\"y\":[5126433.0,5474629.0,4236782.0,6549995.0,35266178.0,22847.0,30140.0,39539.0,21632319.0,236673.0,431689.0,0.0,407771615.0,21570149.0,52421884.0,25280332.0,16202474.0,7659484.0,716514.0,13194863.0,10622205.0,4287847.0,4039.0,2220699.0,1774181.0,844040.0,42465.0,644209.0,5243653.0,10060093.0,37738077.0,3249458.0,22409936.0,16351440.0,38585191.0,8191161.0,3333075.0,446643.0,267902.0,97074.0,1117391.0,655703.0,41431948.0,10247326.0,4421215.0,122618.0,228925.0],\"yaxis\":\"y\",\"type\":\"scatter\",\"textposition\":\"top center\"},{\"hovertemplate\":\"<b>%{hovertext}</b><br><br>Continent=Europe<br>Stringency_Index=%{x}<br>Total_Cases=%{y}<br>Population=%{marker.size}<extra></extra>\",\"hovertext\":[\"Albania\",\"Andorra\",\"Austria\",\"Belarus\",\"Belgium\",\"Bosnia and Herzegovina\",\"Bulgaria\",\"Croatia\",\"Czech Republic\",\"Denmark\",\"Estonia\",\"Faeroe Islands\",\"Finland\",\"France\",\"Germany\",\"Gibraltar\",\"Greece\",\"Guernsey\",\"Hungary\",\"Iceland\",\"Ireland\",\"Isle of Man\",\"Italy\",\"Jersey\",\"Latvia\",\"Liechtenstein\",\"Lithuania\",\"Luxembourg\",\"Macedonia\",\"Malta\",\"Moldova\",\"Monaco\",\"Montenegro\",\"Netherlands\",\"Norway\",\"Poland\",\"Portugal\",\"Romania\",\"Russia\",\"San Marino\",\"Serbia\",\"Slovakia\",\"Slovenia\",\"Spain\",\"Sweden\",\"Switzerland\",\"Ukraine\",\"United Kingdom\"],\"legendgroup\":\"Europe\",\"marker\":{\"color\":\"#FF7F0E\",\"size\":[2877800,77265,9006400,9449321,11589616,3280815,6948445,4105268,10708982,5792203,1326539,48865,5540718,65273512,83783945,33691,10423056,67052,9660350,341250,4937796,85032,60461828,101073,1886202,38137,2722291,625976,2083380,441539,4033963,39244,628062,17134873,5421242,37846605,10196707,19237682,145934460,33938,6804596,5459643,2078932,46754783,10099270,8654618,43733759,67886004],\"sizemode\":\"area\",\"sizeref\":575729.5096,\"symbol\":\"circle\"},\"mode\":\"markers\",\"name\":\"Europe\",\"orientation\":\"v\",\"showlegend\":true,\"x\":[48.63,31.29,37.96,8.85,47.58,46.46,35.07,38.18,37.5,43.27,28.58,0.0,33.9,46.55,45.17,33.24,45.42,0.0,42.59,32.31,50.81,0.0,53.55,0.0,38.25,0.0,34.31,35.98,0.0,0.0,49.47,0.0,0.0,41.75,36.83,38.88,52.21,45.01,50.64,40.03,45.1,37.8,40.17,49.86,29.54,40.78,49.01,50.0],\"xaxis\":\"x\",\"y\":[1071951.0,223576.0,4909197.0,10595186.0,15192468.0,2200057.0,1890380.0,1314031.0,5213980.0,3030088.0,445402.0,56893.0,1458484.0,50084335.0,42447678.0,45340.0,1421470.0,49814.0,1708798.0,421210.0,5239798.0,64935.0,50752853.0,66777.0,255964.0,19885.0,488057.0,1146724.0,1724220.0,251261.0,4632482.0,21511.0,675912.0,13026629.0,1985889.0,9239657.0,9266263.0,10672859.0,132888951.0,134994.0,3984174.0,798665.0,547075.0,73717676.0,11910109.0,7552067.0,15805665.0,59475032.0],\"yaxis\":\"y\",\"type\":\"scatter\",\"textposition\":\"top center\"},{\"hovertemplate\":\"<b>%{hovertext}</b><br><br>Continent=Africa<br>Stringency_Index=%{x}<br>Total_Cases=%{y}<br>Population=%{marker.size}<extra></extra>\",\"hovertext\":[\"Algeria\",\"Angola\",\"Benin\",\"Botswana\",\"Burkina Faso\",\"Burundi\",\"Cameroon\",\"Cape Verde\",\"Central African Republic\",\"Chad\",\"Comoros\",\"Congo\",\"Cote d'Ivoire\",\"Democratic Republic of Congo\",\"Djibouti\",\"Egypt\",\"Equatorial Guinea\",\"Eritrea\",\"Ethiopia\",\"Gabon\",\"Gambia\",\"Ghana\",\"Guinea\",\"Guinea-Bissau\",\"Kenya\",\"Lesotho\",\"Liberia\",\"Libya\",\"Madagascar\",\"Malawi\",\"Mali\",\"Mauritania\",\"Mauritius\",\"Morocco\",\"Mozambique\",\"Namibia\",\"Niger\",\"Nigeria\",\"Rwanda\",\"Sao Tome and Principe\",\"Senegal\",\"Seychelles\",\"Sierra Leone\",\"Somalia\",\"South Africa\",\"South Sudan\",\"Sudan\",\"Swaziland\",\"Tanzania\",\"Togo\",\"Tunisia\",\"Uganda\",\"Zambia\",\"Zimbabwe\"],\"legendgroup\":\"Africa\",\"marker\":{\"color\":\"#2CA02C\",\"size\":[43851043,32866268,12123198,2351625,20903278,11890781,26545864,555988,4829764,16425859,869595,5518092,26378275,89561404,988002,102334403,1402985,3546427,114963583,2225728,2416664,31072945,13132792,1967998,53771300,2142252,5057677,6871287,27691019,19129955,20250834,4649660,1271767,36910558,31255435,2540916,24206636,206139587,12952209,219161,16743930,98340,7976985,15893219,59308690,11193729,43849269,1160164,59734213,8278737,11818618,45741000,18383956,14862927],\"sizemode\":\"area\",\"sizeref\":575729.5096,\"symbol\":\"circle\"},\"mode\":\"markers\",\"name\":\"Africa\",\"orientation\":\"v\",\"showlegend\":true,\"x\":[55.05,53.22,34.56,43.84,39.76,8.52,43.35,51.0,44.28,48.33,0.0,50.84,39.53,47.89,43.72,50.65,0.0,65.79,55.18,51.86,52.23,39.88,46.9,0.0,59.21,33.84,53.44,67.21,48.47,39.92,37.4,36.7,31.09,57.66,44.02,43.19,21.06,51.64,53.25,0.0,37.28,29.14,34.12,29.21,55.62,48.29,55.26,54.4,22.71,42.16,37.78,59.4,33.29,57.36],\"xaxis\":\"x\",\"y\":[4893999.0,304005.0,245893.0,205758.0,231452.0,49745.0,2476502.0,463888.0,593048.0,154173.0,52437.0,473368.0,2132883.0,1271391.0,781771.0,12422845.0,557355.0,40026.0,4876417.0,1031803.0,229521.0,4900649.0,1195836.0,306564.0,3277734.0,107948.0,159880.0,1817274.0,1443321.0,536447.0,390637.0,799222.0,69524.0,7839270.0,510578.0,681299.0,199978.0,6107371.0,388775.0,121909.0,1586747.0,14701.0,268396.0,491145.0,63027659.0,333500.0,1663545.0,444238.0,91526.0,169903.0,1000626.0,448728.0,1129913.0,593699.0],\"yaxis\":\"y\",\"type\":\"scatter\",\"textposition\":\"top center\"},{\"hovertemplate\":\"<b>%{hovertext}</b><br><br>Continent=North America<br>Stringency_Index=%{x}<br>Total_Cases=%{y}<br>Population=%{marker.size}<extra></extra>\",\"hovertext\":[\"Anguilla\",\"Antigua and Barbuda\",\"Aruba\",\"Bahamas\",\"Barbados\",\"Belize\",\"Bermuda\",\"Bonaire Sint Eustatius and Saba\",\"British Virgin Islands\",\"Canada\",\"Cayman Islands\",\"Costa Rica\",\"Cuba\",\"Curacao\",\"Dominica\",\"Dominican Republic\",\"El Salvador\",\"Greenland\",\"Grenada\",\"Guatemala\",\"Haiti\",\"Honduras\",\"Jamaica\",\"Mexico\",\"Montserrat\",\"Nicaragua\",\"Panama\",\"Puerto Rico\",\"Saint Kitts and Nevis\",\"Saint Lucia\",\"Saint Vincent and the Grenadines\",\"Trinidad and Tobago\",\"Turks and Caicos Islands\",\"United States\",\"United States Virgin Islands\"],\"legendgroup\":\"North America\",\"marker\":{\"color\":\"#D62728\",\"size\":[15002,97928,106766,393248,287371,397621,62273,26221,30237,37742157,65720,5094114,11326616,164100,71991,10847904,6486201,56772,112519,17915567,11402533,9904608,2961161,128932753,4999,6624554,4314768,2860840,53192,183629,110947,1399491,38718,331002647,104423],\"sizemode\":\"area\",\"sizeref\":575729.5096,\"symbol\":\"circle\"},\"mode\":\"markers\",\"name\":\"North America\",\"orientation\":\"v\",\"showlegend\":true,\"x\":[27.94,0.0,37.75,0.0,43.36,48.99,40.06,0.0,34.24,49.99,27.9,49.9,57.43,0.0,36.25,59.64,62.33,31.84,0.0,65.21,42.7,68.34,56.33,50.95,32.07,8.98,62.62,54.27,0.0,0.0,0.0,52.13,36.94,51.03,0.0],\"xaxis\":\"x\",\"y\":[614.0,12619.0,215110.0,237908.0,24998.0,106383.0,28876.0,5080.0,4605.0,20902374.0,33173.0,4631835.0,581546.0,19777.0,3977.0,10649646.0,2573206.0,2678.0,4470.0,7644426.0,1023155.0,6545499.0,370890.0,74347548.0,2383.0,524410.0,10371724.0,3586463.0,3246.0,4450.0,7824.0,225550.0,44432.0,746014098.0,98536.0],\"yaxis\":\"y\",\"type\":\"scatter\",\"textposition\":\"top center\"},{\"hovertemplate\":\"<b>%{hovertext}</b><br><br>Continent=South America<br>Stringency_Index=%{x}<br>Total_Cases=%{y}<br>Population=%{marker.size}<extra></extra>\",\"hovertext\":[\"Argentina\",\"Bolivia\",\"Brazil\",\"Chile\",\"Colombia\",\"Ecuador\",\"Falkland Islands\",\"Guyana\",\"Paraguay\",\"Peru\",\"Suriname\",\"Uruguay\",\"Venezuela\"],\"legendgroup\":\"South America\",\"marker\":{\"color\":\"#9467BD\",\"size\":[45195777,11673029,212559409,19116209,50882884,17643060,3483,786559,7132530,32971846,586634,3473727,28435943],\"sizemode\":\"area\",\"sizeref\":575729.5096,\"symbol\":\"circle\"},\"mode\":\"markers\",\"name\":\"South America\",\"orientation\":\"v\",\"showlegend\":true,\"x\":[65.45,64.55,50.9,54.02,61.43,56.7,24.09,56.03,59.59,65.92,57.91,33.85,61.12],\"xaxis\":\"x\",\"y\":[47155234.0,11858838.0,425704517.0,51268034.0,60543682.0,14408757.0,2467.0,166917.0,2265640.0,74882695.0,358632.0,239884.0,4839834.0],\"yaxis\":\"y\",\"type\":\"scatter\",\"textposition\":\"top center\"},{\"hovertemplate\":\"<b>%{hovertext}</b><br><br>Continent=Oceania<br>Stringency_Index=%{x}<br>Total_Cases=%{y}<br>Population=%{marker.size}<extra></extra>\",\"hovertext\":[\"Australia\",\"Fiji\",\"French Polynesia\",\"Guam\",\"New Caledonia\",\"New Zealand\",\"Northern Mariana Islands\",\"Papua New Guinea\",\"Solomon Islands\"],\"legendgroup\":\"Oceania\",\"marker\":{\"color\":\"#8C564B\",\"size\":[25499881,896444,280904,168783,285491,4822233,57557,8947027,686878],\"sizemode\":\"area\",\"sizeref\":575729.5096,\"symbol\":\"circle\"},\"mode\":\"markers\",\"name\":\"Oceania\",\"orientation\":\"v\",\"showlegend\":true,\"x\":[53.64,49.69,0.0,45.85,0.0,38.01,0.0,36.23,0.0],\"xaxis\":\"x\",\"y\":[3012377.0,4742.0,95388.0,160975.0,4495.0,253203.0,7784.0,35966.0,11.0],\"yaxis\":\"y\",\"type\":\"scatter\",\"textposition\":\"top center\"},{\"hovertemplate\":\"<b>%{hovertext}</b><br><br>Continent=Unknown<br>Stringency_Index=%{x}<br>Total_Cases=%{y}<br>Population=%{marker.size}<extra></extra>\",\"hovertext\":[\"Sint Maarten (Dutch part)\",\"Timor\",\"Vatican\"],\"legendgroup\":\"Unknown\",\"marker\":{\"color\":\"#E377C2\",\"size\":[42882,1318442,809],\"sizemode\":\"area\",\"sizeref\":575729.5096,\"symbol\":\"circle\"},\"mode\":\"markers\",\"name\":\"Unknown\",\"orientation\":\"v\",\"showlegend\":true,\"x\":[0.0,29.86,0.0],\"xaxis\":\"x\",\"y\":[48026.0,4697.0,2415.0],\"yaxis\":\"y\",\"type\":\"scatter\",\"textposition\":\"top center\"}],                        {\"template\":{\"data\":{\"barpolar\":[{\"marker\":{\"line\":{\"color\":\"white\",\"width\":0.5},\"pattern\":{\"fillmode\":\"overlay\",\"size\":10,\"solidity\":0.2}},\"type\":\"barpolar\"}],\"bar\":[{\"error_x\":{\"color\":\"rgb(36,36,36)\"},\"error_y\":{\"color\":\"rgb(36,36,36)\"},\"marker\":{\"line\":{\"color\":\"white\",\"width\":0.5},\"pattern\":{\"fillmode\":\"overlay\",\"size\":10,\"solidity\":0.2}},\"type\":\"bar\"}],\"carpet\":[{\"aaxis\":{\"endlinecolor\":\"rgb(36,36,36)\",\"gridcolor\":\"white\",\"linecolor\":\"white\",\"minorgridcolor\":\"white\",\"startlinecolor\":\"rgb(36,36,36)\"},\"baxis\":{\"endlinecolor\":\"rgb(36,36,36)\",\"gridcolor\":\"white\",\"linecolor\":\"white\",\"minorgridcolor\":\"white\",\"startlinecolor\":\"rgb(36,36,36)\"},\"type\":\"carpet\"}],\"choropleth\":[{\"colorbar\":{\"outlinewidth\":1,\"tickcolor\":\"rgb(36,36,36)\",\"ticks\":\"outside\"},\"type\":\"choropleth\"}],\"contourcarpet\":[{\"colorbar\":{\"outlinewidth\":1,\"tickcolor\":\"rgb(36,36,36)\",\"ticks\":\"outside\"},\"type\":\"contourcarpet\"}],\"contour\":[{\"colorbar\":{\"outlinewidth\":1,\"tickcolor\":\"rgb(36,36,36)\",\"ticks\":\"outside\"},\"colorscale\":[[0.0,\"#440154\"],[0.1111111111111111,\"#482878\"],[0.2222222222222222,\"#3e4989\"],[0.3333333333333333,\"#31688e\"],[0.4444444444444444,\"#26828e\"],[0.5555555555555556,\"#1f9e89\"],[0.6666666666666666,\"#35b779\"],[0.7777777777777778,\"#6ece58\"],[0.8888888888888888,\"#b5de2b\"],[1.0,\"#fde725\"]],\"type\":\"contour\"}],\"heatmapgl\":[{\"colorbar\":{\"outlinewidth\":1,\"tickcolor\":\"rgb(36,36,36)\",\"ticks\":\"outside\"},\"colorscale\":[[0.0,\"#440154\"],[0.1111111111111111,\"#482878\"],[0.2222222222222222,\"#3e4989\"],[0.3333333333333333,\"#31688e\"],[0.4444444444444444,\"#26828e\"],[0.5555555555555556,\"#1f9e89\"],[0.6666666666666666,\"#35b779\"],[0.7777777777777778,\"#6ece58\"],[0.8888888888888888,\"#b5de2b\"],[1.0,\"#fde725\"]],\"type\":\"heatmapgl\"}],\"heatmap\":[{\"colorbar\":{\"outlinewidth\":1,\"tickcolor\":\"rgb(36,36,36)\",\"ticks\":\"outside\"},\"colorscale\":[[0.0,\"#440154\"],[0.1111111111111111,\"#482878\"],[0.2222222222222222,\"#3e4989\"],[0.3333333333333333,\"#31688e\"],[0.4444444444444444,\"#26828e\"],[0.5555555555555556,\"#1f9e89\"],[0.6666666666666666,\"#35b779\"],[0.7777777777777778,\"#6ece58\"],[0.8888888888888888,\"#b5de2b\"],[1.0,\"#fde725\"]],\"type\":\"heatmap\"}],\"histogram2dcontour\":[{\"colorbar\":{\"outlinewidth\":1,\"tickcolor\":\"rgb(36,36,36)\",\"ticks\":\"outside\"},\"colorscale\":[[0.0,\"#440154\"],[0.1111111111111111,\"#482878\"],[0.2222222222222222,\"#3e4989\"],[0.3333333333333333,\"#31688e\"],[0.4444444444444444,\"#26828e\"],[0.5555555555555556,\"#1f9e89\"],[0.6666666666666666,\"#35b779\"],[0.7777777777777778,\"#6ece58\"],[0.8888888888888888,\"#b5de2b\"],[1.0,\"#fde725\"]],\"type\":\"histogram2dcontour\"}],\"histogram2d\":[{\"colorbar\":{\"outlinewidth\":1,\"tickcolor\":\"rgb(36,36,36)\",\"ticks\":\"outside\"},\"colorscale\":[[0.0,\"#440154\"],[0.1111111111111111,\"#482878\"],[0.2222222222222222,\"#3e4989\"],[0.3333333333333333,\"#31688e\"],[0.4444444444444444,\"#26828e\"],[0.5555555555555556,\"#1f9e89\"],[0.6666666666666666,\"#35b779\"],[0.7777777777777778,\"#6ece58\"],[0.8888888888888888,\"#b5de2b\"],[1.0,\"#fde725\"]],\"type\":\"histogram2d\"}],\"histogram\":[{\"marker\":{\"line\":{\"color\":\"white\",\"width\":0.6}},\"type\":\"histogram\"}],\"mesh3d\":[{\"colorbar\":{\"outlinewidth\":1,\"tickcolor\":\"rgb(36,36,36)\",\"ticks\":\"outside\"},\"type\":\"mesh3d\"}],\"parcoords\":[{\"line\":{\"colorbar\":{\"outlinewidth\":1,\"tickcolor\":\"rgb(36,36,36)\",\"ticks\":\"outside\"}},\"type\":\"parcoords\"}],\"pie\":[{\"automargin\":true,\"type\":\"pie\"}],\"scatter3d\":[{\"line\":{\"colorbar\":{\"outlinewidth\":1,\"tickcolor\":\"rgb(36,36,36)\",\"ticks\":\"outside\"}},\"marker\":{\"colorbar\":{\"outlinewidth\":1,\"tickcolor\":\"rgb(36,36,36)\",\"ticks\":\"outside\"}},\"type\":\"scatter3d\"}],\"scattercarpet\":[{\"marker\":{\"colorbar\":{\"outlinewidth\":1,\"tickcolor\":\"rgb(36,36,36)\",\"ticks\":\"outside\"}},\"type\":\"scattercarpet\"}],\"scattergeo\":[{\"marker\":{\"colorbar\":{\"outlinewidth\":1,\"tickcolor\":\"rgb(36,36,36)\",\"ticks\":\"outside\"}},\"type\":\"scattergeo\"}],\"scattergl\":[{\"marker\":{\"colorbar\":{\"outlinewidth\":1,\"tickcolor\":\"rgb(36,36,36)\",\"ticks\":\"outside\"}},\"type\":\"scattergl\"}],\"scattermapbox\":[{\"marker\":{\"colorbar\":{\"outlinewidth\":1,\"tickcolor\":\"rgb(36,36,36)\",\"ticks\":\"outside\"}},\"type\":\"scattermapbox\"}],\"scatterpolargl\":[{\"marker\":{\"colorbar\":{\"outlinewidth\":1,\"tickcolor\":\"rgb(36,36,36)\",\"ticks\":\"outside\"}},\"type\":\"scatterpolargl\"}],\"scatterpolar\":[{\"marker\":{\"colorbar\":{\"outlinewidth\":1,\"tickcolor\":\"rgb(36,36,36)\",\"ticks\":\"outside\"}},\"type\":\"scatterpolar\"}],\"scatter\":[{\"marker\":{\"colorbar\":{\"outlinewidth\":1,\"tickcolor\":\"rgb(36,36,36)\",\"ticks\":\"outside\"}},\"type\":\"scatter\"}],\"scatterternary\":[{\"marker\":{\"colorbar\":{\"outlinewidth\":1,\"tickcolor\":\"rgb(36,36,36)\",\"ticks\":\"outside\"}},\"type\":\"scatterternary\"}],\"surface\":[{\"colorbar\":{\"outlinewidth\":1,\"tickcolor\":\"rgb(36,36,36)\",\"ticks\":\"outside\"},\"colorscale\":[[0.0,\"#440154\"],[0.1111111111111111,\"#482878\"],[0.2222222222222222,\"#3e4989\"],[0.3333333333333333,\"#31688e\"],[0.4444444444444444,\"#26828e\"],[0.5555555555555556,\"#1f9e89\"],[0.6666666666666666,\"#35b779\"],[0.7777777777777778,\"#6ece58\"],[0.8888888888888888,\"#b5de2b\"],[1.0,\"#fde725\"]],\"type\":\"surface\"}],\"table\":[{\"cells\":{\"fill\":{\"color\":\"rgb(237,237,237)\"},\"line\":{\"color\":\"white\"}},\"header\":{\"fill\":{\"color\":\"rgb(217,217,217)\"},\"line\":{\"color\":\"white\"}},\"type\":\"table\"}]},\"layout\":{\"annotationdefaults\":{\"arrowhead\":0,\"arrowwidth\":1},\"autotypenumbers\":\"strict\",\"coloraxis\":{\"colorbar\":{\"outlinewidth\":1,\"tickcolor\":\"rgb(36,36,36)\",\"ticks\":\"outside\"}},\"colorscale\":{\"diverging\":[[0.0,\"rgb(103,0,31)\"],[0.1,\"rgb(178,24,43)\"],[0.2,\"rgb(214,96,77)\"],[0.3,\"rgb(244,165,130)\"],[0.4,\"rgb(253,219,199)\"],[0.5,\"rgb(247,247,247)\"],[0.6,\"rgb(209,229,240)\"],[0.7,\"rgb(146,197,222)\"],[0.8,\"rgb(67,147,195)\"],[0.9,\"rgb(33,102,172)\"],[1.0,\"rgb(5,48,97)\"]],\"sequential\":[[0.0,\"#440154\"],[0.1111111111111111,\"#482878\"],[0.2222222222222222,\"#3e4989\"],[0.3333333333333333,\"#31688e\"],[0.4444444444444444,\"#26828e\"],[0.5555555555555556,\"#1f9e89\"],[0.6666666666666666,\"#35b779\"],[0.7777777777777778,\"#6ece58\"],[0.8888888888888888,\"#b5de2b\"],[1.0,\"#fde725\"]],\"sequentialminus\":[[0.0,\"#440154\"],[0.1111111111111111,\"#482878\"],[0.2222222222222222,\"#3e4989\"],[0.3333333333333333,\"#31688e\"],[0.4444444444444444,\"#26828e\"],[0.5555555555555556,\"#1f9e89\"],[0.6666666666666666,\"#35b779\"],[0.7777777777777778,\"#6ece58\"],[0.8888888888888888,\"#b5de2b\"],[1.0,\"#fde725\"]]},\"colorway\":[\"#1F77B4\",\"#FF7F0E\",\"#2CA02C\",\"#D62728\",\"#9467BD\",\"#8C564B\",\"#E377C2\",\"#7F7F7F\",\"#BCBD22\",\"#17BECF\"],\"font\":{\"color\":\"rgb(36,36,36)\"},\"geo\":{\"bgcolor\":\"white\",\"lakecolor\":\"white\",\"landcolor\":\"white\",\"showlakes\":true,\"showland\":true,\"subunitcolor\":\"white\"},\"hoverlabel\":{\"align\":\"left\"},\"hovermode\":\"closest\",\"mapbox\":{\"style\":\"light\"},\"paper_bgcolor\":\"white\",\"plot_bgcolor\":\"white\",\"polar\":{\"angularaxis\":{\"gridcolor\":\"rgb(232,232,232)\",\"linecolor\":\"rgb(36,36,36)\",\"showgrid\":false,\"showline\":true,\"ticks\":\"outside\"},\"bgcolor\":\"white\",\"radialaxis\":{\"gridcolor\":\"rgb(232,232,232)\",\"linecolor\":\"rgb(36,36,36)\",\"showgrid\":false,\"showline\":true,\"ticks\":\"outside\"}},\"scene\":{\"xaxis\":{\"backgroundcolor\":\"white\",\"gridcolor\":\"rgb(232,232,232)\",\"gridwidth\":2,\"linecolor\":\"rgb(36,36,36)\",\"showbackground\":true,\"showgrid\":false,\"showline\":true,\"ticks\":\"outside\",\"zeroline\":false,\"zerolinecolor\":\"rgb(36,36,36)\"},\"yaxis\":{\"backgroundcolor\":\"white\",\"gridcolor\":\"rgb(232,232,232)\",\"gridwidth\":2,\"linecolor\":\"rgb(36,36,36)\",\"showbackground\":true,\"showgrid\":false,\"showline\":true,\"ticks\":\"outside\",\"zeroline\":false,\"zerolinecolor\":\"rgb(36,36,36)\"},\"zaxis\":{\"backgroundcolor\":\"white\",\"gridcolor\":\"rgb(232,232,232)\",\"gridwidth\":2,\"linecolor\":\"rgb(36,36,36)\",\"showbackground\":true,\"showgrid\":false,\"showline\":true,\"ticks\":\"outside\",\"zeroline\":false,\"zerolinecolor\":\"rgb(36,36,36)\"}},\"shapedefaults\":{\"fillcolor\":\"black\",\"line\":{\"width\":0},\"opacity\":0.3},\"ternary\":{\"aaxis\":{\"gridcolor\":\"rgb(232,232,232)\",\"linecolor\":\"rgb(36,36,36)\",\"showgrid\":false,\"showline\":true,\"ticks\":\"outside\"},\"baxis\":{\"gridcolor\":\"rgb(232,232,232)\",\"linecolor\":\"rgb(36,36,36)\",\"showgrid\":false,\"showline\":true,\"ticks\":\"outside\"},\"bgcolor\":\"white\",\"caxis\":{\"gridcolor\":\"rgb(232,232,232)\",\"linecolor\":\"rgb(36,36,36)\",\"showgrid\":false,\"showline\":true,\"ticks\":\"outside\"}},\"title\":{\"x\":0.05},\"xaxis\":{\"automargin\":true,\"gridcolor\":\"rgb(232,232,232)\",\"linecolor\":\"rgb(36,36,36)\",\"showgrid\":false,\"showline\":true,\"ticks\":\"outside\",\"title\":{\"standoff\":15},\"zeroline\":false,\"zerolinecolor\":\"rgb(36,36,36)\"},\"yaxis\":{\"automargin\":true,\"gridcolor\":\"rgb(232,232,232)\",\"linecolor\":\"rgb(36,36,36)\",\"showgrid\":false,\"showline\":true,\"ticks\":\"outside\",\"title\":{\"standoff\":15},\"zeroline\":false,\"zerolinecolor\":\"rgb(36,36,36)\"}}},\"xaxis\":{\"anchor\":\"y\",\"domain\":[0.0,1.0],\"title\":{\"text\":\"Stringency_Index\"}},\"yaxis\":{\"anchor\":\"x\",\"domain\":[0.0,1.0],\"title\":{\"text\":\"Total_Cases\"}},\"legend\":{\"title\":{\"text\":\"Continent\"},\"tracegroupgap\":0,\"itemsizing\":\"constant\"},\"margin\":{\"t\":60},\"title\":{\"text\":\"COVID-19 Cases vs Stringency Index (per Country)\"},\"height\":500},                        {\"responsive\": true}                    ).then(function(){\n",
       "                            \n",
       "var gd = document.getElementById('24f300ac-5149-4e12-bc15-d4f7046f3b25');\n",
       "var x = new MutationObserver(function (mutations, observer) {{\n",
       "        var display = window.getComputedStyle(gd).display;\n",
       "        if (!display || display === 'none') {{\n",
       "            console.log([gd, 'removed!']);\n",
       "            Plotly.purge(gd);\n",
       "            observer.disconnect();\n",
       "        }}\n",
       "}});\n",
       "\n",
       "// Listen for the removal of the full notebook cells\n",
       "var notebookContainer = gd.closest('#notebook-container');\n",
       "if (notebookContainer) {{\n",
       "    x.observe(notebookContainer, {childList: true});\n",
       "}}\n",
       "\n",
       "// Listen for the clearing of the current output cell\n",
       "var outputEl = gd.closest('.output');\n",
       "if (outputEl) {{\n",
       "    x.observe(outputEl, {childList: true});\n",
       "}}\n",
       "\n",
       "                        })                };                });            </script>        </div>"
      ]
     },
     "metadata": {},
     "output_type": "display_data"
    }
   ],
   "source": [
    "fig = px.scatter(df_cov_cont, x='Stringency_Index', y='Total_Cases', hover_name='Country', color='Continent', size='Population', template=\"simple_white\", size_max=50)\n",
    "fig.update_traces(textposition='top center')\n",
    "fig.update_layout(\n",
    "    height=500,\n",
    "    title_text='COVID-19 Cases vs Stringency Index (per Country)'\n",
    ")\n",
    "fig.show()"
   ]
  },
  {
   "cell_type": "code",
   "execution_count": 20,
   "id": "f25bf3a9",
   "metadata": {},
   "outputs": [
    {
     "data": {
      "image/png": "[encoded data removed]",
      "text/plain": [
       "<Figure size 432x288 with 1 Axes>"
      ]
     },
     "metadata": {
      "needs_background": "light"
     },
     "output_type": "display_data"
    }
   ],
   "source": [
    "# Create a scatterplot using matplotlib for another look at how the chosen variables plot against each other.\n",
    "\n",
    "df_cov_cont.plot(x = 'Gdp_Per_Capita', y='Total_Cases',style='o') # The style option creates a scatterplot; without it, we only have lines.\n",
    "plt.title('Total Cases v. GDP Per Capita')  \n",
    "plt.xlabel('Cases')  \n",
    "plt.ylabel('GDP')  \n",
    "plt.show()"
   ]
  },
  {
   "cell_type": "code",
   "execution_count": 21,
   "id": "d95334b9",
   "metadata": {},
   "outputs": [
    {
     "data": {
      "image/png": "[encoded data removed]",
      "text/plain": [
       "<Figure size 432x288 with 1 Axes>"
      ]
     },
     "metadata": {
      "needs_background": "light"
     },
     "output_type": "display_data"
    }
   ],
   "source": [
    "# Create a scatterplot using matplotlib for another look at how the chosen variables plot against each other.\n",
    "\n",
    "df_cov_cont.plot(x = 'Gdp_Per_Capita', y='Human_Dev_Index',style='o') # The style option creates a scatterplot; without it, we only have lines.\n",
    "plt.title('GDP v. Human Development Index')  \n",
    "plt.xlabel('GDP')  \n",
    "plt.ylabel('HDI')  \n",
    "plt.show()"
   ]
  },
  {
   "cell_type": "markdown",
   "id": "cc42f446",
   "metadata": {},
   "source": [
    "## Hypotheses"
   ]
  },
  {
   "cell_type": "markdown",
   "id": "82e286ff",
   "metadata": {},
   "source": [
    "1. The lower a country's GDP, the lower the Human development index.\n",
    "2. The lower a country's GDP, the higher number of cases they have."
   ]
  },
  {
   "cell_type": "markdown",
   "id": "08321dd5",
   "metadata": {},
   "source": [
    "## Reshape into NumPy Arrays"
   ]
  },
  {
   "cell_type": "code",
   "execution_count": 23,
   "id": "223fd2a7",
   "metadata": {},
   "outputs": [],
   "source": [
    "# Reshape the variables into NumPy arrays and put them into separate objects.\n",
    "\n",
    "x = df_cov_cont['Gdp_Per_Capita'].values.reshape(-1,1)\n",
    "y = df_cov_cont['Human_Dev_Index'].values.reshape(-1,1)"
   ]
  },
  {
   "cell_type": "code",
   "execution_count": 24,
   "id": "5249f9d8",
   "metadata": {},
   "outputs": [
    {
     "data": {
      "text/plain": [
       "array([[1.803990e+03],\n",
       "       [9.033240e+03],\n",
       "       [1.391384e+04],\n",
       "       [0.000000e+00],\n",
       "       [4.196370e+03],\n",
       "       [0.000000e+00],\n",
       "       [1.564307e+04],\n",
       "       [1.622906e+04],\n",
       "       [8.787580e+03],\n",
       "       [2.642972e+04],\n",
       "       [4.464871e+04],\n",
       "       [4.543669e+04],\n",
       "       [1.584742e+04],\n",
       "       [2.036413e+04],\n",
       "       [4.329071e+04],\n",
       "       [2.768840e+03],\n",
       "       [1.247368e+04],\n",
       "       [1.716797e+04],\n",
       "       [4.236838e+04],\n",
       "       [5.588830e+03],\n",
       "       [1.523600e+03],\n",
       "       [3.688175e+04],\n",
       "       [6.605500e+03],\n",
       "       [5.199500e+03],\n",
       "       [0.000000e+00],\n",
       "       [8.885030e+03],\n",
       "       [1.086085e+04],\n",
       "       [1.410345e+04],\n",
       "       [0.000000e+00],\n",
       "       [5.446756e+04],\n",
       "       [1.414347e+04],\n",
       "       [1.280220e+03],\n",
       "       [4.824800e+02],\n",
       "       [3.645070e+03],\n",
       "       [2.552310e+03],\n",
       "       [4.401759e+04],\n",
       "       [4.508180e+03],\n",
       "       [3.632397e+04],\n",
       "       [4.903100e+02],\n",
       "       [1.287020e+03],\n",
       "       [1.773351e+04],\n",
       "       [1.530871e+04],\n",
       "       [1.032443e+04],\n",
       "       [8.223600e+02],\n",
       "       [3.619550e+03],\n",
       "       [1.193418e+04],\n",
       "       [2.694630e+03],\n",
       "       [2.266980e+04],\n",
       "       [0.000000e+00],\n",
       "       [0.000000e+00],\n",
       "       [2.447673e+04],\n",
       "       [3.260591e+04],\n",
       "       [6.074700e+02],\n",
       "       [4.668252e+04],\n",
       "       [1.978440e+03],\n",
       "       [6.942450e+03],\n",
       "       [1.460086e+04],\n",
       "       [1.058194e+04],\n",
       "       [1.055021e+04],\n",
       "       [5.332920e+03],\n",
       "       [1.683832e+04],\n",
       "       [1.089170e+03],\n",
       "       [2.948125e+04],\n",
       "       [1.300390e+03],\n",
       "       [0.000000e+00],\n",
       "       [0.000000e+00],\n",
       "       [7.814920e+03],\n",
       "       [4.058572e+04],\n",
       "       [3.860567e+04],\n",
       "       [0.000000e+00],\n",
       "       [1.239364e+04],\n",
       "       [1.147420e+03],\n",
       "       [9.745080e+03],\n",
       "       [4.522924e+04],\n",
       "       [3.163530e+03],\n",
       "       [0.000000e+00],\n",
       "       [2.457438e+04],\n",
       "       [0.000000e+00],\n",
       "       [9.756150e+03],\n",
       "       [0.000000e+00],\n",
       "       [6.211760e+03],\n",
       "       [0.000000e+00],\n",
       "       [1.489000e+03],\n",
       "       [1.090390e+03],\n",
       "       [5.538350e+03],\n",
       "       [1.203330e+03],\n",
       "       [3.398620e+03],\n",
       "       [9.723810e+03],\n",
       "       [2.094843e+04],\n",
       "       [4.648296e+04],\n",
       "       [6.426670e+03],\n",
       "       [1.118874e+04],\n",
       "       [1.908262e+04],\n",
       "       [1.566399e+04],\n",
       "       [6.733529e+04],\n",
       "       [0.000000e+00],\n",
       "       [3.313232e+04],\n",
       "       [3.522008e+04],\n",
       "       [6.159110e+03],\n",
       "       [3.900222e+04],\n",
       "       [0.000000e+00],\n",
       "       [6.437450e+03],\n",
       "       [1.808260e+04],\n",
       "       [2.321120e+03],\n",
       "       [6.553054e+04],\n",
       "       [2.481620e+03],\n",
       "       [4.547780e+03],\n",
       "       [1.994878e+04],\n",
       "       [1.336756e+04],\n",
       "       [1.532250e+03],\n",
       "       [5.556300e+02],\n",
       "       [1.398894e+04],\n",
       "       [0.000000e+00],\n",
       "       [2.952427e+04],\n",
       "       [9.427796e+04],\n",
       "       [1.311121e+04],\n",
       "       [1.026200e+03],\n",
       "       [7.635500e+02],\n",
       "       [2.680816e+04],\n",
       "       [1.156847e+04],\n",
       "       [1.425090e+03],\n",
       "       [3.191811e+04],\n",
       "       [2.679870e+03],\n",
       "       [1.477091e+04],\n",
       "       [1.733647e+04],\n",
       "       [3.954260e+03],\n",
       "       [0.000000e+00],\n",
       "       [8.860500e+03],\n",
       "       [1.205580e+04],\n",
       "       [0.000000e+00],\n",
       "       [6.517560e+03],\n",
       "       [8.153700e+02],\n",
       "       [4.032040e+03],\n",
       "       [7.107670e+03],\n",
       "       [2.442800e+03],\n",
       "       [4.847254e+04],\n",
       "       [0.000000e+00],\n",
       "       [3.608584e+04],\n",
       "       [3.891530e+03],\n",
       "       [6.708800e+02],\n",
       "       [5.338450e+03],\n",
       "       [0.000000e+00],\n",
       "       [6.480006e+04],\n",
       "       [3.796071e+04],\n",
       "       [5.034710e+03],\n",
       "       [3.435810e+03],\n",
       "       [1.704110e+04],\n",
       "       [2.769870e+03],\n",
       "       [6.815410e+03],\n",
       "       [9.781040e+03],\n",
       "       [7.599190e+03],\n",
       "       [2.110663e+04],\n",
       "       [2.214047e+04],\n",
       "       [2.455511e+04],\n",
       "       [1.169356e+05],\n",
       "       [2.331320e+04],\n",
       "       [2.476595e+04],\n",
       "       [1.381200e+03],\n",
       "       [1.744256e+04],\n",
       "       [9.647800e+03],\n",
       "       [7.881170e+03],\n",
       "       [5.686147e+04],\n",
       "       [2.014380e+03],\n",
       "       [3.870250e+04],\n",
       "       [1.974780e+03],\n",
       "       [1.132512e+04],\n",
       "       [1.965211e+04],\n",
       "       [9.552400e+02],\n",
       "       [8.553538e+04],\n",
       "       [2.792502e+04],\n",
       "       [2.338563e+04],\n",
       "       [2.435167e+04],\n",
       "       [3.001000e+01],\n",
       "       [0.000000e+00],\n",
       "       [1.070574e+04],\n",
       "       [3.593837e+04],\n",
       "       [1.051930e+03],\n",
       "       [3.415579e+04],\n",
       "       [1.166908e+04],\n",
       "       [3.342280e+03],\n",
       "       [1.002096e+04],\n",
       "       [5.764750e+03],\n",
       "       [4.647021e+04],\n",
       "       [5.741017e+04],\n",
       "       [0.000000e+00],\n",
       "       [0.000000e+00],\n",
       "       [1.694790e+03],\n",
       "       [1.980530e+03],\n",
       "       [1.627767e+04],\n",
       "       [4.737620e+03],\n",
       "       [1.118560e+03],\n",
       "       [2.162122e+04],\n",
       "       [8.339940e+03],\n",
       "       [1.880427e+04],\n",
       "       [0.000000e+00],\n",
       "       [1.224200e+03],\n",
       "       [6.041630e+03],\n",
       "       [6.729348e+04],\n",
       "       [3.975324e+04],\n",
       "       [5.422545e+04],\n",
       "       [0.000000e+00],\n",
       "       [1.530870e+04],\n",
       "       [4.636660e+03],\n",
       "       [0.000000e+00],\n",
       "       [1.247333e+04],\n",
       "       [6.171880e+03],\n",
       "       [9.710000e+02],\n",
       "       [2.697920e+03],\n",
       "       [1.376370e+03]])"
      ]
     },
     "execution_count": 24,
     "metadata": {},
     "output_type": "execute_result"
    }
   ],
   "source": [
    "x"
   ]
  },
  {
   "cell_type": "code",
   "execution_count": 25,
   "id": "f301fe47",
   "metadata": {},
   "outputs": [
    {
     "data": {
      "text/plain": [
       "array([[0.5 ],\n",
       "       [0.6 ],\n",
       "       [0.75],\n",
       "       [0.66],\n",
       "       [0.42],\n",
       "       [0.  ],\n",
       "       [0.57],\n",
       "       [0.71],\n",
       "       [0.76],\n",
       "       [0.  ],\n",
       "       [0.94],\n",
       "       [0.91],\n",
       "       [0.76],\n",
       "       [0.59],\n",
       "       [0.85],\n",
       "       [0.48],\n",
       "       [0.59],\n",
       "       [0.81],\n",
       "       [0.91],\n",
       "       [0.51],\n",
       "       [0.38],\n",
       "       [0.  ],\n",
       "       [0.46],\n",
       "       [0.52],\n",
       "       [0.  ],\n",
       "       [0.58],\n",
       "       [0.49],\n",
       "       [0.76],\n",
       "       [0.  ],\n",
       "       [0.65],\n",
       "       [0.62],\n",
       "       [0.32],\n",
       "       [0.29],\n",
       "       [0.58],\n",
       "       [0.42],\n",
       "       [0.93],\n",
       "       [0.47],\n",
       "       [0.  ],\n",
       "       [0.27],\n",
       "       [0.29],\n",
       "       [0.66],\n",
       "       [0.75],\n",
       "       [0.58],\n",
       "       [0.29],\n",
       "       [0.45],\n",
       "       [0.61],\n",
       "       [0.37],\n",
       "       [0.83],\n",
       "       [0.58],\n",
       "       [0.  ],\n",
       "       [0.66],\n",
       "       [0.89],\n",
       "       [0.34],\n",
       "       [0.93],\n",
       "       [0.35],\n",
       "       [0.51],\n",
       "       [0.74],\n",
       "       [0.75],\n",
       "       [0.7 ],\n",
       "       [0.49],\n",
       "       [0.44],\n",
       "       [0.32],\n",
       "       [0.87],\n",
       "       [0.35],\n",
       "       [0.  ],\n",
       "       [0.  ],\n",
       "       [0.67],\n",
       "       [0.92],\n",
       "       [0.9 ],\n",
       "       [0.  ],\n",
       "       [0.53],\n",
       "       [0.34],\n",
       "       [0.78],\n",
       "       [0.94],\n",
       "       [0.44],\n",
       "       [0.  ],\n",
       "       [0.87],\n",
       "       [0.  ],\n",
       "       [0.55],\n",
       "       [0.  ],\n",
       "       [0.54],\n",
       "       [0.  ],\n",
       "       [0.34],\n",
       "       [0.32],\n",
       "       [0.49],\n",
       "       [0.36],\n",
       "       [0.46],\n",
       "       [0.16],\n",
       "       [0.66],\n",
       "       [0.94],\n",
       "       [0.64],\n",
       "       [0.69],\n",
       "       [0.8 ],\n",
       "       [0.69],\n",
       "       [0.94],\n",
       "       [0.  ],\n",
       "       [0.9 ],\n",
       "       [0.88],\n",
       "       [0.55],\n",
       "       [0.91],\n",
       "       [0.  ],\n",
       "       [0.57],\n",
       "       [0.6 ],\n",
       "       [0.46],\n",
       "       [0.8 ],\n",
       "       [0.49],\n",
       "       [0.43],\n",
       "       [0.67],\n",
       "       [0.76],\n",
       "       [0.28],\n",
       "       [0.32],\n",
       "       [0.55],\n",
       "       [0.7 ],\n",
       "       [0.86],\n",
       "       [0.9 ],\n",
       "       [0.76],\n",
       "       [0.38],\n",
       "       [0.33],\n",
       "       [0.8 ],\n",
       "       [0.55],\n",
       "       [0.3 ],\n",
       "       [0.77],\n",
       "       [0.39],\n",
       "       [0.58],\n",
       "       [0.77],\n",
       "       [0.53],\n",
       "       [0.  ],\n",
       "       [0.55],\n",
       "       [0.6 ],\n",
       "       [0.  ],\n",
       "       [0.58],\n",
       "       [0.31],\n",
       "       [0.42],\n",
       "       [0.48],\n",
       "       [0.57],\n",
       "       [0.93],\n",
       "       [0.  ],\n",
       "       [0.92],\n",
       "       [0.48],\n",
       "       [0.26],\n",
       "       [0.53],\n",
       "       [0.  ],\n",
       "       [0.95],\n",
       "       [0.82],\n",
       "       [0.56],\n",
       "       [0.53],\n",
       "       [0.6 ],\n",
       "       [0.39],\n",
       "       [0.54],\n",
       "       [0.6 ],\n",
       "       [0.7 ],\n",
       "       [0.67],\n",
       "       [0.67],\n",
       "       [0.  ],\n",
       "       [0.86],\n",
       "       [0.81],\n",
       "       [0.82],\n",
       "       [0.39],\n",
       "       [0.55],\n",
       "       [0.56],\n",
       "       [0.53],\n",
       "       [0.  ],\n",
       "       [0.39],\n",
       "       [0.67],\n",
       "       [0.4 ],\n",
       "       [0.63],\n",
       "       [0.59],\n",
       "       [0.29],\n",
       "       [0.93],\n",
       "       [0.  ],\n",
       "       [0.66],\n",
       "       [0.69],\n",
       "       [0.01],\n",
       "       [0.  ],\n",
       "       [0.61],\n",
       "       [0.9 ],\n",
       "       [0.26],\n",
       "       [0.89],\n",
       "       [0.77],\n",
       "       [0.38],\n",
       "       [0.52],\n",
       "       [0.44],\n",
       "       [0.92],\n",
       "       [0.94],\n",
       "       [0.38],\n",
       "       [0.  ],\n",
       "       [0.38],\n",
       "       [0.4 ],\n",
       "       [0.76],\n",
       "       [0.45],\n",
       "       [0.39],\n",
       "       [0.59],\n",
       "       [0.56],\n",
       "       [0.59],\n",
       "       [0.  ],\n",
       "       [0.37],\n",
       "       [0.57],\n",
       "       [0.86],\n",
       "       [0.92],\n",
       "       [0.92],\n",
       "       [0.  ],\n",
       "       [0.6 ],\n",
       "       [0.53],\n",
       "       [0.  ],\n",
       "       [0.57],\n",
       "       [0.69],\n",
       "       [0.3 ],\n",
       "       [0.43],\n",
       "       [0.39]])"
      ]
     },
     "execution_count": 25,
     "metadata": {},
     "output_type": "execute_result"
    }
   ],
   "source": [
    "y"
   ]
  },
  {
   "cell_type": "code",
   "execution_count": 27,
   "id": "4974d881",
   "metadata": {},
   "outputs": [],
   "source": [
    "# Split data into a training set and a test set.\n",
    "\n",
    "x_train, x_test, y_train, y_test = train_test_split(x, y, test_size=0.3, random_state=0)"
   ]
  },
  {
   "cell_type": "markdown",
   "id": "4189a487",
   "metadata": {},
   "source": [
    "## Regression Analysis"
   ]
  },
  {
   "cell_type": "code",
   "execution_count": 28,
   "id": "ca15c6c3",
   "metadata": {},
   "outputs": [],
   "source": [
    "# Create a regression object.\n",
    "\n",
    "regression = LinearRegression()  # This is the regression object, which will be fit onto the training set."
   ]
  },
  {
   "cell_type": "code",
   "execution_count": 29,
   "id": "3a5eef53",
   "metadata": {},
   "outputs": [
    {
     "data": {
      "text/plain": [
       "LinearRegression()"
      ]
     },
     "execution_count": 29,
     "metadata": {},
     "output_type": "execute_result"
    }
   ],
   "source": [
    "# Fit the regression object onto the training set.\n",
    "\n",
    "regression.fit(x_train, y_train)"
   ]
  },
  {
   "cell_type": "code",
   "execution_count": 30,
   "id": "c94eadfa",
   "metadata": {},
   "outputs": [],
   "source": [
    "# Predict the values of y using x.\n",
    "\n",
    "y_predicted = regression.predict(x_test)"
   ]
  },
  {
   "cell_type": "code",
   "execution_count": 34,
   "id": "f0065ec3",
   "metadata": {},
   "outputs": [
    {
     "data": {
      "image/png": "[encoded data removed]",
      "text/plain": [
       "<Figure size 432x288 with 1 Axes>"
      ]
     },
     "metadata": {
      "needs_background": "light"
     },
     "output_type": "display_data"
    }
   ],
   "source": [
    "# Create a plot that shows the regression line from the model on the test set.\n",
    "\n",
    "plot_test = plt\n",
    "plot_test.scatter(x_test, y_test, color='gray', s = 15)\n",
    "plot_test.plot(x_test, y_predicted, color='green', linewidth =3)\n",
    "plot_test.title('GDP v. HDI (Test set)')\n",
    "plot_test.xlabel('GDP')\n",
    "plot_test.ylabel('HDI')\n",
    "plot_test.show()"
   ]
  },
  {
   "cell_type": "markdown",
   "id": "17d2bcec",
   "metadata": {},
   "source": [
    "### Test interpretation\n",
    "It definitely looks like the line matches the scatterplot of data. In other words, there appears to be a strong relationship between HDI and GDP"
   ]
  },
  {
   "cell_type": "code",
   "execution_count": 35,
   "id": "0c54f477",
   "metadata": {},
   "outputs": [],
   "source": [
    "# Model Performance Stats\n",
    "\n",
    "rmse = mean_squared_error(y_test, y_predicted) # This is the mean squared error\n",
    "r2 = r2_score(y_test, y_predicted) # This is the R2 score. "
   ]
  },
  {
   "cell_type": "code",
   "execution_count": 36,
   "id": "4cf50427",
   "metadata": {},
   "outputs": [
    {
     "name": "stdout",
     "output_type": "stream",
     "text": [
      "Slope: [[9.76734074e-06]]\n",
      "Mean squared error:  0.045027632978715836\n",
      "R2 score:  0.2754038864171353\n"
     ]
    }
   ],
   "source": [
    "# Print the model summary statistics.\n",
    "\n",
    "print('Slope:' ,regression.coef_)\n",
    "print('Mean squared error: ', rmse)\n",
    "print('R2 score: ', r2)"
   ]
  },
  {
   "cell_type": "code",
   "execution_count": 37,
   "id": "84606a30",
   "metadata": {},
   "outputs": [
    {
     "data": {
      "text/plain": [
       "array([[0.52025384],\n",
       "       [0.42613907],\n",
       "       [0.40106933],\n",
       "       [0.36546669],\n",
       "       [0.3848112 ],\n",
       "       [0.3761169 ],\n",
       "       [0.37548994],\n",
       "       [0.39164189],\n",
       "       [0.42823817],\n",
       "       [1.50761654],\n",
       "       [0.48203189],\n",
       "       [0.60736416],\n",
       "       [0.37140006],\n",
       "       [0.41174064],\n",
       "       [0.68908135],\n",
       "       [0.39866217],\n",
       "       [0.42574955],\n",
       "       [0.72025528],\n",
       "       [0.44179768],\n",
       "       [0.77929309],\n",
       "       [0.59388211],\n",
       "       [0.39251089],\n",
       "       [0.52398145],\n",
       "       [0.43327597],\n",
       "       [0.55185314],\n",
       "       [0.38932635],\n",
       "       [0.4040893 ],\n",
       "       [0.5347979 ],\n",
       "       [0.53583412],\n",
       "       [0.36546669],\n",
       "       [0.36546669],\n",
       "       [0.46100144],\n",
       "       [0.40347659],\n",
       "       [0.37667393],\n",
       "       [0.38202028],\n",
       "       [0.39902542],\n",
       "       [0.37574125],\n",
       "       [0.62731112],\n",
       "       [0.48730137],\n",
       "       [0.83891451],\n",
       "       [0.37639205],\n",
       "       [0.42998486],\n",
       "       [1.0055258 ],\n",
       "       [0.36546669],\n",
       "       [0.40645407],\n",
       "       [0.39636597],\n",
       "       [0.36546669],\n",
       "       [0.40082007],\n",
       "       [0.37816804],\n",
       "       [0.4960322 ],\n",
       "       [0.47154831],\n",
       "       [0.42834346],\n",
       "       [0.55741555],\n",
       "       [1.02274504],\n",
       "       [0.45129798],\n",
       "       [0.53867593],\n",
       "       [0.3804327 ],\n",
       "       [0.36546669],\n",
       "       [0.36546669],\n",
       "       [0.37089372],\n",
       "       [0.57664851],\n",
       "       [0.56031322],\n",
       "       [0.60549303]])"
      ]
     },
     "execution_count": 37,
     "metadata": {},
     "output_type": "execute_result"
    }
   ],
   "source": [
    "y_predicted"
   ]
  },
  {
   "cell_type": "code",
   "execution_count": 38,
   "id": "854a79f2",
   "metadata": {},
   "outputs": [
    {
     "data": {
      "text/html": [
       "<div>\n",
       "<style scoped>\n",
       "    .dataframe tbody tr th:only-of-type {\n",
       "        vertical-align: middle;\n",
       "    }\n",
       "\n",
       "    .dataframe tbody tr th {\n",
       "        vertical-align: top;\n",
       "    }\n",
       "\n",
       "    .dataframe thead th {\n",
       "        text-align: right;\n",
       "    }\n",
       "</style>\n",
       "<table border=\"1\" class=\"dataframe\">\n",
       "  <thead>\n",
       "    <tr style=\"text-align: right;\">\n",
       "      <th></th>\n",
       "      <th>Actual</th>\n",
       "      <th>Predicted</th>\n",
       "    </tr>\n",
       "  </thead>\n",
       "  <tbody>\n",
       "    <tr>\n",
       "      <th>0</th>\n",
       "      <td>0.76</td>\n",
       "      <td>0.520254</td>\n",
       "    </tr>\n",
       "    <tr>\n",
       "      <th>1</th>\n",
       "      <td>0.54</td>\n",
       "      <td>0.426139</td>\n",
       "    </tr>\n",
       "    <tr>\n",
       "      <th>2</th>\n",
       "      <td>0.58</td>\n",
       "      <td>0.401069</td>\n",
       "    </tr>\n",
       "    <tr>\n",
       "      <th>3</th>\n",
       "      <td>0.00</td>\n",
       "      <td>0.365467</td>\n",
       "    </tr>\n",
       "    <tr>\n",
       "      <th>4</th>\n",
       "      <td>0.40</td>\n",
       "      <td>0.384811</td>\n",
       "    </tr>\n",
       "    <tr>\n",
       "      <th>5</th>\n",
       "      <td>0.32</td>\n",
       "      <td>0.376117</td>\n",
       "    </tr>\n",
       "    <tr>\n",
       "      <th>6</th>\n",
       "      <td>0.38</td>\n",
       "      <td>0.375490</td>\n",
       "    </tr>\n",
       "    <tr>\n",
       "      <th>7</th>\n",
       "      <td>0.39</td>\n",
       "      <td>0.391642</td>\n",
       "    </tr>\n",
       "    <tr>\n",
       "      <th>8</th>\n",
       "      <td>0.64</td>\n",
       "      <td>0.428238</td>\n",
       "    </tr>\n",
       "    <tr>\n",
       "      <th>9</th>\n",
       "      <td>0.86</td>\n",
       "      <td>1.507617</td>\n",
       "    </tr>\n",
       "    <tr>\n",
       "      <th>10</th>\n",
       "      <td>0.61</td>\n",
       "      <td>0.482032</td>\n",
       "    </tr>\n",
       "    <tr>\n",
       "      <th>11</th>\n",
       "      <td>0.82</td>\n",
       "      <td>0.607364</td>\n",
       "    </tr>\n",
       "    <tr>\n",
       "      <th>12</th>\n",
       "      <td>0.34</td>\n",
       "      <td>0.371400</td>\n",
       "    </tr>\n",
       "    <tr>\n",
       "      <th>13</th>\n",
       "      <td>0.45</td>\n",
       "      <td>0.411741</td>\n",
       "    </tr>\n",
       "    <tr>\n",
       "      <th>14</th>\n",
       "      <td>0.90</td>\n",
       "      <td>0.689081</td>\n",
       "    </tr>\n",
       "    <tr>\n",
       "      <th>15</th>\n",
       "      <td>0.46</td>\n",
       "      <td>0.398662</td>\n",
       "    </tr>\n",
       "    <tr>\n",
       "      <th>16</th>\n",
       "      <td>0.69</td>\n",
       "      <td>0.425750</td>\n",
       "    </tr>\n",
       "    <tr>\n",
       "      <th>17</th>\n",
       "      <td>0.00</td>\n",
       "      <td>0.720255</td>\n",
       "    </tr>\n",
       "    <tr>\n",
       "      <th>18</th>\n",
       "      <td>0.67</td>\n",
       "      <td>0.441798</td>\n",
       "    </tr>\n",
       "    <tr>\n",
       "      <th>19</th>\n",
       "      <td>0.91</td>\n",
       "      <td>0.779293</td>\n",
       "    </tr>\n",
       "    <tr>\n",
       "      <th>20</th>\n",
       "      <td>0.66</td>\n",
       "      <td>0.593882</td>\n",
       "    </tr>\n",
       "    <tr>\n",
       "      <th>21</th>\n",
       "      <td>0.48</td>\n",
       "      <td>0.392511</td>\n",
       "    </tr>\n",
       "    <tr>\n",
       "      <th>22</th>\n",
       "      <td>0.71</td>\n",
       "      <td>0.523981</td>\n",
       "    </tr>\n",
       "    <tr>\n",
       "      <th>23</th>\n",
       "      <td>0.51</td>\n",
       "      <td>0.433276</td>\n",
       "    </tr>\n",
       "    <tr>\n",
       "      <th>24</th>\n",
       "      <td>0.80</td>\n",
       "      <td>0.551853</td>\n",
       "    </tr>\n",
       "    <tr>\n",
       "      <th>25</th>\n",
       "      <td>0.57</td>\n",
       "      <td>0.389326</td>\n",
       "    </tr>\n",
       "    <tr>\n",
       "      <th>26</th>\n",
       "      <td>0.53</td>\n",
       "      <td>0.404089</td>\n",
       "    </tr>\n",
       "    <tr>\n",
       "      <th>27</th>\n",
       "      <td>0.77</td>\n",
       "      <td>0.534798</td>\n",
       "    </tr>\n",
       "    <tr>\n",
       "      <th>28</th>\n",
       "      <td>0.55</td>\n",
       "      <td>0.535834</td>\n",
       "    </tr>\n",
       "    <tr>\n",
       "      <th>29</th>\n",
       "      <td>0.38</td>\n",
       "      <td>0.365467</td>\n",
       "    </tr>\n",
       "  </tbody>\n",
       "</table>\n",
       "</div>"
      ],
      "text/plain": [
       "    Actual  Predicted\n",
       "0     0.76   0.520254\n",
       "1     0.54   0.426139\n",
       "2     0.58   0.401069\n",
       "3     0.00   0.365467\n",
       "4     0.40   0.384811\n",
       "5     0.32   0.376117\n",
       "6     0.38   0.375490\n",
       "7     0.39   0.391642\n",
       "8     0.64   0.428238\n",
       "9     0.86   1.507617\n",
       "10    0.61   0.482032\n",
       "11    0.82   0.607364\n",
       "12    0.34   0.371400\n",
       "13    0.45   0.411741\n",
       "14    0.90   0.689081\n",
       "15    0.46   0.398662\n",
       "16    0.69   0.425750\n",
       "17    0.00   0.720255\n",
       "18    0.67   0.441798\n",
       "19    0.91   0.779293\n",
       "20    0.66   0.593882\n",
       "21    0.48   0.392511\n",
       "22    0.71   0.523981\n",
       "23    0.51   0.433276\n",
       "24    0.80   0.551853\n",
       "25    0.57   0.389326\n",
       "26    0.53   0.404089\n",
       "27    0.77   0.534798\n",
       "28    0.55   0.535834\n",
       "29    0.38   0.365467"
      ]
     },
     "execution_count": 38,
     "metadata": {},
     "output_type": "execute_result"
    }
   ],
   "source": [
    "# Create a dataframe comparing the actual and predicted values of y.\n",
    "\n",
    "data = pd.DataFrame({'Actual': y_test.flatten(), 'Predicted': y_predicted.flatten()})\n",
    "data.head(30)"
   ]
  },
  {
   "cell_type": "code",
   "execution_count": 39,
   "id": "68838ea3",
   "metadata": {},
   "outputs": [],
   "source": [
    "# Predict.\n",
    "\n",
    "y_predicted_train = regression.predict(x_train)"
   ]
  },
  {
   "cell_type": "code",
   "execution_count": 40,
   "id": "ce660775",
   "metadata": {},
   "outputs": [],
   "source": [
    "rmse = mean_squared_error(y_train, y_predicted_train)\n",
    "r2 = r2_score(y_train, y_predicted_train)"
   ]
  },
  {
   "cell_type": "code",
   "execution_count": 41,
   "id": "f37b0325",
   "metadata": {},
   "outputs": [
    {
     "name": "stdout",
     "output_type": "stream",
     "text": [
      "Slope: [[9.76734074e-06]]\n",
      "Mean squared error:  0.05112605535006958\n",
      "R2 score:  0.3881777859955958\n"
     ]
    }
   ],
   "source": [
    "print('Slope:' ,regression.coef_)\n",
    "print('Mean squared error: ', rmse)\n",
    "print('R2 score: ', r2)"
   ]
  },
  {
   "cell_type": "markdown",
   "id": "207953aa",
   "metadata": {},
   "source": [
    "## How the model performed-\n",
    "\n",
    "The model performed fairly well, the mean squared error was almost the same but the R2 score was roughly 0.1 off."
   ]
  },
  {
   "cell_type": "markdown",
   "id": "c9144ea6",
   "metadata": {},
   "source": [
    "### There is some data bias in this set when it comes to the misreporting of total cases in the continent of China."
   ]
  },
  {
   "cell_type": "code",
   "execution_count": null,
   "id": "31436f7c",
   "metadata": {},
   "outputs": [],
   "source": []
  }
 ],
 "metadata": {
  "kernelspec": {
   "display_name": "Python 3",
   "language": "python",
   "name": "python3"
  },
  "language_info": {
   "codemirror_mode": {
    "name": "ipython",
    "version": 3
   },
   "file_extension": ".py",
   "mimetype": "text/x-python",
   "name": "python",
   "nbconvert_exporter": "python",
   "pygments_lexer": "ipython3",
   "version": "3.8.8"
  }
 },
 "nbformat": 4,
 "nbformat_minor": 5
}
